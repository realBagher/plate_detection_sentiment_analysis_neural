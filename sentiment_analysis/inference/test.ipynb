{
 "cells": [
  {
   "cell_type": "code",
   "execution_count": null,
   "metadata": {},
   "outputs": [
    {
     "name": "stderr",
     "output_type": "stream",
     "text": [
      "Device set to use cuda:0\n"
     ]
    }
   ],
   "source": [
    "from transformers import pipeline\n",
    "import pandas as pd\n",
    "\n",
    "sentiment_analysis = pipeline(\"text-classification\", \n",
    "                              model=\"./fine_tuned_model\", \n",
    "                              tokenizer=\"distilbert-base-uncased\",\n",
    "                              truncation=True,\n",
    "                              max_length=512)\n",
    "\n",
    "df = pd.read_csv(\"./data/test_data.csv\")\n",
    "\n",
    "reviews = df[\"reviewText\"].to_list()\n",
    "\n",
    "predictions = sentiment_analysis(reviews)\n",
    "\n",
    "ratings = [int(pred['label'].split('_')[1]) + 1 for pred in predictions]\n",
    "\n",
    "final = pd.DataFrame({\n",
    "    \"predicted\": ratings\n",
    "}).to_csv(\"q2_submission.csv\", index=False)"
   ]
  }
 ],
 "metadata": {
  "kernelspec": {
   "display_name": ".venv",
   "language": "python",
   "name": "python3"
  },
  "language_info": {
   "codemirror_mode": {
    "name": "ipython",
    "version": 3
   },
   "file_extension": ".py",
   "mimetype": "text/x-python",
   "name": "python",
   "nbconvert_exporter": "python",
   "pygments_lexer": "ipython3",
   "version": "3.11.2"
  }
 },
 "nbformat": 4,
 "nbformat_minor": 2
}
