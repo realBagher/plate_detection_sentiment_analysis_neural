{
 "cells": [
  {
   "cell_type": "code",
   "id": "initial_id",
   "metadata": {
    "collapsed": true,
    "ExecuteTime": {
     "end_time": "2025-02-24T12:34:52.353999Z",
     "start_time": "2025-02-24T12:34:52.053333Z"
    }
   },
   "source": [
    "import os\n",
    "import glob\n",
    "import xml.etree.ElementTree as ET\n",
    "import cv2\n",
    "\n",
    "# Example directories for detection and recognition:\n",
    "# (Adjust these paths to match your folder structure)\n",
    "car_test_dir = \"./test\"              # e.g. \"./test\" contains day_00010.xml and day_00010.jpg\n",
    "car_val_dir  = \"./validation\"        # Change as needed\n",
    "plate_dir    = \"./train\"      # For recognition, plate images and XML files\n"
   ],
   "outputs": [
    {
     "ename": "ModuleNotFoundError",
     "evalue": "No module named 'cv2'",
     "output_type": "error",
     "traceback": [
      "\u001B[0;31m---------------------------------------------------------------------------\u001B[0m",
      "\u001B[0;31mModuleNotFoundError\u001B[0m                       Traceback (most recent call last)",
      "Cell \u001B[0;32mIn[1], line 4\u001B[0m\n\u001B[1;32m      2\u001B[0m \u001B[38;5;28;01mimport\u001B[39;00m \u001B[38;5;21;01mglob\u001B[39;00m\n\u001B[1;32m      3\u001B[0m \u001B[38;5;28;01mimport\u001B[39;00m \u001B[38;5;21;01mxml\u001B[39;00m\u001B[38;5;21;01m.\u001B[39;00m\u001B[38;5;21;01metree\u001B[39;00m\u001B[38;5;21;01m.\u001B[39;00m\u001B[38;5;21;01mElementTree\u001B[39;00m \u001B[38;5;28;01mas\u001B[39;00m \u001B[38;5;21;01mET\u001B[39;00m\n\u001B[0;32m----> 4\u001B[0m \u001B[38;5;28;01mimport\u001B[39;00m \u001B[38;5;21;01mcv2\u001B[39;00m\n\u001B[1;32m      6\u001B[0m \u001B[38;5;66;03m# Example directories for detection and recognition:\u001B[39;00m\n\u001B[1;32m      7\u001B[0m \u001B[38;5;66;03m# (Adjust these paths to match your folder structure)\u001B[39;00m\n\u001B[1;32m      8\u001B[0m car_test_dir \u001B[38;5;241m=\u001B[39m \u001B[38;5;124m\"\u001B[39m\u001B[38;5;124m./test\u001B[39m\u001B[38;5;124m\"\u001B[39m              \u001B[38;5;66;03m# e.g. \"./test\" contains day_00010.xml and day_00010.jpg\u001B[39;00m\n",
      "\u001B[0;31mModuleNotFoundError\u001B[0m: No module named 'cv2'"
     ]
    }
   ],
   "execution_count": 1
  },
  {
   "metadata": {
    "ExecuteTime": {
     "end_time": "2025-02-24T09:10:45.920521Z",
     "start_time": "2025-02-24T09:10:45.916973Z"
    }
   },
   "cell_type": "code",
   "source": [
    "def get_image_filename(xml_file):\n",
    "    \"\"\"\n",
    "    Given an xml_file path and the extracted filename from <filename>,\n",
    "    determine the full path to the corresponding image.\n",
    "    Uses the XML file's directory as the base.\n",
    "    \"\"\"\n",
    "    base_dir = os.path.dirname(xml_file)  # use the XML file’s directory\n",
    "    \n",
    "    candidate = str.split(str.split(xml_file, \"/\")[-1], \".\")[0] + \".jpg\"\n",
    "    print(candidate)\n",
    "    \n",
    "    return candidate"
   ],
   "id": "d659ddf6fc7a884",
   "outputs": [],
   "execution_count": 29
  },
  {
   "metadata": {
    "ExecuteTime": {
     "end_time": "2025-02-24T09:35:19.527975Z",
     "start_time": "2025-02-24T09:35:16.949234Z"
    }
   },
   "cell_type": "code",
   "source": [
    "def convert_voc_to_yolo_for_detection(xml_dir, target_class=\"کل ناحیه پلاک\"):\n",
    "    \"\"\"\n",
    "    Converts VOC-style XML annotations in xml_dir to YOLO-format text files.\n",
    "    Only objects with a <name> equal to target_class are used.\n",
    "    The resulting .txt file is saved in the same directory as the image.\n",
    "    \"\"\"\n",
    "    xml_files = glob.glob(os.path.join(xml_dir, \"*.xml\"))\n",
    "    converted_count = 0\n",
    "    \n",
    "    for xml_file in xml_files:\n",
    "        try:\n",
    "            tree = ET.parse(xml_file)\n",
    "            root = tree.getroot()\n",
    "        except Exception as e:\n",
    "            print(f\"Error parsing {xml_file}: {e}\")\n",
    "            continue\n",
    "\n",
    "        # Extract filename from XML; use helper function if necessary.\n",
    "        image_filename = get_image_filename(xml_file)\n",
    "        image_path = os.path.join(xml_dir, image_filename)\n",
    "        \n",
    "        # Read the image (without modifying it) to get its dimensions.\n",
    "        img = cv2.imread(image_path)\n",
    "        if img is None:\n",
    "            print(f\"Could not read image {image_path}\")\n",
    "            continue\n",
    "        height, width = img.shape[:2]\n",
    "\n",
    "        yolo_lines = []\n",
    "        for obj in root.findall('object'):\n",
    "            name_node = obj.find('name')\n",
    "            if name_node is None:\n",
    "                continue\n",
    "            name = name_node.text.strip()\n",
    "            if name != target_class:\n",
    "                continue\n",
    "            bndbox = obj.find('bndbox')\n",
    "            if bndbox is None:\n",
    "                continue\n",
    "            try:\n",
    "                xmin = float(bndbox.find('xmin').text)\n",
    "                ymin = float(bndbox.find('ymin').text)\n",
    "                xmax = float(bndbox.find('xmax').text)\n",
    "                ymax = float(bndbox.find('ymax').text)\n",
    "            except Exception as e:\n",
    "                print(f\"Error reading bounding box in {xml_file}: {e}\")\n",
    "                continue\n",
    "\n",
    "            # Convert absolute VOC coordinates to normalized YOLO format\n",
    "            x_center = ((xmin + xmax) / 2.0) / width\n",
    "            y_center = ((ymin + ymax) / 2.0) / height\n",
    "            box_width = (xmax - xmin) / width\n",
    "            box_height = (ymax - ymin) / height\n",
    "\n",
    "            # For detection training, assume a single class with index 0.\n",
    "            yolo_line = f\"0 {x_center:.6f} {y_center:.6f} {box_width:.6f} {box_height:.6f}\"\n",
    "            yolo_lines.append(yolo_line)\n",
    "        \n",
    "        if yolo_lines:\n",
    "            base_name = os.path.splitext(image_filename)[0]\n",
    "            txt_filename = os.path.join(xml_dir, base_name + \".txt\")\n",
    "            with open(txt_filename, \"w\", encoding=\"utf-8\") as f:\n",
    "                f.write(\"\\n\".join(yolo_lines))\n",
    "            converted_count += 1\n",
    "    print(f\"Converted {converted_count} XML files in {xml_dir} to YOLO-format annotations.\")\n",
    "\n",
    "# Run conversion for car detection annotations in both directories.\n",
    "convert_voc_to_yolo_for_detection(car_test_dir, target_class=\"کل ناحیه پلاک\")\n",
    "convert_voc_to_yolo_for_detection(car_val_dir, target_class=\"کل ناحیه پلاک\")"
   ],
   "id": "cee3f629daeb7582",
   "outputs": [
    {
     "name": "stdout",
     "output_type": "stream",
     "text": [
      "day_00010.jpg\n",
      "day_00019.jpg\n",
      "day_00026.jpg\n",
      "day_00027.jpg\n",
      "day_00029.jpg\n",
      "day_00038.jpg\n",
      "day_00042.jpg\n",
      "day_00050.jpg\n",
      "day_00055.jpg\n",
      "day_00056.jpg\n",
      "day_00059.jpg\n",
      "day_00069.jpg\n",
      "day_00075.jpg\n",
      "day_00083.jpg\n",
      "day_00100.jpg\n",
      "day_00102.jpg\n",
      "day_00103.jpg\n",
      "day_00104.jpg\n",
      "day_00105.jpg\n",
      "day_00109.jpg\n",
      "day_00114.jpg\n",
      "day_00116.jpg\n",
      "day_00120.jpg\n",
      "day_00125.jpg\n",
      "day_00126.jpg\n",
      "day_00132.jpg\n",
      "day_00133.jpg\n",
      "day_00140.jpg\n",
      "day_00142.jpg\n",
      "day_00144.jpg\n",
      "day_00149.jpg\n",
      "day_00159.jpg\n",
      "day_00160.jpg\n",
      "day_00161.jpg\n",
      "day_00162.jpg\n",
      "day_00166.jpg\n",
      "day_00173.jpg\n",
      "day_00179.jpg\n",
      "day_00180.jpg\n",
      "day_00184.jpg\n",
      "day_00186.jpg\n",
      "day_00188.jpg\n",
      "day_00191.jpg\n",
      "day_00197.jpg\n",
      "day_00198.jpg\n",
      "day_00199.jpg\n",
      "day_00200.jpg\n",
      "day_00201.jpg\n",
      "day_00212.jpg\n",
      "day_00214.jpg\n",
      "day_00222.jpg\n",
      "day_00226.jpg\n",
      "day_00231.jpg\n",
      "day_00236.jpg\n",
      "day_00237.jpg\n",
      "day_00243.jpg\n",
      "day_00246.jpg\n",
      "day_00247.jpg\n",
      "day_00251.jpg\n",
      "day_00252.jpg\n",
      "day_00260.jpg\n",
      "day_00267.jpg\n",
      "day_00268.jpg\n",
      "day_00277.jpg\n",
      "day_00279.jpg\n",
      "day_00285.jpg\n",
      "day_00286.jpg\n",
      "day_00287.jpg\n",
      "day_00293.jpg\n",
      "day_00303.jpg\n",
      "day_00306.jpg\n",
      "day_00308.jpg\n",
      "day_00316.jpg\n",
      "day_00320.jpg\n",
      "day_00328.jpg\n",
      "day_00331.jpg\n",
      "day_00336.jpg\n",
      "day_00338.jpg\n",
      "day_00339.jpg\n",
      "day_00343.jpg\n",
      "day_00344.jpg\n",
      "day_00355.jpg\n",
      "day_00356.jpg\n",
      "day_00358.jpg\n",
      "day_00365.jpg\n",
      "day_00368.jpg\n",
      "day_00379.jpg\n",
      "day_00382.jpg\n",
      "day_00391.jpg\n",
      "day_00396.jpg\n",
      "day_00400.jpg\n",
      "day_00401.jpg\n",
      "day_00406.jpg\n",
      "day_00419.jpg\n",
      "day_00423.jpg\n",
      "day_00428.jpg\n",
      "day_00431.jpg\n",
      "day_00440.jpg\n",
      "day_00442.jpg\n",
      "day_00445.jpg\n",
      "day_00446.jpg\n",
      "day_00459.jpg\n",
      "day_00470.jpg\n",
      "day_00474.jpg\n",
      "day_00482.jpg\n",
      "day_00490.jpg\n"
     ]
    },
    {
     "ename": "KeyboardInterrupt",
     "evalue": "",
     "output_type": "error",
     "traceback": [
      "\u001B[0;31m---------------------------------------------------------------------------\u001B[0m",
      "\u001B[0;31mKeyboardInterrupt\u001B[0m                         Traceback (most recent call last)",
      "Cell \u001B[0;32mIn[32], line 68\u001B[0m\n\u001B[1;32m     65\u001B[0m     \u001B[38;5;28mprint\u001B[39m(\u001B[38;5;124mf\u001B[39m\u001B[38;5;124m\"\u001B[39m\u001B[38;5;124mConverted \u001B[39m\u001B[38;5;132;01m{\u001B[39;00mconverted_count\u001B[38;5;132;01m}\u001B[39;00m\u001B[38;5;124m XML files in \u001B[39m\u001B[38;5;132;01m{\u001B[39;00mxml_dir\u001B[38;5;132;01m}\u001B[39;00m\u001B[38;5;124m to YOLO-format annotations.\u001B[39m\u001B[38;5;124m\"\u001B[39m)\n\u001B[1;32m     67\u001B[0m \u001B[38;5;66;03m# Run conversion for car detection annotations in both directories.\u001B[39;00m\n\u001B[0;32m---> 68\u001B[0m \u001B[43mconvert_voc_to_yolo_for_detection\u001B[49m\u001B[43m(\u001B[49m\u001B[43mcar_test_dir\u001B[49m\u001B[43m,\u001B[49m\u001B[43m \u001B[49m\u001B[43mtarget_class\u001B[49m\u001B[38;5;241;43m=\u001B[39;49m\u001B[38;5;124;43m\"\u001B[39;49m\u001B[38;5;124;43mکل ناحیه پلاک\u001B[39;49m\u001B[38;5;124;43m\"\u001B[39;49m\u001B[43m)\u001B[49m\n\u001B[1;32m     69\u001B[0m convert_voc_to_yolo_for_detection(car_val_dir, target_class\u001B[38;5;241m=\u001B[39m\u001B[38;5;124m\"\u001B[39m\u001B[38;5;124mکل ناحیه پلاک\u001B[39m\u001B[38;5;124m\"\u001B[39m)\n",
      "Cell \u001B[0;32mIn[32], line 23\u001B[0m, in \u001B[0;36mconvert_voc_to_yolo_for_detection\u001B[0;34m(xml_dir, target_class)\u001B[0m\n\u001B[1;32m     20\u001B[0m image_path \u001B[38;5;241m=\u001B[39m os\u001B[38;5;241m.\u001B[39mpath\u001B[38;5;241m.\u001B[39mjoin(xml_dir, image_filename)\n\u001B[1;32m     22\u001B[0m \u001B[38;5;66;03m# Read the image (without modifying it) to get its dimensions.\u001B[39;00m\n\u001B[0;32m---> 23\u001B[0m img \u001B[38;5;241m=\u001B[39m \u001B[43mcv2\u001B[49m\u001B[38;5;241;43m.\u001B[39;49m\u001B[43mimread\u001B[49m\u001B[43m(\u001B[49m\u001B[43mimage_path\u001B[49m\u001B[43m)\u001B[49m\n\u001B[1;32m     24\u001B[0m \u001B[38;5;28;01mif\u001B[39;00m img \u001B[38;5;129;01mis\u001B[39;00m \u001B[38;5;28;01mNone\u001B[39;00m:\n\u001B[1;32m     25\u001B[0m     \u001B[38;5;28mprint\u001B[39m(\u001B[38;5;124mf\u001B[39m\u001B[38;5;124m\"\u001B[39m\u001B[38;5;124mCould not read image \u001B[39m\u001B[38;5;132;01m{\u001B[39;00mimage_path\u001B[38;5;132;01m}\u001B[39;00m\u001B[38;5;124m\"\u001B[39m)\n",
      "\u001B[0;31mKeyboardInterrupt\u001B[0m: "
     ]
    }
   ],
   "execution_count": 32
  },
  {
   "metadata": {
    "ExecuteTime": {
     "end_time": "2025-02-24T09:35:41.853481Z",
     "start_time": "2025-02-24T09:35:41.395647Z"
    }
   },
   "cell_type": "code",
   "source": [
    "import os, random, shutil\n",
    "\n",
    "# Define the source directory (used for training) and target test directory.\n",
    "train_dir = \"./test\"      # Currently used for detection training\n",
    "testset_dir = \"./testset\" # New folder for testing images\n",
    "\n",
    "# Create the testset directory if it doesn't exist.\n",
    "if not os.path.exists(testset_dir):\n",
    "    os.makedirs(testset_dir)\n",
    "\n",
    "# List all image files in the train_dir (adjust extensions if needed).\n",
    "image_extensions = ('.jpg', '.jpeg', '.png')\n",
    "all_images = [f for f in os.listdir(train_dir) if f.lower().endswith(image_extensions)]\n",
    "\n",
    "# Randomly select 100 images (or all if fewer than 100)\n",
    "num_test = 100\n",
    "selected = random.sample(all_images, min(num_test, len(all_images)))\n",
    "\n",
    "print(f\"Selected {len(selected)} images for testing.\")\n",
    "\n",
    "# Move the selected images and their annotation (.txt) files to testset_dir.\n",
    "for img in selected:\n",
    "    src_img = os.path.join(train_dir, img)\n",
    "    dst_img = os.path.join(testset_dir, img)\n",
    "    shutil.move(src_img, dst_img)\n",
    "    \n",
    "    # Also move the corresponding YOLO annotation file if it exists.\n",
    "    annotation = os.path.splitext(img)[0] + \".txt\"\n",
    "    src_ann = os.path.join(train_dir, annotation)\n",
    "    if os.path.exists(src_ann):\n",
    "        dst_ann = os.path.join(testset_dir, annotation)\n",
    "        shutil.move(src_ann, dst_ann)"
   ],
   "id": "138a6f4e169b554e",
   "outputs": [
    {
     "name": "stdout",
     "output_type": "stream",
     "text": [
      "Selected 100 images for testing.\n"
     ]
    }
   ],
   "execution_count": 33
  },
  {
   "metadata": {
    "ExecuteTime": {
     "end_time": "2025-02-24T09:46:30.903133Z",
     "start_time": "2025-02-24T09:46:30.897137Z"
    }
   },
   "cell_type": "code",
   "source": [
    "dataset_yaml = \"\"\"\n",
    "train: /mnt/i/#Repos/plate_detection_sentiment_analysis_neural/test\n",
    "val: /mnt/i/#Repos/plate_detection_sentiment_analysis_neural/validation\n",
    "test: /mnt/i/#Repos/plate_detection_sentiment_analysis_neural/testset\n",
    "nc: 1\n",
    "names: ['license_plate']\n",
    "\"\"\"\n",
    "\n",
    "# Save the YAML file.\n",
    "with open(\"dataset.yaml\", \"w\", encoding=\"utf-8\") as f:\n",
    "    f.write(dataset_yaml)\n",
    "\n",
    "print(\"dataset.yaml created with the following content:\")\n",
    "print(dataset_yaml)\n"
   ],
   "id": "33d641e1a6db4325",
   "outputs": [
    {
     "name": "stdout",
     "output_type": "stream",
     "text": [
      "dataset.yaml created with the following content:\n",
      "\n",
      "train: /mnt/i/#Repos/plate_detection_sentiment_analysis_neural/test\n",
      "val: /mnt/i/#Repos/plate_detection_sentiment_analysis_neural/validation\n",
      "test: /mnt/i/#Repos/plate_detection_sentiment_analysis_neural/testset\n",
      "nc: 1\n",
      "names: ['license_plate']\n",
      "\n"
     ]
    }
   ],
   "execution_count": 39
  },
  {
   "metadata": {
    "ExecuteTime": {
     "end_time": "2025-02-24T13:07:53.842252Z",
     "start_time": "2025-02-24T12:35:28.514449Z"
    }
   },
   "cell_type": "code",
   "source": "!pip install ultralytics",
   "id": "2290d23c3a082e14",
   "outputs": [
    {
     "name": "stdout",
     "output_type": "stream",
     "text": [
      "/bin/bash: warning: setlocale: LC_ALL: cannot change locale (en_US.UTF-8)\r\n",
      "Collecting ultralytics\r\n",
      "  Downloading ultralytics-8.3.78-py3-none-any.whl.metadata (35 kB)\r\n",
      "Requirement already satisfied: numpy<=2.1.1,>=1.23.0 in /root/anaconda3/lib/python3.12/site-packages (from ultralytics) (1.26.4)\r\n",
      "Requirement already satisfied: matplotlib>=3.3.0 in /root/anaconda3/lib/python3.12/site-packages (from ultralytics) (3.9.2)\r\n",
      "Collecting opencv-python>=4.6.0 (from ultralytics)\r\n",
      "  Downloading opencv_python-4.11.0.86-cp37-abi3-manylinux_2_17_x86_64.manylinux2014_x86_64.whl.metadata (20 kB)\r\n",
      "Requirement already satisfied: pillow>=7.1.2 in /root/anaconda3/lib/python3.12/site-packages (from ultralytics) (10.4.0)\r\n",
      "Requirement already satisfied: pyyaml>=5.3.1 in /root/anaconda3/lib/python3.12/site-packages (from ultralytics) (6.0.1)\r\n",
      "Requirement already satisfied: requests>=2.23.0 in /root/anaconda3/lib/python3.12/site-packages (from ultralytics) (2.32.3)\r\n",
      "Requirement already satisfied: scipy>=1.4.1 in /root/anaconda3/lib/python3.12/site-packages (from ultralytics) (1.13.1)\r\n",
      "Collecting torch>=1.8.0 (from ultralytics)\r\n",
      "  Downloading torch-2.6.0-cp312-cp312-manylinux1_x86_64.whl.metadata (28 kB)\r\n",
      "Collecting torchvision>=0.9.0 (from ultralytics)\r\n",
      "  Downloading torchvision-0.21.0-cp312-cp312-manylinux1_x86_64.whl.metadata (6.1 kB)\r\n",
      "Requirement already satisfied: tqdm>=4.64.0 in /root/anaconda3/lib/python3.12/site-packages (from ultralytics) (4.66.5)\r\n",
      "Requirement already satisfied: psutil in /root/anaconda3/lib/python3.12/site-packages (from ultralytics) (5.9.0)\r\n",
      "Requirement already satisfied: py-cpuinfo in /root/anaconda3/lib/python3.12/site-packages (from ultralytics) (9.0.0)\r\n",
      "Requirement already satisfied: pandas>=1.1.4 in /root/anaconda3/lib/python3.12/site-packages (from ultralytics) (2.2.2)\r\n",
      "Requirement already satisfied: seaborn>=0.11.0 in /root/anaconda3/lib/python3.12/site-packages (from ultralytics) (0.13.2)\r\n",
      "Collecting ultralytics-thop>=2.0.0 (from ultralytics)\r\n",
      "  Downloading ultralytics_thop-2.0.14-py3-none-any.whl.metadata (9.4 kB)\r\n",
      "Requirement already satisfied: contourpy>=1.0.1 in /root/anaconda3/lib/python3.12/site-packages (from matplotlib>=3.3.0->ultralytics) (1.2.0)\r\n",
      "Requirement already satisfied: cycler>=0.10 in /root/anaconda3/lib/python3.12/site-packages (from matplotlib>=3.3.0->ultralytics) (0.11.0)\r\n",
      "Requirement already satisfied: fonttools>=4.22.0 in /root/anaconda3/lib/python3.12/site-packages (from matplotlib>=3.3.0->ultralytics) (4.51.0)\r\n",
      "Requirement already satisfied: kiwisolver>=1.3.1 in /root/anaconda3/lib/python3.12/site-packages (from matplotlib>=3.3.0->ultralytics) (1.4.4)\r\n",
      "Requirement already satisfied: packaging>=20.0 in /root/anaconda3/lib/python3.12/site-packages (from matplotlib>=3.3.0->ultralytics) (24.1)\r\n",
      "Requirement already satisfied: pyparsing>=2.3.1 in /root/anaconda3/lib/python3.12/site-packages (from matplotlib>=3.3.0->ultralytics) (3.1.2)\r\n",
      "Requirement already satisfied: python-dateutil>=2.7 in /root/anaconda3/lib/python3.12/site-packages (from matplotlib>=3.3.0->ultralytics) (2.9.0.post0)\r\n",
      "Requirement already satisfied: pytz>=2020.1 in /root/anaconda3/lib/python3.12/site-packages (from pandas>=1.1.4->ultralytics) (2024.1)\r\n",
      "Requirement already satisfied: tzdata>=2022.7 in /root/anaconda3/lib/python3.12/site-packages (from pandas>=1.1.4->ultralytics) (2023.3)\r\n",
      "Requirement already satisfied: charset-normalizer<4,>=2 in /root/anaconda3/lib/python3.12/site-packages (from requests>=2.23.0->ultralytics) (3.3.2)\r\n",
      "Requirement already satisfied: idna<4,>=2.5 in /root/anaconda3/lib/python3.12/site-packages (from requests>=2.23.0->ultralytics) (3.7)\r\n",
      "Requirement already satisfied: urllib3<3,>=1.21.1 in /root/anaconda3/lib/python3.12/site-packages (from requests>=2.23.0->ultralytics) (2.2.3)\r\n",
      "Requirement already satisfied: certifi>=2017.4.17 in /root/anaconda3/lib/python3.12/site-packages (from requests>=2.23.0->ultralytics) (2024.8.30)\r\n",
      "Requirement already satisfied: filelock in /root/anaconda3/lib/python3.12/site-packages (from torch>=1.8.0->ultralytics) (3.13.1)\r\n",
      "Requirement already satisfied: typing-extensions>=4.10.0 in /root/anaconda3/lib/python3.12/site-packages (from torch>=1.8.0->ultralytics) (4.11.0)\r\n",
      "Requirement already satisfied: networkx in /root/anaconda3/lib/python3.12/site-packages (from torch>=1.8.0->ultralytics) (3.3)\r\n",
      "Requirement already satisfied: jinja2 in /root/anaconda3/lib/python3.12/site-packages (from torch>=1.8.0->ultralytics) (3.1.4)\r\n",
      "Requirement already satisfied: fsspec in /root/anaconda3/lib/python3.12/site-packages (from torch>=1.8.0->ultralytics) (2024.6.1)\r\n",
      "Collecting nvidia-cuda-nvrtc-cu12==12.4.127 (from torch>=1.8.0->ultralytics)\r\n",
      "  Downloading nvidia_cuda_nvrtc_cu12-12.4.127-py3-none-manylinux2014_x86_64.whl.metadata (1.5 kB)\r\n",
      "Collecting nvidia-cuda-runtime-cu12==12.4.127 (from torch>=1.8.0->ultralytics)\r\n",
      "  Downloading nvidia_cuda_runtime_cu12-12.4.127-py3-none-manylinux2014_x86_64.whl.metadata (1.5 kB)\r\n",
      "Collecting nvidia-cuda-cupti-cu12==12.4.127 (from torch>=1.8.0->ultralytics)\r\n",
      "  Downloading nvidia_cuda_cupti_cu12-12.4.127-py3-none-manylinux2014_x86_64.whl.metadata (1.6 kB)\r\n",
      "Collecting nvidia-cudnn-cu12==9.1.0.70 (from torch>=1.8.0->ultralytics)\r\n",
      "  Downloading nvidia_cudnn_cu12-9.1.0.70-py3-none-manylinux2014_x86_64.whl.metadata (1.6 kB)\r\n",
      "Collecting nvidia-cublas-cu12==12.4.5.8 (from torch>=1.8.0->ultralytics)\r\n",
      "  Downloading nvidia_cublas_cu12-12.4.5.8-py3-none-manylinux2014_x86_64.whl.metadata (1.5 kB)\r\n",
      "Collecting nvidia-cufft-cu12==11.2.1.3 (from torch>=1.8.0->ultralytics)\r\n",
      "  Downloading nvidia_cufft_cu12-11.2.1.3-py3-none-manylinux2014_x86_64.whl.metadata (1.5 kB)\r\n",
      "Collecting nvidia-curand-cu12==10.3.5.147 (from torch>=1.8.0->ultralytics)\r\n",
      "  Downloading nvidia_curand_cu12-10.3.5.147-py3-none-manylinux2014_x86_64.whl.metadata (1.5 kB)\r\n",
      "Collecting nvidia-cusolver-cu12==11.6.1.9 (from torch>=1.8.0->ultralytics)\r\n",
      "  Downloading nvidia_cusolver_cu12-11.6.1.9-py3-none-manylinux2014_x86_64.whl.metadata (1.6 kB)\r\n",
      "Collecting nvidia-cusparse-cu12==12.3.1.170 (from torch>=1.8.0->ultralytics)\r\n",
      "  Downloading nvidia_cusparse_cu12-12.3.1.170-py3-none-manylinux2014_x86_64.whl.metadata (1.6 kB)\r\n",
      "Collecting nvidia-cusparselt-cu12==0.6.2 (from torch>=1.8.0->ultralytics)\r\n",
      "  Downloading nvidia_cusparselt_cu12-0.6.2-py3-none-manylinux2014_x86_64.whl.metadata (6.8 kB)\r\n",
      "Collecting nvidia-nccl-cu12==2.21.5 (from torch>=1.8.0->ultralytics)\r\n",
      "  Downloading nvidia_nccl_cu12-2.21.5-py3-none-manylinux2014_x86_64.whl.metadata (1.8 kB)\r\n",
      "Collecting nvidia-nvtx-cu12==12.4.127 (from torch>=1.8.0->ultralytics)\r\n",
      "  Downloading nvidia_nvtx_cu12-12.4.127-py3-none-manylinux2014_x86_64.whl.metadata (1.7 kB)\r\n",
      "Collecting nvidia-nvjitlink-cu12==12.4.127 (from torch>=1.8.0->ultralytics)\r\n",
      "  Downloading nvidia_nvjitlink_cu12-12.4.127-py3-none-manylinux2014_x86_64.whl.metadata (1.5 kB)\r\n",
      "Collecting triton==3.2.0 (from torch>=1.8.0->ultralytics)\r\n",
      "  Downloading triton-3.2.0-cp312-cp312-manylinux_2_17_x86_64.manylinux2014_x86_64.whl.metadata (1.4 kB)\r\n",
      "Requirement already satisfied: setuptools in /root/anaconda3/lib/python3.12/site-packages (from torch>=1.8.0->ultralytics) (75.1.0)\r\n",
      "Collecting sympy==1.13.1 (from torch>=1.8.0->ultralytics)\r\n",
      "  Downloading sympy-1.13.1-py3-none-any.whl.metadata (12 kB)\r\n",
      "Requirement already satisfied: mpmath<1.4,>=1.1.0 in /root/anaconda3/lib/python3.12/site-packages (from sympy==1.13.1->torch>=1.8.0->ultralytics) (1.3.0)\r\n",
      "Requirement already satisfied: six>=1.5 in /root/anaconda3/lib/python3.12/site-packages (from python-dateutil>=2.7->matplotlib>=3.3.0->ultralytics) (1.16.0)\r\n",
      "Requirement already satisfied: MarkupSafe>=2.0 in /root/anaconda3/lib/python3.12/site-packages (from jinja2->torch>=1.8.0->ultralytics) (2.1.3)\r\n",
      "Downloading ultralytics-8.3.78-py3-none-any.whl (921 kB)\r\n",
      "\u001B[2K   \u001B[90m━━━━━━━━━━━━━━━━━━━━━━━━━━━━━━━━━━━━━━━━\u001B[0m \u001B[32m921.5/921.5 kB\u001B[0m \u001B[31m1.7 MB/s\u001B[0m eta \u001B[36m0:00:00\u001B[0ma \u001B[36m0:00:01\u001B[0m\r\n",
      "\u001B[?25hDownloading opencv_python-4.11.0.86-cp37-abi3-manylinux_2_17_x86_64.manylinux2014_x86_64.whl (63.0 MB)\r\n",
      "\u001B[2K   \u001B[90m━━━━━━━━━━━━━━━━━━━━━━━━━━━━━━━━━━━━━━━━\u001B[0m \u001B[32m63.0/63.0 MB\u001B[0m \u001B[31m1.7 MB/s\u001B[0m eta \u001B[36m0:00:00\u001B[0m00:01\u001B[0m00:01\u001B[0m\r\n",
      "\u001B[?25hDownloading torch-2.6.0-cp312-cp312-manylinux1_x86_64.whl (766.6 MB)\r\n",
      "\u001B[2K   \u001B[90m━━━━━━━━━━━━━━━━━━━━━━━━━━━━━━━━━━━━━━━━\u001B[0m \u001B[32m766.6/766.6 MB\u001B[0m \u001B[31m1.5 MB/s\u001B[0m eta \u001B[36m0:00:00\u001B[0m00:01\u001B[0m00:12\u001B[0m\r\n",
      "\u001B[?25hDownloading nvidia_cublas_cu12-12.4.5.8-py3-none-manylinux2014_x86_64.whl (363.4 MB)\r\n",
      "\u001B[2K   \u001B[90m━━━━━━━━━━━━━━━━━━━━━━━━━━━━━━━━━━━━━━━━\u001B[0m \u001B[32m363.4/363.4 MB\u001B[0m \u001B[31m1.6 MB/s\u001B[0m eta \u001B[36m0:00:00\u001B[0m00:01\u001B[0m00:06\u001B[0m\r\n",
      "\u001B[?25hDownloading nvidia_cuda_cupti_cu12-12.4.127-py3-none-manylinux2014_x86_64.whl (13.8 MB)\r\n",
      "\u001B[2K   \u001B[90m━━━━━━━━━━━━━━━━━━━━━━━━━━━━━━━━━━━━━━━━\u001B[0m \u001B[32m13.8/13.8 MB\u001B[0m \u001B[31m1.8 MB/s\u001B[0m eta \u001B[36m0:00:00\u001B[0m00:01\u001B[0m00:01\u001B[0m\r\n",
      "\u001B[?25hDownloading nvidia_cuda_nvrtc_cu12-12.4.127-py3-none-manylinux2014_x86_64.whl (24.6 MB)\r\n",
      "\u001B[2K   \u001B[90m━━━━━━━━━━━━━━━━━━━━━━━━━━━━━━━━━━━━━━━━\u001B[0m \u001B[32m24.6/24.6 MB\u001B[0m \u001B[31m1.7 MB/s\u001B[0m eta \u001B[36m0:00:00\u001B[0m00:01\u001B[0m00:01\u001B[0m\r\n",
      "\u001B[?25hDownloading nvidia_cuda_runtime_cu12-12.4.127-py3-none-manylinux2014_x86_64.whl (883 kB)\r\n",
      "\u001B[2K   \u001B[90m━━━━━━━━━━━━━━━━━━━━━━━━━━━━━━━━━━━━━━━━\u001B[0m \u001B[32m883.7/883.7 kB\u001B[0m \u001B[31m1.7 MB/s\u001B[0m eta \u001B[36m0:00:00\u001B[0ma \u001B[36m0:00:01\u001B[0m\r\n",
      "\u001B[?25hDownloading nvidia_cudnn_cu12-9.1.0.70-py3-none-manylinux2014_x86_64.whl (664.8 MB)\r\n",
      "\u001B[2K   \u001B[90m━━━━━━━━━━━━━━━━━━━━━━━━━━━━━━━━━━━━━━━━\u001B[0m \u001B[32m664.8/664.8 MB\u001B[0m \u001B[31m1.5 MB/s\u001B[0m eta \u001B[36m0:00:00\u001B[0m00:01\u001B[0m00:11\u001B[0m\r\n",
      "\u001B[?25hDownloading nvidia_cufft_cu12-11.2.1.3-py3-none-manylinux2014_x86_64.whl (211.5 MB)\r\n",
      "\u001B[2K   \u001B[90m━━━━━━━━━━━━━━━━━━━━━━━━━━━━━━━━━━━━━━━━\u001B[0m \u001B[32m211.5/211.5 MB\u001B[0m \u001B[31m1.6 MB/s\u001B[0m eta \u001B[36m0:00:00\u001B[0m00:01\u001B[0m00:04\u001B[0m\r\n",
      "\u001B[?25hDownloading nvidia_curand_cu12-10.3.5.147-py3-none-manylinux2014_x86_64.whl (56.3 MB)\r\n",
      "\u001B[2K   \u001B[90m━━━━━━━━━━━━━━━━━━━━━━━━━━━━━━━━━━━━━━━━\u001B[0m \u001B[32m56.3/56.3 MB\u001B[0m \u001B[31m1.7 MB/s\u001B[0m eta \u001B[36m0:00:00\u001B[0m00:01\u001B[0m00:01\u001B[0m\r\n",
      "\u001B[?25hDownloading nvidia_cusolver_cu12-11.6.1.9-py3-none-manylinux2014_x86_64.whl (127.9 MB)\r\n",
      "\u001B[2K   \u001B[90m━━━━━━━━━━━━━━━━━━━━━━━━━━━━━━━━━━━━━━━━\u001B[0m \u001B[32m127.9/127.9 MB\u001B[0m \u001B[31m1.7 MB/s\u001B[0m eta \u001B[36m0:00:00\u001B[0m00:01\u001B[0m00:02\u001B[0m\r\n",
      "\u001B[?25hDownloading nvidia_cusparse_cu12-12.3.1.170-py3-none-manylinux2014_x86_64.whl (207.5 MB)\r\n",
      "\u001B[2K   \u001B[90m━━━━━━━━━━━━━━━━━━━━━━━━━━━━━━━━━━━━━━━━\u001B[0m \u001B[32m207.5/207.5 MB\u001B[0m \u001B[31m1.5 MB/s\u001B[0m eta \u001B[36m0:00:00\u001B[0m00:01\u001B[0m00:04\u001B[0m\r\n",
      "\u001B[?25hDownloading nvidia_cusparselt_cu12-0.6.2-py3-none-manylinux2014_x86_64.whl (150.1 MB)\r\n",
      "\u001B[2K   \u001B[90m━━━━━━━━━━━━━━━━━━━━━━━━━━━━━━━━━━━━━━━━\u001B[0m \u001B[32m150.1/150.1 MB\u001B[0m \u001B[31m1.6 MB/s\u001B[0m eta \u001B[36m0:00:00\u001B[0m00:01\u001B[0m00:03\u001B[0m\r\n",
      "\u001B[?25hDownloading nvidia_nccl_cu12-2.21.5-py3-none-manylinux2014_x86_64.whl (188.7 MB)\r\n",
      "\u001B[2K   \u001B[90m━━━━━━━━━━━━━━━━━━━━━━━━━━━━━━━━━━━━━━━━\u001B[0m \u001B[32m188.7/188.7 MB\u001B[0m \u001B[31m1.6 MB/s\u001B[0m eta \u001B[36m0:00:00\u001B[0m00:01\u001B[0m00:04\u001B[0m\r\n",
      "\u001B[?25hDownloading nvidia_nvjitlink_cu12-12.4.127-py3-none-manylinux2014_x86_64.whl (21.1 MB)\r\n",
      "\u001B[2K   \u001B[90m━━━━━━━━━━━━━━━━━━━━━━━━━━━━━━━━━━━━━━━━\u001B[0m \u001B[32m21.1/21.1 MB\u001B[0m \u001B[31m1.6 MB/s\u001B[0m eta \u001B[36m0:00:00\u001B[0m00:01\u001B[0m00:01\u001B[0m\r\n",
      "\u001B[?25hDownloading nvidia_nvtx_cu12-12.4.127-py3-none-manylinux2014_x86_64.whl (99 kB)\r\n",
      "Downloading sympy-1.13.1-py3-none-any.whl (6.2 MB)\r\n",
      "\u001B[2K   \u001B[90m━━━━━━━━━━━━━━━━━━━━━━━━━━━━━━━━━━━━━━━━\u001B[0m \u001B[32m6.2/6.2 MB\u001B[0m \u001B[31m1.7 MB/s\u001B[0m eta \u001B[36m0:00:00\u001B[0ma \u001B[36m0:00:01\u001B[0m\r\n",
      "\u001B[?25hDownloading triton-3.2.0-cp312-cp312-manylinux_2_17_x86_64.manylinux2014_x86_64.whl (253.2 MB)\r\n",
      "\u001B[2K   \u001B[90m━━━━━━━━━━━━━━━━━━━━━━━━━━━━━━━━━━━━━━━━\u001B[0m \u001B[32m253.2/253.2 MB\u001B[0m \u001B[31m1.6 MB/s\u001B[0m eta \u001B[36m0:00:00\u001B[0m00:01\u001B[0m00:04\u001B[0m\r\n",
      "\u001B[?25hDownloading torchvision-0.21.0-cp312-cp312-manylinux1_x86_64.whl (7.2 MB)\r\n",
      "\u001B[2K   \u001B[90m━━━━━━━━━━━━━━━━━━━━━━━━━━━━━━━━━━━━━━━━\u001B[0m \u001B[32m7.2/7.2 MB\u001B[0m \u001B[31m1.7 MB/s\u001B[0m eta \u001B[36m0:00:00\u001B[0m00:01\u001B[0m00:01\u001B[0m\r\n",
      "\u001B[?25hDownloading ultralytics_thop-2.0.14-py3-none-any.whl (26 kB)\r\n",
      "Installing collected packages: triton, nvidia-cusparselt-cu12, sympy, opencv-python, nvidia-nvtx-cu12, nvidia-nvjitlink-cu12, nvidia-nccl-cu12, nvidia-curand-cu12, nvidia-cufft-cu12, nvidia-cuda-runtime-cu12, nvidia-cuda-nvrtc-cu12, nvidia-cuda-cupti-cu12, nvidia-cublas-cu12, nvidia-cusparse-cu12, nvidia-cudnn-cu12, nvidia-cusolver-cu12, torch, ultralytics-thop, torchvision, ultralytics\r\n",
      "  Attempting uninstall: sympy\r\n",
      "    Found existing installation: sympy 1.13.2\r\n",
      "    Uninstalling sympy-1.13.2:\r\n",
      "      Successfully uninstalled sympy-1.13.2\r\n",
      "Successfully installed nvidia-cublas-cu12-12.4.5.8 nvidia-cuda-cupti-cu12-12.4.127 nvidia-cuda-nvrtc-cu12-12.4.127 nvidia-cuda-runtime-cu12-12.4.127 nvidia-cudnn-cu12-9.1.0.70 nvidia-cufft-cu12-11.2.1.3 nvidia-curand-cu12-10.3.5.147 nvidia-cusolver-cu12-11.6.1.9 nvidia-cusparse-cu12-12.3.1.170 nvidia-cusparselt-cu12-0.6.2 nvidia-nccl-cu12-2.21.5 nvidia-nvjitlink-cu12-12.4.127 nvidia-nvtx-cu12-12.4.127 opencv-python-4.11.0.86 sympy-1.13.1 torch-2.6.0 torchvision-0.21.0 triton-3.2.0 ultralytics-8.3.78 ultralytics-thop-2.0.14\r\n",
      "\u001B[33mWARNING: Running pip as the 'root' user can result in broken permissions and conflicting behaviour with the system package manager, possibly rendering your system unusable.It is recommended to use a virtual environment instead: https://pip.pypa.io/warnings/venv. Use the --root-user-action option if you know what you are doing and want to suppress this warning.\u001B[0m\u001B[33m\r\n",
      "\u001B[0m"
     ]
    }
   ],
   "execution_count": 3
  },
  {
   "metadata": {
    "ExecuteTime": {
     "end_time": "2025-02-24T15:38:11.844788Z",
     "start_time": "2025-02-24T13:10:33.254373Z"
    }
   },
   "cell_type": "code",
   "source": [
    "from ultralytics import YOLO\n",
    "\n",
    "# Load the most advanced YOLO model variant (YOLOv8x)\n",
    "model = YOLO(\"yolov8n.pt\")\n",
    "\n",
    "# Fine-tune the model on your dataset. Adjust epochs, image size, and device as needed.\n",
    "train_results = model.train(\n",
    "    data=\"dataset.yaml\",  # the dataset YAML created above\n",
    "    epochs=50,            # number of training epochs (adjust as needed)\n",
    "    imgsz=640,            # training image size\n",
    "    batch=8,\n",
    "    device=\"cuda\"         # change to \"cpu\" if GPU is not available\n",
    ")"
   ],
   "id": "d550166d8425a090",
   "outputs": [
    {
     "name": "stdout",
     "output_type": "stream",
     "text": [
      "Creating new Ultralytics Settings v0.0.6 file ✅ \n",
      "View Ultralytics Settings with 'yolo settings' or at '/root/.config/Ultralytics/settings.json'\n",
      "Update Settings with 'yolo settings key=value', i.e. 'yolo settings runs_dir=path/to/dir'. For help see https://docs.ultralytics.com/quickstart/#ultralytics-settings.\n",
      "Ultralytics 8.3.78 🚀 Python-3.12.7 torch-2.6.0+cu124 CUDA:0 (NVIDIA GeForce GTX 1080 Ti, 11264MiB)\n",
      "\u001B[34m\u001B[1mengine/trainer: \u001B[0mtask=detect, mode=train, model=yolov8n.pt, data=dataset.yaml, epochs=50, time=None, patience=100, batch=8, imgsz=640, save=True, save_period=-1, cache=False, device=cuda, workers=8, project=None, name=train7, exist_ok=False, pretrained=True, optimizer=auto, verbose=True, seed=0, deterministic=True, single_cls=False, rect=False, cos_lr=False, close_mosaic=10, resume=False, amp=True, fraction=1.0, profile=False, freeze=None, multi_scale=False, overlap_mask=True, mask_ratio=4, dropout=0.0, val=True, split=val, save_json=False, save_hybrid=False, conf=None, iou=0.7, max_det=300, half=False, dnn=False, plots=True, source=None, vid_stride=1, stream_buffer=False, visualize=False, augment=False, agnostic_nms=False, classes=None, retina_masks=False, embed=None, show=False, save_frames=False, save_txt=False, save_conf=False, save_crop=False, show_labels=True, show_conf=True, show_boxes=True, line_width=None, format=torchscript, keras=False, optimize=False, int8=False, dynamic=False, simplify=True, opset=None, workspace=None, nms=False, lr0=0.01, lrf=0.01, momentum=0.937, weight_decay=0.0005, warmup_epochs=3.0, warmup_momentum=0.8, warmup_bias_lr=0.1, box=7.5, cls=0.5, dfl=1.5, pose=12.0, kobj=1.0, nbs=64, hsv_h=0.015, hsv_s=0.7, hsv_v=0.4, degrees=0.0, translate=0.1, scale=0.5, shear=0.0, perspective=0.0, flipud=0.0, fliplr=0.5, bgr=0.0, mosaic=1.0, mixup=0.0, copy_paste=0.0, copy_paste_mode=flip, auto_augment=randaugment, erasing=0.4, crop_fraction=1.0, cfg=None, tracker=botsort.yaml, save_dir=runs/detect/train7\n",
      "Downloading https://ultralytics.com/assets/Arial.ttf to '/root/.config/Ultralytics/Arial.ttf'...\n"
     ]
    },
    {
     "name": "stderr",
     "output_type": "stream",
     "text": [
      "100%|██████████| 755k/755k [00:00<00:00, 1.01MB/s]"
     ]
    },
    {
     "name": "stdout",
     "output_type": "stream",
     "text": [
      "Overriding model.yaml nc=80 with nc=1\n",
      "\n",
      "                   from  n    params  module                                       arguments                     \n",
      "  0                  -1  1       464  ultralytics.nn.modules.conv.Conv             [3, 16, 3, 2]                 \n",
      "  1                  -1  1      4672  ultralytics.nn.modules.conv.Conv             [16, 32, 3, 2]                \n",
      "  2                  -1  1      7360  ultralytics.nn.modules.block.C2f             [32, 32, 1, True]             \n",
      "  3                  -1  1     18560  ultralytics.nn.modules.conv.Conv             [32, 64, 3, 2]                \n",
      "  4                  -1  2     49664  ultralytics.nn.modules.block.C2f             [64, 64, 2, True]             \n",
      "  5                  -1  1     73984  ultralytics.nn.modules.conv.Conv             [64, 128, 3, 2]               \n",
      "  6                  -1  2    197632  ultralytics.nn.modules.block.C2f             [128, 128, 2, True]           \n",
      "  7                  -1  1    295424  ultralytics.nn.modules.conv.Conv             [128, 256, 3, 2]              \n",
      "  8                  -1  1    460288  ultralytics.nn.modules.block.C2f             [256, 256, 1, True]           \n",
      "  9                  -1  1    164608  ultralytics.nn.modules.block.SPPF            [256, 256, 5]                 \n",
      " 10                  -1  1         0  torch.nn.modules.upsampling.Upsample         [None, 2, 'nearest']          \n",
      " 11             [-1, 6]  1         0  ultralytics.nn.modules.conv.Concat           [1]                           \n",
      " 12                  -1  1    148224  ultralytics.nn.modules.block.C2f             [384, 128, 1]                 \n",
      " 13                  -1  1         0  torch.nn.modules.upsampling.Upsample         [None, 2, 'nearest']          \n",
      " 14             [-1, 4]  1         0  ultralytics.nn.modules.conv.Concat           [1]                           \n",
      " 15                  -1  1     37248  ultralytics.nn.modules.block.C2f             [192, 64, 1]                  \n",
      " 16                  -1  1     36992  ultralytics.nn.modules.conv.Conv             [64, 64, 3, 2]                \n",
      " 17            [-1, 12]  1         0  ultralytics.nn.modules.conv.Concat           [1]                           \n",
      " 18                  -1  1    123648  ultralytics.nn.modules.block.C2f             [192, 128, 1]                 \n",
      " 19                  -1  1    147712  ultralytics.nn.modules.conv.Conv             [128, 128, 3, 2]              \n",
      " 20             [-1, 9]  1         0  ultralytics.nn.modules.conv.Concat           [1]                           \n",
      " 21                  -1  1    493056  ultralytics.nn.modules.block.C2f             [384, 256, 1]                 \n",
      " 22        [15, 18, 21]  1    751507  ultralytics.nn.modules.head.Detect           [1, [64, 128, 256]]           \n"
     ]
    },
    {
     "name": "stderr",
     "output_type": "stream",
     "text": [
      "\n"
     ]
    },
    {
     "name": "stdout",
     "output_type": "stream",
     "text": [
      "Model summary: 129 layers, 3,011,043 parameters, 3,011,027 gradients, 8.2 GFLOPs\n",
      "\n",
      "Transferred 319/355 items from pretrained weights\n",
      "Freezing layer 'model.22.dfl.conv.weight'\n",
      "\u001B[34m\u001B[1mAMP: \u001B[0mrunning Automatic Mixed Precision (AMP) checks...\n",
      "\u001B[34m\u001B[1mAMP: \u001B[0mchecks passed ✅\n"
     ]
    },
    {
     "name": "stderr",
     "output_type": "stream",
     "text": [
      "\u001B[34m\u001B[1mtrain: \u001B[0mScanning /mnt/i/#Repos/plate_detection_sentiment_analysis_neural/test.cache... 4076 images, 0 backgrounds, 0 corrupt: 100%|██████████| 4076/4076 [00:00<?, ?it/s]\n",
      "\u001B[34m\u001B[1mval: \u001B[0mScanning /mnt/i/#Repos/plate_detection_sentiment_analysis_neural/validation.cache... 2120 images, 0 backgrounds, 0 corrupt: 100%|██████████| 2120/2120 [00:00<?, ?it/s]\n"
     ]
    },
    {
     "name": "stdout",
     "output_type": "stream",
     "text": [
      "Plotting labels to runs/detect/train7/labels.jpg... \n",
      "\u001B[34m\u001B[1moptimizer:\u001B[0m 'optimizer=auto' found, ignoring 'lr0=0.01' and 'momentum=0.937' and determining best 'optimizer', 'lr0' and 'momentum' automatically... \n",
      "\u001B[34m\u001B[1moptimizer:\u001B[0m AdamW(lr=0.002, momentum=0.9) with parameter groups 57 weight(decay=0.0), 64 weight(decay=0.0005), 63 bias(decay=0.0)\n",
      "Image sizes 640 train, 640 val\n",
      "Using 8 dataloader workers\n",
      "Logging results to \u001B[1mruns/detect/train7\u001B[0m\n",
      "Starting training for 50 epochs...\n",
      "\n",
      "      Epoch    GPU_mem   box_loss   cls_loss   dfl_loss  Instances       Size\n"
     ]
    },
    {
     "name": "stderr",
     "output_type": "stream",
     "text": [
      "       1/50      1.28G      1.248      1.644      1.059          4        640: 100%|██████████| 510/510 [02:26<00:00,  3.47it/s]\n",
      "                 Class     Images  Instances      Box(P          R      mAP50  mAP50-95): 100%|██████████| 133/133 [00:48<00:00,  2.72it/s]\n"
     ]
    },
    {
     "name": "stdout",
     "output_type": "stream",
     "text": [
      "                   all       2120       2494      0.926      0.865      0.903      0.603\n",
      "\n",
      "      Epoch    GPU_mem   box_loss   cls_loss   dfl_loss  Instances       Size\n"
     ]
    },
    {
     "name": "stderr",
     "output_type": "stream",
     "text": [
      "       2/50      1.16G      1.187     0.9014      1.026          6        640: 100%|██████████| 510/510 [02:07<00:00,  4.01it/s]\n",
      "                 Class     Images  Instances      Box(P          R      mAP50  mAP50-95): 100%|██████████| 133/133 [00:44<00:00,  2.98it/s]"
     ]
    },
    {
     "name": "stdout",
     "output_type": "stream",
     "text": [
      "                   all       2120       2494      0.912      0.869      0.906      0.603\n"
     ]
    },
    {
     "name": "stderr",
     "output_type": "stream",
     "text": [
      "\n"
     ]
    },
    {
     "name": "stdout",
     "output_type": "stream",
     "text": [
      "\n",
      "      Epoch    GPU_mem   box_loss   cls_loss   dfl_loss  Instances       Size\n"
     ]
    },
    {
     "name": "stderr",
     "output_type": "stream",
     "text": [
      "       3/50      1.12G      1.136      0.767      1.014          7        640: 100%|██████████| 510/510 [02:12<00:00,  3.86it/s]\n",
      "                 Class     Images  Instances      Box(P          R      mAP50  mAP50-95): 100%|██████████| 133/133 [00:45<00:00,  2.92it/s]"
     ]
    },
    {
     "name": "stdout",
     "output_type": "stream",
     "text": [
      "                   all       2120       2494      0.921      0.871      0.922      0.637\n"
     ]
    },
    {
     "name": "stderr",
     "output_type": "stream",
     "text": [
      "\n"
     ]
    },
    {
     "name": "stdout",
     "output_type": "stream",
     "text": [
      "\n",
      "      Epoch    GPU_mem   box_loss   cls_loss   dfl_loss  Instances       Size\n"
     ]
    },
    {
     "name": "stderr",
     "output_type": "stream",
     "text": [
      "       4/50      1.12G      1.125     0.7248      1.007         10        640: 100%|██████████| 510/510 [02:08<00:00,  3.96it/s]\n",
      "                 Class     Images  Instances      Box(P          R      mAP50  mAP50-95): 100%|██████████| 133/133 [00:45<00:00,  2.90it/s]"
     ]
    },
    {
     "name": "stdout",
     "output_type": "stream",
     "text": [
      "                   all       2120       2494      0.912       0.88      0.928      0.643\n"
     ]
    },
    {
     "name": "stderr",
     "output_type": "stream",
     "text": [
      "\n"
     ]
    },
    {
     "name": "stdout",
     "output_type": "stream",
     "text": [
      "\n",
      "      Epoch    GPU_mem   box_loss   cls_loss   dfl_loss  Instances       Size\n"
     ]
    },
    {
     "name": "stderr",
     "output_type": "stream",
     "text": [
      "       5/50      1.12G      1.089     0.6935     0.9971          5        640: 100%|██████████| 510/510 [02:05<00:00,  4.05it/s]\n",
      "                 Class     Images  Instances      Box(P          R      mAP50  mAP50-95): 100%|██████████| 133/133 [00:48<00:00,  2.74it/s]"
     ]
    },
    {
     "name": "stdout",
     "output_type": "stream",
     "text": [
      "                   all       2120       2494      0.924      0.887      0.934      0.658\n"
     ]
    },
    {
     "name": "stderr",
     "output_type": "stream",
     "text": [
      "\n"
     ]
    },
    {
     "name": "stdout",
     "output_type": "stream",
     "text": [
      "\n",
      "      Epoch    GPU_mem   box_loss   cls_loss   dfl_loss  Instances       Size\n"
     ]
    },
    {
     "name": "stderr",
     "output_type": "stream",
     "text": [
      "       6/50      1.12G       1.06     0.6654     0.9942          4        640: 100%|██████████| 510/510 [02:02<00:00,  4.16it/s]\n",
      "                 Class     Images  Instances      Box(P          R      mAP50  mAP50-95): 100%|██████████| 133/133 [00:46<00:00,  2.86it/s]"
     ]
    },
    {
     "name": "stdout",
     "output_type": "stream",
     "text": [
      "                   all       2120       2494      0.915      0.879      0.929       0.65\n"
     ]
    },
    {
     "name": "stderr",
     "output_type": "stream",
     "text": [
      "\n"
     ]
    },
    {
     "name": "stdout",
     "output_type": "stream",
     "text": [
      "\n",
      "      Epoch    GPU_mem   box_loss   cls_loss   dfl_loss  Instances       Size\n"
     ]
    },
    {
     "name": "stderr",
     "output_type": "stream",
     "text": [
      "       7/50      1.12G       1.04     0.6397      0.982          6        640: 100%|██████████| 510/510 [02:06<00:00,  4.02it/s]\n",
      "                 Class     Images  Instances      Box(P          R      mAP50  mAP50-95): 100%|██████████| 133/133 [00:43<00:00,  3.03it/s]"
     ]
    },
    {
     "name": "stdout",
     "output_type": "stream",
     "text": [
      "                   all       2120       2494      0.928      0.899      0.938       0.68\n"
     ]
    },
    {
     "name": "stderr",
     "output_type": "stream",
     "text": [
      "\n"
     ]
    },
    {
     "name": "stdout",
     "output_type": "stream",
     "text": [
      "\n",
      "      Epoch    GPU_mem   box_loss   cls_loss   dfl_loss  Instances       Size\n"
     ]
    },
    {
     "name": "stderr",
     "output_type": "stream",
     "text": [
      "       8/50      1.12G      1.012     0.6165     0.9738         14        640: 100%|██████████| 510/510 [02:08<00:00,  3.95it/s]\n",
      "                 Class     Images  Instances      Box(P          R      mAP50  mAP50-95): 100%|██████████| 133/133 [00:44<00:00,  3.01it/s]"
     ]
    },
    {
     "name": "stdout",
     "output_type": "stream",
     "text": [
      "                   all       2120       2494      0.939        0.9      0.944      0.663\n"
     ]
    },
    {
     "name": "stderr",
     "output_type": "stream",
     "text": [
      "\n"
     ]
    },
    {
     "name": "stdout",
     "output_type": "stream",
     "text": [
      "\n",
      "      Epoch    GPU_mem   box_loss   cls_loss   dfl_loss  Instances       Size\n"
     ]
    },
    {
     "name": "stderr",
     "output_type": "stream",
     "text": [
      "       9/50      1.12G      1.011     0.6036     0.9707          8        640: 100%|██████████| 510/510 [02:09<00:00,  3.94it/s]\n",
      "                 Class     Images  Instances      Box(P          R      mAP50  mAP50-95): 100%|██████████| 133/133 [00:43<00:00,  3.05it/s]"
     ]
    },
    {
     "name": "stdout",
     "output_type": "stream",
     "text": [
      "                   all       2120       2494      0.924      0.899      0.942      0.686\n"
     ]
    },
    {
     "name": "stderr",
     "output_type": "stream",
     "text": [
      "\n"
     ]
    },
    {
     "name": "stdout",
     "output_type": "stream",
     "text": [
      "\n",
      "      Epoch    GPU_mem   box_loss   cls_loss   dfl_loss  Instances       Size\n"
     ]
    },
    {
     "name": "stderr",
     "output_type": "stream",
     "text": [
      "      10/50      1.12G     0.9911     0.5988     0.9658          5        640: 100%|██████████| 510/510 [02:10<00:00,  3.90it/s]\n",
      "                 Class     Images  Instances      Box(P          R      mAP50  mAP50-95): 100%|██████████| 133/133 [00:47<00:00,  2.81it/s]"
     ]
    },
    {
     "name": "stdout",
     "output_type": "stream",
     "text": [
      "                   all       2120       2494      0.922      0.902      0.943      0.694\n"
     ]
    },
    {
     "name": "stderr",
     "output_type": "stream",
     "text": [
      "\n"
     ]
    },
    {
     "name": "stdout",
     "output_type": "stream",
     "text": [
      "\n",
      "      Epoch    GPU_mem   box_loss   cls_loss   dfl_loss  Instances       Size\n"
     ]
    },
    {
     "name": "stderr",
     "output_type": "stream",
     "text": [
      "      11/50      1.12G     0.9725     0.5829     0.9577          7        640: 100%|██████████| 510/510 [02:09<00:00,  3.94it/s]\n",
      "                 Class     Images  Instances      Box(P          R      mAP50  mAP50-95): 100%|██████████| 133/133 [00:46<00:00,  2.84it/s]"
     ]
    },
    {
     "name": "stdout",
     "output_type": "stream",
     "text": [
      "                   all       2120       2494      0.926      0.893      0.943      0.685\n"
     ]
    },
    {
     "name": "stderr",
     "output_type": "stream",
     "text": [
      "\n"
     ]
    },
    {
     "name": "stdout",
     "output_type": "stream",
     "text": [
      "\n",
      "      Epoch    GPU_mem   box_loss   cls_loss   dfl_loss  Instances       Size\n"
     ]
    },
    {
     "name": "stderr",
     "output_type": "stream",
     "text": [
      "      12/50      1.12G     0.9677     0.5715     0.9526          7        640: 100%|██████████| 510/510 [02:07<00:00,  4.00it/s]\n",
      "                 Class     Images  Instances      Box(P          R      mAP50  mAP50-95): 100%|██████████| 133/133 [00:44<00:00,  2.99it/s]"
     ]
    },
    {
     "name": "stdout",
     "output_type": "stream",
     "text": [
      "                   all       2120       2494      0.926      0.913       0.95      0.689\n"
     ]
    },
    {
     "name": "stderr",
     "output_type": "stream",
     "text": [
      "\n"
     ]
    },
    {
     "name": "stdout",
     "output_type": "stream",
     "text": [
      "\n",
      "      Epoch    GPU_mem   box_loss   cls_loss   dfl_loss  Instances       Size\n"
     ]
    },
    {
     "name": "stderr",
     "output_type": "stream",
     "text": [
      "      13/50      1.12G     0.9593     0.5705     0.9533         13        640: 100%|██████████| 510/510 [02:08<00:00,  3.96it/s]\n",
      "                 Class     Images  Instances      Box(P          R      mAP50  mAP50-95): 100%|██████████| 133/133 [00:47<00:00,  2.77it/s]"
     ]
    },
    {
     "name": "stdout",
     "output_type": "stream",
     "text": [
      "                   all       2120       2494      0.934      0.903      0.951      0.708\n"
     ]
    },
    {
     "name": "stderr",
     "output_type": "stream",
     "text": [
      "\n"
     ]
    },
    {
     "name": "stdout",
     "output_type": "stream",
     "text": [
      "\n",
      "      Epoch    GPU_mem   box_loss   cls_loss   dfl_loss  Instances       Size\n"
     ]
    },
    {
     "name": "stderr",
     "output_type": "stream",
     "text": [
      "      14/50      1.12G     0.9428     0.5531     0.9525          8        640: 100%|██████████| 510/510 [02:05<00:00,  4.07it/s]\n",
      "                 Class     Images  Instances      Box(P          R      mAP50  mAP50-95): 100%|██████████| 133/133 [00:44<00:00,  2.96it/s]"
     ]
    },
    {
     "name": "stdout",
     "output_type": "stream",
     "text": [
      "                   all       2120       2494      0.931      0.903       0.95       0.71\n"
     ]
    },
    {
     "name": "stderr",
     "output_type": "stream",
     "text": [
      "\n"
     ]
    },
    {
     "name": "stdout",
     "output_type": "stream",
     "text": [
      "\n",
      "      Epoch    GPU_mem   box_loss   cls_loss   dfl_loss  Instances       Size\n"
     ]
    },
    {
     "name": "stderr",
     "output_type": "stream",
     "text": [
      "      15/50      1.12G     0.9424     0.5506     0.9486          7        640: 100%|██████████| 510/510 [02:05<00:00,  4.07it/s]\n",
      "                 Class     Images  Instances      Box(P          R      mAP50  mAP50-95): 100%|██████████| 133/133 [00:45<00:00,  2.90it/s]"
     ]
    },
    {
     "name": "stdout",
     "output_type": "stream",
     "text": [
      "                   all       2120       2494      0.936      0.899      0.951       0.71\n"
     ]
    },
    {
     "name": "stderr",
     "output_type": "stream",
     "text": [
      "\n"
     ]
    },
    {
     "name": "stdout",
     "output_type": "stream",
     "text": [
      "\n",
      "      Epoch    GPU_mem   box_loss   cls_loss   dfl_loss  Instances       Size\n"
     ]
    },
    {
     "name": "stderr",
     "output_type": "stream",
     "text": [
      "      16/50      1.12G     0.9446     0.5482     0.9506          8        640: 100%|██████████| 510/510 [02:06<00:00,  4.02it/s]\n",
      "                 Class     Images  Instances      Box(P          R      mAP50  mAP50-95): 100%|██████████| 133/133 [00:43<00:00,  3.04it/s]"
     ]
    },
    {
     "name": "stdout",
     "output_type": "stream",
     "text": [
      "                   all       2120       2494      0.927      0.909      0.955      0.719\n"
     ]
    },
    {
     "name": "stderr",
     "output_type": "stream",
     "text": [
      "\n"
     ]
    },
    {
     "name": "stdout",
     "output_type": "stream",
     "text": [
      "\n",
      "      Epoch    GPU_mem   box_loss   cls_loss   dfl_loss  Instances       Size\n"
     ]
    },
    {
     "name": "stderr",
     "output_type": "stream",
     "text": [
      "      17/50      1.12G     0.9311     0.5353     0.9436          5        640: 100%|██████████| 510/510 [02:09<00:00,  3.93it/s]\n",
      "                 Class     Images  Instances      Box(P          R      mAP50  mAP50-95): 100%|██████████| 133/133 [00:44<00:00,  2.97it/s]"
     ]
    },
    {
     "name": "stdout",
     "output_type": "stream",
     "text": [
      "                   all       2120       2494       0.93      0.904      0.953      0.715\n"
     ]
    },
    {
     "name": "stderr",
     "output_type": "stream",
     "text": [
      "\n"
     ]
    },
    {
     "name": "stdout",
     "output_type": "stream",
     "text": [
      "\n",
      "      Epoch    GPU_mem   box_loss   cls_loss   dfl_loss  Instances       Size\n"
     ]
    },
    {
     "name": "stderr",
     "output_type": "stream",
     "text": [
      "      18/50      1.12G     0.9183     0.5269     0.9383          9        640: 100%|██████████| 510/510 [02:08<00:00,  3.97it/s]\n",
      "                 Class     Images  Instances      Box(P          R      mAP50  mAP50-95): 100%|██████████| 133/133 [00:48<00:00,  2.71it/s]"
     ]
    },
    {
     "name": "stdout",
     "output_type": "stream",
     "text": [
      "                   all       2120       2494      0.936      0.915      0.955      0.716\n"
     ]
    },
    {
     "name": "stderr",
     "output_type": "stream",
     "text": [
      "\n"
     ]
    },
    {
     "name": "stdout",
     "output_type": "stream",
     "text": [
      "\n",
      "      Epoch    GPU_mem   box_loss   cls_loss   dfl_loss  Instances       Size\n"
     ]
    },
    {
     "name": "stderr",
     "output_type": "stream",
     "text": [
      "      19/50      1.12G     0.9231     0.5353     0.9404          4        640: 100%|██████████| 510/510 [02:07<00:00,  3.99it/s]\n",
      "                 Class     Images  Instances      Box(P          R      mAP50  mAP50-95): 100%|██████████| 133/133 [00:44<00:00,  3.00it/s]"
     ]
    },
    {
     "name": "stdout",
     "output_type": "stream",
     "text": [
      "                   all       2120       2494      0.927      0.911      0.952      0.718\n"
     ]
    },
    {
     "name": "stderr",
     "output_type": "stream",
     "text": [
      "\n"
     ]
    },
    {
     "name": "stdout",
     "output_type": "stream",
     "text": [
      "\n",
      "      Epoch    GPU_mem   box_loss   cls_loss   dfl_loss  Instances       Size\n"
     ]
    },
    {
     "name": "stderr",
     "output_type": "stream",
     "text": [
      "      20/50      1.12G     0.9095     0.5172     0.9421         12        640: 100%|██████████| 510/510 [02:11<00:00,  3.89it/s]\n",
      "                 Class     Images  Instances      Box(P          R      mAP50  mAP50-95): 100%|██████████| 133/133 [00:43<00:00,  3.02it/s]"
     ]
    },
    {
     "name": "stdout",
     "output_type": "stream",
     "text": [
      "                   all       2120       2494      0.937      0.919      0.957      0.713\n"
     ]
    },
    {
     "name": "stderr",
     "output_type": "stream",
     "text": [
      "\n"
     ]
    },
    {
     "name": "stdout",
     "output_type": "stream",
     "text": [
      "\n",
      "      Epoch    GPU_mem   box_loss   cls_loss   dfl_loss  Instances       Size\n"
     ]
    },
    {
     "name": "stderr",
     "output_type": "stream",
     "text": [
      "      21/50      1.12G     0.9158     0.5322      0.941          9        640: 100%|██████████| 510/510 [02:06<00:00,  4.05it/s]\n",
      "                 Class     Images  Instances      Box(P          R      mAP50  mAP50-95): 100%|██████████| 133/133 [00:44<00:00,  3.00it/s]"
     ]
    },
    {
     "name": "stdout",
     "output_type": "stream",
     "text": [
      "                   all       2120       2494      0.916      0.918       0.95      0.717\n"
     ]
    },
    {
     "name": "stderr",
     "output_type": "stream",
     "text": [
      "\n"
     ]
    },
    {
     "name": "stdout",
     "output_type": "stream",
     "text": [
      "\n",
      "      Epoch    GPU_mem   box_loss   cls_loss   dfl_loss  Instances       Size\n"
     ]
    },
    {
     "name": "stderr",
     "output_type": "stream",
     "text": [
      "      22/50      1.12G     0.8955     0.5191      0.932         11        640: 100%|██████████| 510/510 [02:07<00:00,  3.99it/s]\n",
      "                 Class     Images  Instances      Box(P          R      mAP50  mAP50-95): 100%|██████████| 133/133 [00:47<00:00,  2.81it/s]"
     ]
    },
    {
     "name": "stdout",
     "output_type": "stream",
     "text": [
      "                   all       2120       2494      0.932      0.912      0.958      0.724\n"
     ]
    },
    {
     "name": "stderr",
     "output_type": "stream",
     "text": [
      "\n"
     ]
    },
    {
     "name": "stdout",
     "output_type": "stream",
     "text": [
      "\n",
      "      Epoch    GPU_mem   box_loss   cls_loss   dfl_loss  Instances       Size\n"
     ]
    },
    {
     "name": "stderr",
     "output_type": "stream",
     "text": [
      "      23/50      1.12G     0.8922     0.5088     0.9381          6        640: 100%|██████████| 510/510 [02:04<00:00,  4.09it/s]\n",
      "                 Class     Images  Instances      Box(P          R      mAP50  mAP50-95): 100%|██████████| 133/133 [00:51<00:00,  2.60it/s]"
     ]
    },
    {
     "name": "stdout",
     "output_type": "stream",
     "text": [
      "                   all       2120       2494       0.93      0.907      0.953      0.718\n"
     ]
    },
    {
     "name": "stderr",
     "output_type": "stream",
     "text": [
      "\n"
     ]
    },
    {
     "name": "stdout",
     "output_type": "stream",
     "text": [
      "\n",
      "      Epoch    GPU_mem   box_loss   cls_loss   dfl_loss  Instances       Size\n"
     ]
    },
    {
     "name": "stderr",
     "output_type": "stream",
     "text": [
      "      24/50      1.12G     0.8954      0.507     0.9381          9        640: 100%|██████████| 510/510 [02:06<00:00,  4.04it/s]\n",
      "                 Class     Images  Instances      Box(P          R      mAP50  mAP50-95): 100%|██████████| 133/133 [00:50<00:00,  2.64it/s]"
     ]
    },
    {
     "name": "stdout",
     "output_type": "stream",
     "text": [
      "                   all       2120       2494      0.938      0.918      0.957      0.723\n"
     ]
    },
    {
     "name": "stderr",
     "output_type": "stream",
     "text": [
      "\n"
     ]
    },
    {
     "name": "stdout",
     "output_type": "stream",
     "text": [
      "\n",
      "      Epoch    GPU_mem   box_loss   cls_loss   dfl_loss  Instances       Size\n"
     ]
    },
    {
     "name": "stderr",
     "output_type": "stream",
     "text": [
      "      25/50      1.12G     0.8855     0.4998     0.9329         12        640: 100%|██████████| 510/510 [02:04<00:00,  4.09it/s]\n",
      "                 Class     Images  Instances      Box(P          R      mAP50  mAP50-95): 100%|██████████| 133/133 [00:44<00:00,  2.97it/s]"
     ]
    },
    {
     "name": "stdout",
     "output_type": "stream",
     "text": [
      "                   all       2120       2494      0.933      0.917      0.958      0.736\n"
     ]
    },
    {
     "name": "stderr",
     "output_type": "stream",
     "text": [
      "\n"
     ]
    },
    {
     "name": "stdout",
     "output_type": "stream",
     "text": [
      "\n",
      "      Epoch    GPU_mem   box_loss   cls_loss   dfl_loss  Instances       Size\n"
     ]
    },
    {
     "name": "stderr",
     "output_type": "stream",
     "text": [
      "      26/50      1.12G     0.8791      0.493     0.9333          7        640: 100%|██████████| 510/510 [02:09<00:00,  3.93it/s]\n",
      "                 Class     Images  Instances      Box(P          R      mAP50  mAP50-95): 100%|██████████| 133/133 [00:47<00:00,  2.81it/s]"
     ]
    },
    {
     "name": "stdout",
     "output_type": "stream",
     "text": [
      "                   all       2120       2494      0.931       0.92      0.954      0.717\n"
     ]
    },
    {
     "name": "stderr",
     "output_type": "stream",
     "text": [
      "\n"
     ]
    },
    {
     "name": "stdout",
     "output_type": "stream",
     "text": [
      "\n",
      "      Epoch    GPU_mem   box_loss   cls_loss   dfl_loss  Instances       Size\n"
     ]
    },
    {
     "name": "stderr",
     "output_type": "stream",
     "text": [
      "      27/50      1.12G     0.8769     0.4859     0.9308         11        640: 100%|██████████| 510/510 [02:07<00:00,  3.99it/s]\n",
      "                 Class     Images  Instances      Box(P          R      mAP50  mAP50-95): 100%|██████████| 133/133 [00:50<00:00,  2.64it/s]"
     ]
    },
    {
     "name": "stdout",
     "output_type": "stream",
     "text": [
      "                   all       2120       2494      0.937      0.903      0.956      0.731\n"
     ]
    },
    {
     "name": "stderr",
     "output_type": "stream",
     "text": [
      "\n"
     ]
    },
    {
     "name": "stdout",
     "output_type": "stream",
     "text": [
      "\n",
      "      Epoch    GPU_mem   box_loss   cls_loss   dfl_loss  Instances       Size\n"
     ]
    },
    {
     "name": "stderr",
     "output_type": "stream",
     "text": [
      "      28/50      1.12G     0.8633     0.4877     0.9304         10        640: 100%|██████████| 510/510 [02:07<00:00,  4.01it/s]\n",
      "                 Class     Images  Instances      Box(P          R      mAP50  mAP50-95): 100%|██████████| 133/133 [00:48<00:00,  2.75it/s]"
     ]
    },
    {
     "name": "stdout",
     "output_type": "stream",
     "text": [
      "                   all       2120       2494      0.932      0.918      0.959      0.734\n"
     ]
    },
    {
     "name": "stderr",
     "output_type": "stream",
     "text": [
      "\n"
     ]
    },
    {
     "name": "stdout",
     "output_type": "stream",
     "text": [
      "\n",
      "      Epoch    GPU_mem   box_loss   cls_loss   dfl_loss  Instances       Size\n"
     ]
    },
    {
     "name": "stderr",
     "output_type": "stream",
     "text": [
      "      29/50      1.12G     0.8614       0.48     0.9239         12        640: 100%|██████████| 510/510 [02:06<00:00,  4.03it/s]\n",
      "                 Class     Images  Instances      Box(P          R      mAP50  mAP50-95): 100%|██████████| 133/133 [00:44<00:00,  2.96it/s]"
     ]
    },
    {
     "name": "stdout",
     "output_type": "stream",
     "text": [
      "                   all       2120       2494      0.937      0.906      0.957      0.722\n"
     ]
    },
    {
     "name": "stderr",
     "output_type": "stream",
     "text": [
      "\n"
     ]
    },
    {
     "name": "stdout",
     "output_type": "stream",
     "text": [
      "\n",
      "      Epoch    GPU_mem   box_loss   cls_loss   dfl_loss  Instances       Size\n"
     ]
    },
    {
     "name": "stderr",
     "output_type": "stream",
     "text": [
      "      30/50      1.12G      0.861     0.4832     0.9231          7        640: 100%|██████████| 510/510 [02:09<00:00,  3.95it/s]\n",
      "                 Class     Images  Instances      Box(P          R      mAP50  mAP50-95): 100%|██████████| 133/133 [00:47<00:00,  2.81it/s]"
     ]
    },
    {
     "name": "stdout",
     "output_type": "stream",
     "text": [
      "                   all       2120       2494      0.933      0.918      0.959      0.736\n"
     ]
    },
    {
     "name": "stderr",
     "output_type": "stream",
     "text": [
      "\n"
     ]
    },
    {
     "name": "stdout",
     "output_type": "stream",
     "text": [
      "\n",
      "      Epoch    GPU_mem   box_loss   cls_loss   dfl_loss  Instances       Size\n"
     ]
    },
    {
     "name": "stderr",
     "output_type": "stream",
     "text": [
      "      31/50      1.12G     0.8506     0.4746     0.9146          6        640: 100%|██████████| 510/510 [02:07<00:00,  3.99it/s]\n",
      "                 Class     Images  Instances      Box(P          R      mAP50  mAP50-95): 100%|██████████| 133/133 [00:44<00:00,  2.96it/s]"
     ]
    },
    {
     "name": "stdout",
     "output_type": "stream",
     "text": [
      "                   all       2120       2494      0.935      0.916      0.962      0.743\n"
     ]
    },
    {
     "name": "stderr",
     "output_type": "stream",
     "text": [
      "\n"
     ]
    },
    {
     "name": "stdout",
     "output_type": "stream",
     "text": [
      "\n",
      "      Epoch    GPU_mem   box_loss   cls_loss   dfl_loss  Instances       Size\n"
     ]
    },
    {
     "name": "stderr",
     "output_type": "stream",
     "text": [
      "      32/50      1.12G     0.8478     0.4705     0.9206          5        640: 100%|██████████| 510/510 [02:09<00:00,  3.95it/s]\n",
      "                 Class     Images  Instances      Box(P          R      mAP50  mAP50-95): 100%|██████████| 133/133 [00:47<00:00,  2.79it/s]"
     ]
    },
    {
     "name": "stdout",
     "output_type": "stream",
     "text": [
      "                   all       2120       2494      0.932      0.927      0.963      0.737\n"
     ]
    },
    {
     "name": "stderr",
     "output_type": "stream",
     "text": [
      "\n"
     ]
    },
    {
     "name": "stdout",
     "output_type": "stream",
     "text": [
      "\n",
      "      Epoch    GPU_mem   box_loss   cls_loss   dfl_loss  Instances       Size\n"
     ]
    },
    {
     "name": "stderr",
     "output_type": "stream",
     "text": [
      "      33/50      1.12G     0.8423     0.4668     0.9178         10        640: 100%|██████████| 510/510 [02:07<00:00,  4.00it/s]\n",
      "                 Class     Images  Instances      Box(P          R      mAP50  mAP50-95): 100%|██████████| 133/133 [00:46<00:00,  2.83it/s]"
     ]
    },
    {
     "name": "stdout",
     "output_type": "stream",
     "text": [
      "                   all       2120       2494      0.939       0.92      0.963      0.744\n"
     ]
    },
    {
     "name": "stderr",
     "output_type": "stream",
     "text": [
      "\n"
     ]
    },
    {
     "name": "stdout",
     "output_type": "stream",
     "text": [
      "\n",
      "      Epoch    GPU_mem   box_loss   cls_loss   dfl_loss  Instances       Size\n"
     ]
    },
    {
     "name": "stderr",
     "output_type": "stream",
     "text": [
      "      34/50      1.12G     0.8366     0.4663     0.9175          4        640: 100%|██████████| 510/510 [02:11<00:00,  3.88it/s]\n",
      "                 Class     Images  Instances      Box(P          R      mAP50  mAP50-95): 100%|██████████| 133/133 [00:45<00:00,  2.94it/s]"
     ]
    },
    {
     "name": "stdout",
     "output_type": "stream",
     "text": [
      "                   all       2120       2494      0.943       0.92      0.964      0.745\n"
     ]
    },
    {
     "name": "stderr",
     "output_type": "stream",
     "text": [
      "\n"
     ]
    },
    {
     "name": "stdout",
     "output_type": "stream",
     "text": [
      "\n",
      "      Epoch    GPU_mem   box_loss   cls_loss   dfl_loss  Instances       Size\n"
     ]
    },
    {
     "name": "stderr",
     "output_type": "stream",
     "text": [
      "      35/50      1.12G     0.8277     0.4559     0.9201         12        640: 100%|██████████| 510/510 [02:06<00:00,  4.04it/s]\n",
      "                 Class     Images  Instances      Box(P          R      mAP50  mAP50-95): 100%|██████████| 133/133 [00:45<00:00,  2.91it/s]"
     ]
    },
    {
     "name": "stdout",
     "output_type": "stream",
     "text": [
      "                   all       2120       2494      0.935       0.92      0.961      0.741\n"
     ]
    },
    {
     "name": "stderr",
     "output_type": "stream",
     "text": [
      "\n"
     ]
    },
    {
     "name": "stdout",
     "output_type": "stream",
     "text": [
      "\n",
      "      Epoch    GPU_mem   box_loss   cls_loss   dfl_loss  Instances       Size\n"
     ]
    },
    {
     "name": "stderr",
     "output_type": "stream",
     "text": [
      "      36/50      1.12G     0.8166      0.459     0.9158         10        640: 100%|██████████| 510/510 [02:08<00:00,  3.98it/s]\n",
      "                 Class     Images  Instances      Box(P          R      mAP50  mAP50-95): 100%|██████████| 133/133 [00:50<00:00,  2.65it/s]"
     ]
    },
    {
     "name": "stdout",
     "output_type": "stream",
     "text": [
      "                   all       2120       2494       0.93      0.925      0.958      0.741\n"
     ]
    },
    {
     "name": "stderr",
     "output_type": "stream",
     "text": [
      "\n"
     ]
    },
    {
     "name": "stdout",
     "output_type": "stream",
     "text": [
      "\n",
      "      Epoch    GPU_mem   box_loss   cls_loss   dfl_loss  Instances       Size\n"
     ]
    },
    {
     "name": "stderr",
     "output_type": "stream",
     "text": [
      "      37/50      1.12G     0.8204     0.4584      0.914          7        640: 100%|██████████| 510/510 [02:03<00:00,  4.12it/s]\n",
      "                 Class     Images  Instances      Box(P          R      mAP50  mAP50-95): 100%|██████████| 133/133 [00:48<00:00,  2.76it/s]"
     ]
    },
    {
     "name": "stdout",
     "output_type": "stream",
     "text": [
      "                   all       2120       2494      0.931      0.929      0.965      0.741\n"
     ]
    },
    {
     "name": "stderr",
     "output_type": "stream",
     "text": [
      "\n"
     ]
    },
    {
     "name": "stdout",
     "output_type": "stream",
     "text": [
      "\n",
      "      Epoch    GPU_mem   box_loss   cls_loss   dfl_loss  Instances       Size\n"
     ]
    },
    {
     "name": "stderr",
     "output_type": "stream",
     "text": [
      "      38/50      1.12G      0.814      0.442     0.9133          6        640: 100%|██████████| 510/510 [02:04<00:00,  4.08it/s]\n",
      "                 Class     Images  Instances      Box(P          R      mAP50  mAP50-95): 100%|██████████| 133/133 [00:45<00:00,  2.92it/s]"
     ]
    },
    {
     "name": "stdout",
     "output_type": "stream",
     "text": [
      "                   all       2120       2494      0.933      0.923      0.964      0.749\n"
     ]
    },
    {
     "name": "stderr",
     "output_type": "stream",
     "text": [
      "\n"
     ]
    },
    {
     "name": "stdout",
     "output_type": "stream",
     "text": [
      "\n",
      "      Epoch    GPU_mem   box_loss   cls_loss   dfl_loss  Instances       Size\n"
     ]
    },
    {
     "name": "stderr",
     "output_type": "stream",
     "text": [
      "      39/50      1.12G     0.8121     0.4389     0.9123          8        640: 100%|██████████| 510/510 [02:09<00:00,  3.94it/s]\n",
      "                 Class     Images  Instances      Box(P          R      mAP50  mAP50-95): 100%|██████████| 133/133 [00:45<00:00,  2.94it/s]"
     ]
    },
    {
     "name": "stdout",
     "output_type": "stream",
     "text": [
      "                   all       2120       2494      0.929       0.93      0.965      0.751\n"
     ]
    },
    {
     "name": "stderr",
     "output_type": "stream",
     "text": [
      "\n"
     ]
    },
    {
     "name": "stdout",
     "output_type": "stream",
     "text": [
      "\n",
      "      Epoch    GPU_mem   box_loss   cls_loss   dfl_loss  Instances       Size\n"
     ]
    },
    {
     "name": "stderr",
     "output_type": "stream",
     "text": [
      "      40/50      1.12G     0.8096     0.4391     0.9133         12        640: 100%|██████████| 510/510 [02:07<00:00,  4.01it/s]\n",
      "                 Class     Images  Instances      Box(P          R      mAP50  mAP50-95): 100%|██████████| 133/133 [00:44<00:00,  2.96it/s]"
     ]
    },
    {
     "name": "stdout",
     "output_type": "stream",
     "text": [
      "                   all       2120       2494      0.939      0.925      0.965      0.749\n"
     ]
    },
    {
     "name": "stderr",
     "output_type": "stream",
     "text": [
      "\n"
     ]
    },
    {
     "name": "stdout",
     "output_type": "stream",
     "text": [
      "Closing dataloader mosaic\n",
      "\n",
      "      Epoch    GPU_mem   box_loss   cls_loss   dfl_loss  Instances       Size\n"
     ]
    },
    {
     "name": "stderr",
     "output_type": "stream",
     "text": [
      "      41/50      1.18G     0.7847     0.4117     0.9015          5        640: 100%|██████████| 510/510 [02:11<00:00,  3.89it/s]\n",
      "                 Class     Images  Instances      Box(P          R      mAP50  mAP50-95): 100%|██████████| 133/133 [00:48<00:00,  2.73it/s]"
     ]
    },
    {
     "name": "stdout",
     "output_type": "stream",
     "text": [
      "                   all       2120       2494      0.933      0.925      0.963      0.744\n"
     ]
    },
    {
     "name": "stderr",
     "output_type": "stream",
     "text": [
      "\n"
     ]
    },
    {
     "name": "stdout",
     "output_type": "stream",
     "text": [
      "\n",
      "      Epoch    GPU_mem   box_loss   cls_loss   dfl_loss  Instances       Size\n"
     ]
    },
    {
     "name": "stderr",
     "output_type": "stream",
     "text": [
      "      42/50      1.12G     0.7637     0.4052     0.8949          6        640: 100%|██████████| 510/510 [02:05<00:00,  4.07it/s]\n",
      "                 Class     Images  Instances      Box(P          R      mAP50  mAP50-95): 100%|██████████| 133/133 [00:44<00:00,  2.98it/s]"
     ]
    },
    {
     "name": "stdout",
     "output_type": "stream",
     "text": [
      "                   all       2120       2494      0.947       0.92      0.966      0.749\n"
     ]
    },
    {
     "name": "stderr",
     "output_type": "stream",
     "text": [
      "\n"
     ]
    },
    {
     "name": "stdout",
     "output_type": "stream",
     "text": [
      "\n",
      "      Epoch    GPU_mem   box_loss   cls_loss   dfl_loss  Instances       Size\n"
     ]
    },
    {
     "name": "stderr",
     "output_type": "stream",
     "text": [
      "      43/50      1.12G     0.7651     0.3994     0.8918          6        640: 100%|██████████| 510/510 [02:07<00:00,  4.01it/s]\n",
      "                 Class     Images  Instances      Box(P          R      mAP50  mAP50-95): 100%|██████████| 133/133 [00:44<00:00,  3.01it/s]"
     ]
    },
    {
     "name": "stdout",
     "output_type": "stream",
     "text": [
      "                   all       2120       2494      0.943      0.922      0.969      0.753\n"
     ]
    },
    {
     "name": "stderr",
     "output_type": "stream",
     "text": [
      "\n"
     ]
    },
    {
     "name": "stdout",
     "output_type": "stream",
     "text": [
      "\n",
      "      Epoch    GPU_mem   box_loss   cls_loss   dfl_loss  Instances       Size\n"
     ]
    },
    {
     "name": "stderr",
     "output_type": "stream",
     "text": [
      "      44/50      1.12G      0.754     0.3926     0.8914          5        640: 100%|██████████| 510/510 [02:08<00:00,  3.97it/s]\n",
      "                 Class     Images  Instances      Box(P          R      mAP50  mAP50-95): 100%|██████████| 133/133 [00:47<00:00,  2.78it/s]"
     ]
    },
    {
     "name": "stdout",
     "output_type": "stream",
     "text": [
      "                   all       2120       2494      0.941      0.933      0.969      0.757\n"
     ]
    },
    {
     "name": "stderr",
     "output_type": "stream",
     "text": [
      "\n"
     ]
    },
    {
     "name": "stdout",
     "output_type": "stream",
     "text": [
      "\n",
      "      Epoch    GPU_mem   box_loss   cls_loss   dfl_loss  Instances       Size\n"
     ]
    },
    {
     "name": "stderr",
     "output_type": "stream",
     "text": [
      "      45/50      1.12G     0.7477     0.3889     0.8915          4        640: 100%|██████████| 510/510 [02:06<00:00,  4.04it/s]\n",
      "                 Class     Images  Instances      Box(P          R      mAP50  mAP50-95): 100%|██████████| 133/133 [00:46<00:00,  2.87it/s]"
     ]
    },
    {
     "name": "stdout",
     "output_type": "stream",
     "text": [
      "                   all       2120       2494      0.944      0.927       0.97      0.759\n"
     ]
    },
    {
     "name": "stderr",
     "output_type": "stream",
     "text": [
      "\n"
     ]
    },
    {
     "name": "stdout",
     "output_type": "stream",
     "text": [
      "\n",
      "      Epoch    GPU_mem   box_loss   cls_loss   dfl_loss  Instances       Size\n"
     ]
    },
    {
     "name": "stderr",
     "output_type": "stream",
     "text": [
      "      46/50      1.12G     0.7452     0.3826     0.8888          4        640: 100%|██████████| 510/510 [02:06<00:00,  4.04it/s]\n",
      "                 Class     Images  Instances      Box(P          R      mAP50  mAP50-95): 100%|██████████| 133/133 [00:44<00:00,  2.97it/s]"
     ]
    },
    {
     "name": "stdout",
     "output_type": "stream",
     "text": [
      "                   all       2120       2494      0.935      0.934      0.968      0.755\n"
     ]
    },
    {
     "name": "stderr",
     "output_type": "stream",
     "text": [
      "\n"
     ]
    },
    {
     "name": "stdout",
     "output_type": "stream",
     "text": [
      "\n",
      "      Epoch    GPU_mem   box_loss   cls_loss   dfl_loss  Instances       Size\n"
     ]
    },
    {
     "name": "stderr",
     "output_type": "stream",
     "text": [
      "      47/50      1.12G     0.7307     0.3812     0.8876          6        640: 100%|██████████| 510/510 [02:11<00:00,  3.87it/s]\n",
      "                 Class     Images  Instances      Box(P          R      mAP50  mAP50-95): 100%|██████████| 133/133 [00:48<00:00,  2.72it/s]"
     ]
    },
    {
     "name": "stdout",
     "output_type": "stream",
     "text": [
      "                   all       2120       2494      0.936      0.929      0.969      0.761\n"
     ]
    },
    {
     "name": "stderr",
     "output_type": "stream",
     "text": [
      "\n"
     ]
    },
    {
     "name": "stdout",
     "output_type": "stream",
     "text": [
      "\n",
      "      Epoch    GPU_mem   box_loss   cls_loss   dfl_loss  Instances       Size\n"
     ]
    },
    {
     "name": "stderr",
     "output_type": "stream",
     "text": [
      "      48/50      1.12G     0.7298     0.3752     0.8854          6        640: 100%|██████████| 510/510 [02:05<00:00,  4.05it/s]\n",
      "                 Class     Images  Instances      Box(P          R      mAP50  mAP50-95): 100%|██████████| 133/133 [00:47<00:00,  2.78it/s]"
     ]
    },
    {
     "name": "stdout",
     "output_type": "stream",
     "text": [
      "                   all       2120       2494      0.954      0.916      0.969       0.76\n"
     ]
    },
    {
     "name": "stderr",
     "output_type": "stream",
     "text": [
      "\n"
     ]
    },
    {
     "name": "stdout",
     "output_type": "stream",
     "text": [
      "\n",
      "      Epoch    GPU_mem   box_loss   cls_loss   dfl_loss  Instances       Size\n"
     ]
    },
    {
     "name": "stderr",
     "output_type": "stream",
     "text": [
      "      49/50      1.12G     0.7219     0.3715     0.8802          4        640: 100%|██████████| 510/510 [02:05<00:00,  4.08it/s]\n",
      "                 Class     Images  Instances      Box(P          R      mAP50  mAP50-95): 100%|██████████| 133/133 [00:44<00:00,  2.96it/s]"
     ]
    },
    {
     "name": "stdout",
     "output_type": "stream",
     "text": [
      "                   all       2120       2494      0.951      0.924      0.971      0.761\n"
     ]
    },
    {
     "name": "stderr",
     "output_type": "stream",
     "text": [
      "\n"
     ]
    },
    {
     "name": "stdout",
     "output_type": "stream",
     "text": [
      "\n",
      "      Epoch    GPU_mem   box_loss   cls_loss   dfl_loss  Instances       Size\n"
     ]
    },
    {
     "name": "stderr",
     "output_type": "stream",
     "text": [
      "      50/50      1.12G     0.7172     0.3639     0.8842          5        640: 100%|██████████| 510/510 [02:09<00:00,  3.93it/s]\n",
      "                 Class     Images  Instances      Box(P          R      mAP50  mAP50-95): 100%|██████████| 133/133 [00:46<00:00,  2.87it/s]"
     ]
    },
    {
     "name": "stdout",
     "output_type": "stream",
     "text": [
      "                   all       2120       2494      0.948      0.925      0.971      0.764\n"
     ]
    },
    {
     "name": "stderr",
     "output_type": "stream",
     "text": [
      "\n"
     ]
    },
    {
     "name": "stdout",
     "output_type": "stream",
     "text": [
      "\n",
      "50 epochs completed in 2.436 hours.\n",
      "Optimizer stripped from runs/detect/train7/weights/last.pt, 6.2MB\n",
      "Optimizer stripped from runs/detect/train7/weights/best.pt, 6.2MB\n",
      "\n",
      "Validating runs/detect/train7/weights/best.pt...\n",
      "Ultralytics 8.3.78 🚀 Python-3.12.7 torch-2.6.0+cu124 CUDA:0 (NVIDIA GeForce GTX 1080 Ti, 11264MiB)\n",
      "Model summary (fused): 72 layers, 3,005,843 parameters, 0 gradients, 8.1 GFLOPs\n"
     ]
    },
    {
     "name": "stderr",
     "output_type": "stream",
     "text": [
      "                 Class     Images  Instances      Box(P          R      mAP50  mAP50-95): 100%|██████████| 133/133 [00:48<00:00,  2.73it/s]\n"
     ]
    },
    {
     "name": "stdout",
     "output_type": "stream",
     "text": [
      "                   all       2120       2494      0.948      0.924      0.971      0.763\n",
      "Speed: 0.2ms preprocess, 2.2ms inference, 0.0ms loss, 0.8ms postprocess per image\n",
      "Results saved to \u001B[1mruns/detect/train7\u001B[0m\n",
      "ultralytics.utils.metrics.DetMetrics object with attributes:\n",
      "\n",
      "ap_class_index: array([0])\n",
      "box: ultralytics.utils.metrics.Metric object\n",
      "confusion_matrix: <ultralytics.utils.metrics.ConfusionMatrix object at 0x7fef595467b0>\n",
      "curves: ['Precision-Recall(B)', 'F1-Confidence(B)', 'Precision-Confidence(B)', 'Recall-Confidence(B)']\n",
      "curves_results: [[array([          0,    0.001001,    0.002002,    0.003003,    0.004004,    0.005005,    0.006006,    0.007007,    0.008008,    0.009009,     0.01001,    0.011011,    0.012012,    0.013013,    0.014014,    0.015015,    0.016016,    0.017017,    0.018018,    0.019019,     0.02002,    0.021021,    0.022022,    0.023023,\n",
      "          0.024024,    0.025025,    0.026026,    0.027027,    0.028028,    0.029029,     0.03003,    0.031031,    0.032032,    0.033033,    0.034034,    0.035035,    0.036036,    0.037037,    0.038038,    0.039039,     0.04004,    0.041041,    0.042042,    0.043043,    0.044044,    0.045045,    0.046046,    0.047047,\n",
      "          0.048048,    0.049049,     0.05005,    0.051051,    0.052052,    0.053053,    0.054054,    0.055055,    0.056056,    0.057057,    0.058058,    0.059059,     0.06006,    0.061061,    0.062062,    0.063063,    0.064064,    0.065065,    0.066066,    0.067067,    0.068068,    0.069069,     0.07007,    0.071071,\n",
      "          0.072072,    0.073073,    0.074074,    0.075075,    0.076076,    0.077077,    0.078078,    0.079079,     0.08008,    0.081081,    0.082082,    0.083083,    0.084084,    0.085085,    0.086086,    0.087087,    0.088088,    0.089089,     0.09009,    0.091091,    0.092092,    0.093093,    0.094094,    0.095095,\n",
      "          0.096096,    0.097097,    0.098098,    0.099099,      0.1001,      0.1011,      0.1021,      0.1031,      0.1041,     0.10511,     0.10611,     0.10711,     0.10811,     0.10911,     0.11011,     0.11111,     0.11211,     0.11311,     0.11411,     0.11512,     0.11612,     0.11712,     0.11812,     0.11912,\n",
      "           0.12012,     0.12112,     0.12212,     0.12312,     0.12412,     0.12513,     0.12613,     0.12713,     0.12813,     0.12913,     0.13013,     0.13113,     0.13213,     0.13313,     0.13413,     0.13514,     0.13614,     0.13714,     0.13814,     0.13914,     0.14014,     0.14114,     0.14214,     0.14314,\n",
      "           0.14414,     0.14515,     0.14615,     0.14715,     0.14815,     0.14915,     0.15015,     0.15115,     0.15215,     0.15315,     0.15415,     0.15516,     0.15616,     0.15716,     0.15816,     0.15916,     0.16016,     0.16116,     0.16216,     0.16316,     0.16416,     0.16517,     0.16617,     0.16717,\n",
      "           0.16817,     0.16917,     0.17017,     0.17117,     0.17217,     0.17317,     0.17417,     0.17518,     0.17618,     0.17718,     0.17818,     0.17918,     0.18018,     0.18118,     0.18218,     0.18318,     0.18418,     0.18519,     0.18619,     0.18719,     0.18819,     0.18919,     0.19019,     0.19119,\n",
      "           0.19219,     0.19319,     0.19419,      0.1952,      0.1962,      0.1972,      0.1982,      0.1992,      0.2002,      0.2012,      0.2022,      0.2032,      0.2042,     0.20521,     0.20621,     0.20721,     0.20821,     0.20921,     0.21021,     0.21121,     0.21221,     0.21321,     0.21421,     0.21522,\n",
      "           0.21622,     0.21722,     0.21822,     0.21922,     0.22022,     0.22122,     0.22222,     0.22322,     0.22422,     0.22523,     0.22623,     0.22723,     0.22823,     0.22923,     0.23023,     0.23123,     0.23223,     0.23323,     0.23423,     0.23524,     0.23624,     0.23724,     0.23824,     0.23924,\n",
      "           0.24024,     0.24124,     0.24224,     0.24324,     0.24424,     0.24525,     0.24625,     0.24725,     0.24825,     0.24925,     0.25025,     0.25125,     0.25225,     0.25325,     0.25425,     0.25526,     0.25626,     0.25726,     0.25826,     0.25926,     0.26026,     0.26126,     0.26226,     0.26326,\n",
      "           0.26426,     0.26527,     0.26627,     0.26727,     0.26827,     0.26927,     0.27027,     0.27127,     0.27227,     0.27327,     0.27427,     0.27528,     0.27628,     0.27728,     0.27828,     0.27928,     0.28028,     0.28128,     0.28228,     0.28328,     0.28428,     0.28529,     0.28629,     0.28729,\n",
      "           0.28829,     0.28929,     0.29029,     0.29129,     0.29229,     0.29329,     0.29429,      0.2953,      0.2963,      0.2973,      0.2983,      0.2993,      0.3003,      0.3013,      0.3023,      0.3033,      0.3043,     0.30531,     0.30631,     0.30731,     0.30831,     0.30931,     0.31031,     0.31131,\n",
      "           0.31231,     0.31331,     0.31431,     0.31532,     0.31632,     0.31732,     0.31832,     0.31932,     0.32032,     0.32132,     0.32232,     0.32332,     0.32432,     0.32533,     0.32633,     0.32733,     0.32833,     0.32933,     0.33033,     0.33133,     0.33233,     0.33333,     0.33433,     0.33534,\n",
      "           0.33634,     0.33734,     0.33834,     0.33934,     0.34034,     0.34134,     0.34234,     0.34334,     0.34434,     0.34535,     0.34635,     0.34735,     0.34835,     0.34935,     0.35035,     0.35135,     0.35235,     0.35335,     0.35435,     0.35536,     0.35636,     0.35736,     0.35836,     0.35936,\n",
      "           0.36036,     0.36136,     0.36236,     0.36336,     0.36436,     0.36537,     0.36637,     0.36737,     0.36837,     0.36937,     0.37037,     0.37137,     0.37237,     0.37337,     0.37437,     0.37538,     0.37638,     0.37738,     0.37838,     0.37938,     0.38038,     0.38138,     0.38238,     0.38338,\n",
      "           0.38438,     0.38539,     0.38639,     0.38739,     0.38839,     0.38939,     0.39039,     0.39139,     0.39239,     0.39339,     0.39439,      0.3954,      0.3964,      0.3974,      0.3984,      0.3994,      0.4004,      0.4014,      0.4024,      0.4034,      0.4044,     0.40541,     0.40641,     0.40741,\n",
      "           0.40841,     0.40941,     0.41041,     0.41141,     0.41241,     0.41341,     0.41441,     0.41542,     0.41642,     0.41742,     0.41842,     0.41942,     0.42042,     0.42142,     0.42242,     0.42342,     0.42442,     0.42543,     0.42643,     0.42743,     0.42843,     0.42943,     0.43043,     0.43143,\n",
      "           0.43243,     0.43343,     0.43443,     0.43544,     0.43644,     0.43744,     0.43844,     0.43944,     0.44044,     0.44144,     0.44244,     0.44344,     0.44444,     0.44545,     0.44645,     0.44745,     0.44845,     0.44945,     0.45045,     0.45145,     0.45245,     0.45345,     0.45445,     0.45546,\n",
      "           0.45646,     0.45746,     0.45846,     0.45946,     0.46046,     0.46146,     0.46246,     0.46346,     0.46446,     0.46547,     0.46647,     0.46747,     0.46847,     0.46947,     0.47047,     0.47147,     0.47247,     0.47347,     0.47447,     0.47548,     0.47648,     0.47748,     0.47848,     0.47948,\n",
      "           0.48048,     0.48148,     0.48248,     0.48348,     0.48448,     0.48549,     0.48649,     0.48749,     0.48849,     0.48949,     0.49049,     0.49149,     0.49249,     0.49349,     0.49449,      0.4955,      0.4965,      0.4975,      0.4985,      0.4995,      0.5005,      0.5015,      0.5025,      0.5035,\n",
      "            0.5045,     0.50551,     0.50651,     0.50751,     0.50851,     0.50951,     0.51051,     0.51151,     0.51251,     0.51351,     0.51451,     0.51552,     0.51652,     0.51752,     0.51852,     0.51952,     0.52052,     0.52152,     0.52252,     0.52352,     0.52452,     0.52553,     0.52653,     0.52753,\n",
      "           0.52853,     0.52953,     0.53053,     0.53153,     0.53253,     0.53353,     0.53453,     0.53554,     0.53654,     0.53754,     0.53854,     0.53954,     0.54054,     0.54154,     0.54254,     0.54354,     0.54454,     0.54555,     0.54655,     0.54755,     0.54855,     0.54955,     0.55055,     0.55155,\n",
      "           0.55255,     0.55355,     0.55455,     0.55556,     0.55656,     0.55756,     0.55856,     0.55956,     0.56056,     0.56156,     0.56256,     0.56356,     0.56456,     0.56557,     0.56657,     0.56757,     0.56857,     0.56957,     0.57057,     0.57157,     0.57257,     0.57357,     0.57457,     0.57558,\n",
      "           0.57658,     0.57758,     0.57858,     0.57958,     0.58058,     0.58158,     0.58258,     0.58358,     0.58458,     0.58559,     0.58659,     0.58759,     0.58859,     0.58959,     0.59059,     0.59159,     0.59259,     0.59359,     0.59459,      0.5956,      0.5966,      0.5976,      0.5986,      0.5996,\n",
      "            0.6006,      0.6016,      0.6026,      0.6036,      0.6046,     0.60561,     0.60661,     0.60761,     0.60861,     0.60961,     0.61061,     0.61161,     0.61261,     0.61361,     0.61461,     0.61562,     0.61662,     0.61762,     0.61862,     0.61962,     0.62062,     0.62162,     0.62262,     0.62362,\n",
      "           0.62462,     0.62563,     0.62663,     0.62763,     0.62863,     0.62963,     0.63063,     0.63163,     0.63263,     0.63363,     0.63463,     0.63564,     0.63664,     0.63764,     0.63864,     0.63964,     0.64064,     0.64164,     0.64264,     0.64364,     0.64464,     0.64565,     0.64665,     0.64765,\n",
      "           0.64865,     0.64965,     0.65065,     0.65165,     0.65265,     0.65365,     0.65465,     0.65566,     0.65666,     0.65766,     0.65866,     0.65966,     0.66066,     0.66166,     0.66266,     0.66366,     0.66466,     0.66567,     0.66667,     0.66767,     0.66867,     0.66967,     0.67067,     0.67167,\n",
      "           0.67267,     0.67367,     0.67467,     0.67568,     0.67668,     0.67768,     0.67868,     0.67968,     0.68068,     0.68168,     0.68268,     0.68368,     0.68468,     0.68569,     0.68669,     0.68769,     0.68869,     0.68969,     0.69069,     0.69169,     0.69269,     0.69369,     0.69469,      0.6957,\n",
      "            0.6967,      0.6977,      0.6987,      0.6997,      0.7007,      0.7017,      0.7027,      0.7037,      0.7047,     0.70571,     0.70671,     0.70771,     0.70871,     0.70971,     0.71071,     0.71171,     0.71271,     0.71371,     0.71471,     0.71572,     0.71672,     0.71772,     0.71872,     0.71972,\n",
      "           0.72072,     0.72172,     0.72272,     0.72372,     0.72472,     0.72573,     0.72673,     0.72773,     0.72873,     0.72973,     0.73073,     0.73173,     0.73273,     0.73373,     0.73473,     0.73574,     0.73674,     0.73774,     0.73874,     0.73974,     0.74074,     0.74174,     0.74274,     0.74374,\n",
      "           0.74474,     0.74575,     0.74675,     0.74775,     0.74875,     0.74975,     0.75075,     0.75175,     0.75275,     0.75375,     0.75475,     0.75576,     0.75676,     0.75776,     0.75876,     0.75976,     0.76076,     0.76176,     0.76276,     0.76376,     0.76476,     0.76577,     0.76677,     0.76777,\n",
      "           0.76877,     0.76977,     0.77077,     0.77177,     0.77277,     0.77377,     0.77477,     0.77578,     0.77678,     0.77778,     0.77878,     0.77978,     0.78078,     0.78178,     0.78278,     0.78378,     0.78478,     0.78579,     0.78679,     0.78779,     0.78879,     0.78979,     0.79079,     0.79179,\n",
      "           0.79279,     0.79379,     0.79479,      0.7958,      0.7968,      0.7978,      0.7988,      0.7998,      0.8008,      0.8018,      0.8028,      0.8038,      0.8048,     0.80581,     0.80681,     0.80781,     0.80881,     0.80981,     0.81081,     0.81181,     0.81281,     0.81381,     0.81481,     0.81582,\n",
      "           0.81682,     0.81782,     0.81882,     0.81982,     0.82082,     0.82182,     0.82282,     0.82382,     0.82482,     0.82583,     0.82683,     0.82783,     0.82883,     0.82983,     0.83083,     0.83183,     0.83283,     0.83383,     0.83483,     0.83584,     0.83684,     0.83784,     0.83884,     0.83984,\n",
      "           0.84084,     0.84184,     0.84284,     0.84384,     0.84484,     0.84585,     0.84685,     0.84785,     0.84885,     0.84985,     0.85085,     0.85185,     0.85285,     0.85385,     0.85485,     0.85586,     0.85686,     0.85786,     0.85886,     0.85986,     0.86086,     0.86186,     0.86286,     0.86386,\n",
      "           0.86486,     0.86587,     0.86687,     0.86787,     0.86887,     0.86987,     0.87087,     0.87187,     0.87287,     0.87387,     0.87487,     0.87588,     0.87688,     0.87788,     0.87888,     0.87988,     0.88088,     0.88188,     0.88288,     0.88388,     0.88488,     0.88589,     0.88689,     0.88789,\n",
      "           0.88889,     0.88989,     0.89089,     0.89189,     0.89289,     0.89389,     0.89489,      0.8959,      0.8969,      0.8979,      0.8989,      0.8999,      0.9009,      0.9019,      0.9029,      0.9039,      0.9049,     0.90591,     0.90691,     0.90791,     0.90891,     0.90991,     0.91091,     0.91191,\n",
      "           0.91291,     0.91391,     0.91491,     0.91592,     0.91692,     0.91792,     0.91892,     0.91992,     0.92092,     0.92192,     0.92292,     0.92392,     0.92492,     0.92593,     0.92693,     0.92793,     0.92893,     0.92993,     0.93093,     0.93193,     0.93293,     0.93393,     0.93493,     0.93594,\n",
      "           0.93694,     0.93794,     0.93894,     0.93994,     0.94094,     0.94194,     0.94294,     0.94394,     0.94494,     0.94595,     0.94695,     0.94795,     0.94895,     0.94995,     0.95095,     0.95195,     0.95295,     0.95395,     0.95495,     0.95596,     0.95696,     0.95796,     0.95896,     0.95996,\n",
      "           0.96096,     0.96196,     0.96296,     0.96396,     0.96496,     0.96597,     0.96697,     0.96797,     0.96897,     0.96997,     0.97097,     0.97197,     0.97297,     0.97397,     0.97497,     0.97598,     0.97698,     0.97798,     0.97898,     0.97998,     0.98098,     0.98198,     0.98298,     0.98398,\n",
      "           0.98498,     0.98599,     0.98699,     0.98799,     0.98899,     0.98999,     0.99099,     0.99199,     0.99299,     0.99399,     0.99499,       0.996,       0.997,       0.998,       0.999,           1]), array([[          1,           1,           1,           1,           1,           1,           1,           1,           1,           1,           1,           1,           1,           1,           1,           1,           1,           1,           1,           1,           1,           1,           1,\n",
      "                  1,           1,           1,           1,           1,           1,           1,           1,           1,           1,           1,           1,           1,           1,           1,           1,           1,           1,           1,           1,           1,           1,           1,\n",
      "                  1,           1,           1,           1,           1,           1,           1,           1,           1,           1,           1,           1,           1,           1,           1,           1,           1,           1,           1,           1,           1,           1,           1,\n",
      "                  1,           1,           1,           1,           1,           1,           1,           1,           1,           1,           1,           1,           1,           1,           1,           1,           1,           1,           1,           1,           1,           1,           1,\n",
      "                  1,           1,           1,           1,           1,           1,           1,           1,           1,           1,           1,           1,           1,           1,           1,           1,           1,           1,           1,           1,           1,           1,           1,\n",
      "                  1,           1,           1,           1,           1,           1,           1,           1,           1,           1,           1,           1,           1,           1,           1,           1,           1,           1,           1,     0.99845,     0.99845,     0.99845,     0.99845,\n",
      "            0.99845,     0.99845,     0.99845,     0.99845,     0.99845,     0.99845,     0.99845,     0.99845,     0.99845,     0.99845,     0.99845,     0.99845,     0.99845,     0.99845,     0.99845,     0.99845,     0.99845,     0.99845,     0.99845,     0.99845,     0.99845,     0.99845,     0.99845,\n",
      "            0.99845,     0.99845,     0.99845,     0.99845,     0.99845,     0.99845,     0.99845,     0.99845,     0.99845,     0.99845,     0.99845,     0.99845,     0.99845,     0.99845,     0.99845,     0.99845,     0.99845,     0.99845,     0.99845,     0.99845,     0.99845,     0.99845,     0.99845,\n",
      "            0.99845,     0.99845,     0.99845,     0.99845,     0.99845,     0.99845,     0.99845,     0.99845,     0.99845,     0.99845,     0.99845,     0.99845,     0.99845,     0.99845,     0.99845,     0.99845,     0.99845,     0.99845,     0.99845,     0.99845,     0.99845,     0.99845,     0.99845,\n",
      "            0.99845,     0.99845,     0.99845,     0.99845,     0.99845,     0.99845,     0.99845,     0.99845,     0.99845,     0.99845,     0.99845,     0.99845,     0.99845,     0.99845,     0.99845,     0.99845,     0.99845,     0.99845,     0.99845,     0.99845,     0.99845,     0.99845,     0.99845,\n",
      "            0.99845,     0.99845,     0.99845,     0.99845,     0.99845,     0.99845,     0.99845,     0.99845,     0.99845,     0.99845,     0.99845,     0.99845,     0.99845,     0.99845,     0.99845,     0.99845,     0.99845,     0.99845,     0.99845,     0.99845,     0.99845,     0.99845,     0.99845,\n",
      "            0.99845,     0.99845,     0.99845,     0.99845,     0.99845,     0.99836,     0.99836,     0.99836,     0.99836,     0.99836,     0.99836,     0.99836,     0.99836,     0.99836,     0.99836,     0.99836,     0.99836,     0.99836,     0.99836,     0.99836,     0.99836,     0.99836,     0.99836,\n",
      "            0.99836,     0.99836,     0.99836,     0.99836,     0.99836,     0.99836,     0.99836,     0.99836,     0.99836,     0.99836,     0.99836,     0.99836,     0.99836,     0.99836,     0.99836,     0.99836,     0.99836,     0.99836,     0.99836,     0.99836,     0.99836,     0.99836,     0.99836,\n",
      "            0.99836,     0.99836,     0.99836,     0.99836,     0.99836,     0.99836,     0.99836,     0.99836,     0.99836,     0.99836,     0.99836,     0.99836,     0.99836,     0.99836,     0.99836,     0.99836,     0.99836,     0.99836,     0.99836,     0.99836,     0.99836,     0.99836,     0.99836,\n",
      "            0.99836,     0.99836,     0.99836,     0.99836,     0.99836,     0.99836,     0.99836,     0.99836,     0.99836,     0.99836,     0.99836,     0.99836,     0.99836,     0.99836,     0.99836,     0.99836,     0.99836,     0.99836,     0.99836,     0.99836,     0.99836,     0.99836,     0.99836,\n",
      "            0.99836,     0.99836,     0.99836,     0.99836,     0.99836,     0.99836,     0.99836,     0.99836,     0.99836,     0.99836,     0.99836,     0.99836,     0.99836,     0.99836,     0.99836,     0.99836,     0.99836,     0.99836,     0.99836,     0.99836,     0.99836,     0.99836,     0.99836,\n",
      "            0.99836,     0.99836,     0.99836,     0.99836,     0.99836,     0.99836,     0.99836,     0.99836,     0.99836,     0.99836,     0.99836,     0.99836,     0.99836,     0.99836,     0.99836,     0.99836,     0.99836,     0.99836,     0.99836,     0.99836,     0.99836,     0.99836,     0.99836,\n",
      "            0.99836,     0.99836,     0.99836,     0.99836,     0.99836,     0.99836,     0.99836,     0.99836,     0.99836,     0.99836,     0.99836,     0.99836,     0.99836,     0.99836,     0.99836,     0.99836,     0.99836,     0.99836,     0.99836,     0.99836,     0.99836,     0.99836,     0.99836,\n",
      "            0.99836,     0.99836,     0.99836,     0.99836,     0.99836,     0.99836,     0.99836,     0.99836,     0.99836,     0.99836,     0.99836,     0.99836,     0.99836,     0.99836,     0.99836,     0.99836,     0.99836,     0.99836,     0.99836,     0.99836,     0.99836,     0.99836,     0.99836,\n",
      "            0.99836,     0.99836,     0.99836,     0.99836,     0.99836,     0.99836,     0.99836,     0.99836,     0.99836,     0.99836,     0.99836,     0.99836,     0.99836,     0.99836,     0.99836,     0.99836,     0.99836,     0.99836,     0.99836,     0.99836,     0.99836,     0.99836,     0.99836,\n",
      "            0.99836,     0.99836,     0.99836,     0.99836,     0.99836,     0.99836,     0.99836,     0.99836,     0.99836,     0.99836,     0.99836,     0.99836,     0.99836,     0.99836,     0.99836,     0.99836,     0.99836,     0.99836,     0.99836,     0.99836,     0.99836,     0.99836,     0.99836,\n",
      "            0.99836,     0.99836,     0.99836,     0.99836,     0.99794,     0.99794,     0.99794,     0.99794,     0.99794,     0.99794,     0.99794,     0.99794,     0.99794,     0.99794,     0.99794,     0.99794,     0.99794,     0.99794,     0.99794,     0.99794,     0.99794,     0.99794,     0.99794,\n",
      "            0.99794,     0.99794,     0.99794,     0.99794,     0.99794,     0.99794,     0.99794,     0.99794,     0.99794,     0.99794,     0.99794,     0.99794,     0.99794,     0.99794,     0.99794,     0.99794,     0.99794,     0.99794,     0.99794,     0.99794,     0.99794,     0.99794,     0.99794,\n",
      "            0.99794,     0.99794,     0.99794,     0.99794,     0.99794,     0.99794,     0.99794,     0.99794,     0.99794,     0.99794,     0.99794,     0.99794,     0.99794,     0.99794,     0.99794,     0.99794,     0.99794,     0.99794,     0.99794,     0.99794,     0.99794,     0.99794,     0.99794,\n",
      "            0.99794,     0.99794,     0.99794,     0.99794,     0.99794,     0.99794,     0.99794,     0.99794,     0.99794,     0.99794,     0.99794,     0.99794,     0.99794,     0.99794,     0.99794,     0.99794,     0.99794,     0.99794,     0.99794,     0.99794,     0.99794,     0.99794,     0.99794,\n",
      "            0.99794,     0.99794,     0.99794,     0.99794,     0.99794,     0.99794,     0.99794,     0.99794,     0.99727,     0.99727,     0.99727,     0.99727,     0.99679,     0.99679,     0.99679,     0.99679,     0.99679,     0.99679,     0.99679,     0.99679,     0.99679,     0.99679,     0.99679,\n",
      "            0.99679,     0.99679,     0.99679,     0.99679,     0.99679,     0.99679,     0.99679,     0.99679,     0.99679,     0.99679,     0.99679,     0.99679,     0.99679,     0.99679,     0.99679,     0.99679,     0.99679,     0.99679,     0.99679,     0.99679,     0.99679,     0.99679,     0.99679,\n",
      "            0.99679,     0.99621,     0.99621,     0.99621,     0.99621,     0.99621,     0.99621,     0.99621,     0.99621,     0.99621,     0.99621,     0.99621,      0.9957,      0.9957,      0.9957,      0.9957,      0.9957,      0.9957,      0.9957,      0.9957,      0.9957,      0.9957,      0.9957,\n",
      "             0.9957,      0.9957,      0.9957,      0.9957,      0.9957,     0.99521,     0.99521,     0.99521,     0.99521,     0.99521,     0.99521,     0.99521,     0.99521,     0.99521,     0.99521,     0.99521,     0.99521,     0.99521,     0.99521,     0.99521,     0.99521,     0.99521,     0.99463,\n",
      "            0.99463,     0.99463,     0.99409,     0.99409,     0.99409,     0.99409,     0.99409,     0.99353,     0.99353,     0.99353,     0.99302,     0.99302,     0.99302,     0.99302,     0.99302,     0.99302,     0.99302,     0.99252,     0.99252,     0.99252,     0.99252,     0.99252,     0.99252,\n",
      "            0.99252,     0.99252,     0.99208,     0.99208,     0.99208,     0.99208,     0.99208,     0.99208,     0.99208,     0.99208,     0.99208,     0.99208,     0.99208,     0.99187,     0.99187,     0.99187,     0.99187,     0.99187,     0.99187,     0.99187,     0.99187,     0.99187,     0.99187,\n",
      "            0.99187,     0.99187,     0.99187,     0.99187,     0.99187,     0.99187,     0.99187,     0.99187,     0.99187,     0.99187,     0.99187,     0.99187,     0.99187,     0.99187,     0.99187,     0.99187,     0.99187,     0.99187,     0.99187,     0.99187,     0.99187,     0.99104,     0.99104,\n",
      "            0.99104,     0.99104,     0.99104,     0.99104,     0.99104,     0.99104,     0.99104,     0.99104,     0.99104,     0.99104,     0.99104,     0.99104,     0.99104,     0.99104,     0.99104,     0.99104,     0.99104,     0.99104,     0.99005,     0.99005,     0.99005,     0.99005,     0.98971,\n",
      "            0.98971,     0.98971,     0.98971,     0.98971,     0.98971,     0.98971,     0.98971,     0.98971,     0.98971,     0.98971,     0.98971,     0.98971,     0.98925,     0.98925,     0.98925,     0.98882,     0.98882,     0.98882,     0.98882,     0.98882,     0.98882,     0.98785,     0.98785,\n",
      "            0.98738,     0.98738,     0.98691,     0.98691,     0.98643,     0.98596,     0.98555,     0.98555,     0.98555,     0.98555,     0.98555,     0.98508,     0.98483,     0.98483,     0.98483,     0.98483,     0.98483,     0.98483,     0.98483,     0.98483,     0.98483,     0.98483,     0.98483,\n",
      "            0.98483,     0.98438,     0.98438,     0.98401,     0.98401,     0.98401,     0.98401,     0.98401,     0.98401,     0.98356,      0.9831,     0.98266,     0.98266,     0.98226,     0.98226,     0.98226,     0.98205,     0.98205,     0.98205,     0.98205,     0.98205,     0.98205,     0.98205,\n",
      "            0.98205,     0.98205,     0.98205,     0.98205,     0.98205,      0.9812,      0.9812,      0.9812,      0.9812,     0.97984,     0.97906,     0.97906,     0.97906,     0.97906,     0.97906,     0.97825,     0.97825,     0.97825,     0.97825,     0.97785,     0.97785,     0.97741,     0.97702,\n",
      "            0.97702,     0.97666,     0.97666,     0.97666,     0.97624,     0.97587,     0.97587,     0.97587,       0.975,     0.97481,     0.97481,     0.97481,     0.97481,     0.97481,     0.97481,     0.97481,     0.97481,     0.97481,     0.97444,     0.97444,     0.97365,     0.97365,     0.97365,\n",
      "            0.97325,     0.97285,     0.97248,     0.97248,     0.97209,     0.97086,     0.97086,     0.97045,     0.97004,     0.96923,     0.96843,     0.96804,     0.96766,     0.96729,     0.96729,      0.9661,      0.9661,     0.96447,     0.96415,     0.96415,     0.96415,     0.96382,     0.96382,\n",
      "            0.96314,     0.96314,     0.96314,     0.96314,     0.96197,     0.96118,        0.96,     0.95969,     0.95969,     0.95969,     0.95937,     0.95937,     0.95707,     0.95707,      0.9567,     0.95634,     0.95603,     0.95603,      0.9553,      0.9553,     0.95343,     0.95343,     0.95189,\n",
      "            0.95155,      0.9512,     0.95085,     0.94817,     0.94782,     0.94442,     0.94367,       0.943,     0.94149,     0.94041,     0.93934,     0.93826,     0.93682,     0.93537,     0.93243,      0.9288,     0.92591,     0.92457,     0.92353,     0.92033,     0.91931,     0.91689,      0.9134,\n",
      "            0.91208,     0.91145,     0.90839,      0.8992,     0.89894,     0.89625,     0.89266,      0.8924,     0.89185,     0.88727,     0.88181,     0.87772,     0.87363,     0.87276,       0.865,     0.86323,     0.85536,     0.85181,     0.84507,     0.83986,     0.83247,     0.82971,     0.82309,\n",
      "            0.81902,     0.81286,     0.80326,     0.80053,     0.77405,     0.76595,     0.75939,     0.72995,     0.71007,     0.69831,     0.69115,     0.67627,     0.64792,      0.6052,     0.58499,     0.41315,     0.38487,     0.28575,     0.26789,     0.25003,     0.23217,     0.21431,     0.19645,\n",
      "            0.17859,     0.16073,     0.14287,     0.12501,     0.10715,    0.089296,    0.071437,    0.053577,    0.035718,    0.017859,           0]]), 'Recall', 'Precision'], [array([          0,    0.001001,    0.002002,    0.003003,    0.004004,    0.005005,    0.006006,    0.007007,    0.008008,    0.009009,     0.01001,    0.011011,    0.012012,    0.013013,    0.014014,    0.015015,    0.016016,    0.017017,    0.018018,    0.019019,     0.02002,    0.021021,    0.022022,    0.023023,\n",
      "          0.024024,    0.025025,    0.026026,    0.027027,    0.028028,    0.029029,     0.03003,    0.031031,    0.032032,    0.033033,    0.034034,    0.035035,    0.036036,    0.037037,    0.038038,    0.039039,     0.04004,    0.041041,    0.042042,    0.043043,    0.044044,    0.045045,    0.046046,    0.047047,\n",
      "          0.048048,    0.049049,     0.05005,    0.051051,    0.052052,    0.053053,    0.054054,    0.055055,    0.056056,    0.057057,    0.058058,    0.059059,     0.06006,    0.061061,    0.062062,    0.063063,    0.064064,    0.065065,    0.066066,    0.067067,    0.068068,    0.069069,     0.07007,    0.071071,\n",
      "          0.072072,    0.073073,    0.074074,    0.075075,    0.076076,    0.077077,    0.078078,    0.079079,     0.08008,    0.081081,    0.082082,    0.083083,    0.084084,    0.085085,    0.086086,    0.087087,    0.088088,    0.089089,     0.09009,    0.091091,    0.092092,    0.093093,    0.094094,    0.095095,\n",
      "          0.096096,    0.097097,    0.098098,    0.099099,      0.1001,      0.1011,      0.1021,      0.1031,      0.1041,     0.10511,     0.10611,     0.10711,     0.10811,     0.10911,     0.11011,     0.11111,     0.11211,     0.11311,     0.11411,     0.11512,     0.11612,     0.11712,     0.11812,     0.11912,\n",
      "           0.12012,     0.12112,     0.12212,     0.12312,     0.12412,     0.12513,     0.12613,     0.12713,     0.12813,     0.12913,     0.13013,     0.13113,     0.13213,     0.13313,     0.13413,     0.13514,     0.13614,     0.13714,     0.13814,     0.13914,     0.14014,     0.14114,     0.14214,     0.14314,\n",
      "           0.14414,     0.14515,     0.14615,     0.14715,     0.14815,     0.14915,     0.15015,     0.15115,     0.15215,     0.15315,     0.15415,     0.15516,     0.15616,     0.15716,     0.15816,     0.15916,     0.16016,     0.16116,     0.16216,     0.16316,     0.16416,     0.16517,     0.16617,     0.16717,\n",
      "           0.16817,     0.16917,     0.17017,     0.17117,     0.17217,     0.17317,     0.17417,     0.17518,     0.17618,     0.17718,     0.17818,     0.17918,     0.18018,     0.18118,     0.18218,     0.18318,     0.18418,     0.18519,     0.18619,     0.18719,     0.18819,     0.18919,     0.19019,     0.19119,\n",
      "           0.19219,     0.19319,     0.19419,      0.1952,      0.1962,      0.1972,      0.1982,      0.1992,      0.2002,      0.2012,      0.2022,      0.2032,      0.2042,     0.20521,     0.20621,     0.20721,     0.20821,     0.20921,     0.21021,     0.21121,     0.21221,     0.21321,     0.21421,     0.21522,\n",
      "           0.21622,     0.21722,     0.21822,     0.21922,     0.22022,     0.22122,     0.22222,     0.22322,     0.22422,     0.22523,     0.22623,     0.22723,     0.22823,     0.22923,     0.23023,     0.23123,     0.23223,     0.23323,     0.23423,     0.23524,     0.23624,     0.23724,     0.23824,     0.23924,\n",
      "           0.24024,     0.24124,     0.24224,     0.24324,     0.24424,     0.24525,     0.24625,     0.24725,     0.24825,     0.24925,     0.25025,     0.25125,     0.25225,     0.25325,     0.25425,     0.25526,     0.25626,     0.25726,     0.25826,     0.25926,     0.26026,     0.26126,     0.26226,     0.26326,\n",
      "           0.26426,     0.26527,     0.26627,     0.26727,     0.26827,     0.26927,     0.27027,     0.27127,     0.27227,     0.27327,     0.27427,     0.27528,     0.27628,     0.27728,     0.27828,     0.27928,     0.28028,     0.28128,     0.28228,     0.28328,     0.28428,     0.28529,     0.28629,     0.28729,\n",
      "           0.28829,     0.28929,     0.29029,     0.29129,     0.29229,     0.29329,     0.29429,      0.2953,      0.2963,      0.2973,      0.2983,      0.2993,      0.3003,      0.3013,      0.3023,      0.3033,      0.3043,     0.30531,     0.30631,     0.30731,     0.30831,     0.30931,     0.31031,     0.31131,\n",
      "           0.31231,     0.31331,     0.31431,     0.31532,     0.31632,     0.31732,     0.31832,     0.31932,     0.32032,     0.32132,     0.32232,     0.32332,     0.32432,     0.32533,     0.32633,     0.32733,     0.32833,     0.32933,     0.33033,     0.33133,     0.33233,     0.33333,     0.33433,     0.33534,\n",
      "           0.33634,     0.33734,     0.33834,     0.33934,     0.34034,     0.34134,     0.34234,     0.34334,     0.34434,     0.34535,     0.34635,     0.34735,     0.34835,     0.34935,     0.35035,     0.35135,     0.35235,     0.35335,     0.35435,     0.35536,     0.35636,     0.35736,     0.35836,     0.35936,\n",
      "           0.36036,     0.36136,     0.36236,     0.36336,     0.36436,     0.36537,     0.36637,     0.36737,     0.36837,     0.36937,     0.37037,     0.37137,     0.37237,     0.37337,     0.37437,     0.37538,     0.37638,     0.37738,     0.37838,     0.37938,     0.38038,     0.38138,     0.38238,     0.38338,\n",
      "           0.38438,     0.38539,     0.38639,     0.38739,     0.38839,     0.38939,     0.39039,     0.39139,     0.39239,     0.39339,     0.39439,      0.3954,      0.3964,      0.3974,      0.3984,      0.3994,      0.4004,      0.4014,      0.4024,      0.4034,      0.4044,     0.40541,     0.40641,     0.40741,\n",
      "           0.40841,     0.40941,     0.41041,     0.41141,     0.41241,     0.41341,     0.41441,     0.41542,     0.41642,     0.41742,     0.41842,     0.41942,     0.42042,     0.42142,     0.42242,     0.42342,     0.42442,     0.42543,     0.42643,     0.42743,     0.42843,     0.42943,     0.43043,     0.43143,\n",
      "           0.43243,     0.43343,     0.43443,     0.43544,     0.43644,     0.43744,     0.43844,     0.43944,     0.44044,     0.44144,     0.44244,     0.44344,     0.44444,     0.44545,     0.44645,     0.44745,     0.44845,     0.44945,     0.45045,     0.45145,     0.45245,     0.45345,     0.45445,     0.45546,\n",
      "           0.45646,     0.45746,     0.45846,     0.45946,     0.46046,     0.46146,     0.46246,     0.46346,     0.46446,     0.46547,     0.46647,     0.46747,     0.46847,     0.46947,     0.47047,     0.47147,     0.47247,     0.47347,     0.47447,     0.47548,     0.47648,     0.47748,     0.47848,     0.47948,\n",
      "           0.48048,     0.48148,     0.48248,     0.48348,     0.48448,     0.48549,     0.48649,     0.48749,     0.48849,     0.48949,     0.49049,     0.49149,     0.49249,     0.49349,     0.49449,      0.4955,      0.4965,      0.4975,      0.4985,      0.4995,      0.5005,      0.5015,      0.5025,      0.5035,\n",
      "            0.5045,     0.50551,     0.50651,     0.50751,     0.50851,     0.50951,     0.51051,     0.51151,     0.51251,     0.51351,     0.51451,     0.51552,     0.51652,     0.51752,     0.51852,     0.51952,     0.52052,     0.52152,     0.52252,     0.52352,     0.52452,     0.52553,     0.52653,     0.52753,\n",
      "           0.52853,     0.52953,     0.53053,     0.53153,     0.53253,     0.53353,     0.53453,     0.53554,     0.53654,     0.53754,     0.53854,     0.53954,     0.54054,     0.54154,     0.54254,     0.54354,     0.54454,     0.54555,     0.54655,     0.54755,     0.54855,     0.54955,     0.55055,     0.55155,\n",
      "           0.55255,     0.55355,     0.55455,     0.55556,     0.55656,     0.55756,     0.55856,     0.55956,     0.56056,     0.56156,     0.56256,     0.56356,     0.56456,     0.56557,     0.56657,     0.56757,     0.56857,     0.56957,     0.57057,     0.57157,     0.57257,     0.57357,     0.57457,     0.57558,\n",
      "           0.57658,     0.57758,     0.57858,     0.57958,     0.58058,     0.58158,     0.58258,     0.58358,     0.58458,     0.58559,     0.58659,     0.58759,     0.58859,     0.58959,     0.59059,     0.59159,     0.59259,     0.59359,     0.59459,      0.5956,      0.5966,      0.5976,      0.5986,      0.5996,\n",
      "            0.6006,      0.6016,      0.6026,      0.6036,      0.6046,     0.60561,     0.60661,     0.60761,     0.60861,     0.60961,     0.61061,     0.61161,     0.61261,     0.61361,     0.61461,     0.61562,     0.61662,     0.61762,     0.61862,     0.61962,     0.62062,     0.62162,     0.62262,     0.62362,\n",
      "           0.62462,     0.62563,     0.62663,     0.62763,     0.62863,     0.62963,     0.63063,     0.63163,     0.63263,     0.63363,     0.63463,     0.63564,     0.63664,     0.63764,     0.63864,     0.63964,     0.64064,     0.64164,     0.64264,     0.64364,     0.64464,     0.64565,     0.64665,     0.64765,\n",
      "           0.64865,     0.64965,     0.65065,     0.65165,     0.65265,     0.65365,     0.65465,     0.65566,     0.65666,     0.65766,     0.65866,     0.65966,     0.66066,     0.66166,     0.66266,     0.66366,     0.66466,     0.66567,     0.66667,     0.66767,     0.66867,     0.66967,     0.67067,     0.67167,\n",
      "           0.67267,     0.67367,     0.67467,     0.67568,     0.67668,     0.67768,     0.67868,     0.67968,     0.68068,     0.68168,     0.68268,     0.68368,     0.68468,     0.68569,     0.68669,     0.68769,     0.68869,     0.68969,     0.69069,     0.69169,     0.69269,     0.69369,     0.69469,      0.6957,\n",
      "            0.6967,      0.6977,      0.6987,      0.6997,      0.7007,      0.7017,      0.7027,      0.7037,      0.7047,     0.70571,     0.70671,     0.70771,     0.70871,     0.70971,     0.71071,     0.71171,     0.71271,     0.71371,     0.71471,     0.71572,     0.71672,     0.71772,     0.71872,     0.71972,\n",
      "           0.72072,     0.72172,     0.72272,     0.72372,     0.72472,     0.72573,     0.72673,     0.72773,     0.72873,     0.72973,     0.73073,     0.73173,     0.73273,     0.73373,     0.73473,     0.73574,     0.73674,     0.73774,     0.73874,     0.73974,     0.74074,     0.74174,     0.74274,     0.74374,\n",
      "           0.74474,     0.74575,     0.74675,     0.74775,     0.74875,     0.74975,     0.75075,     0.75175,     0.75275,     0.75375,     0.75475,     0.75576,     0.75676,     0.75776,     0.75876,     0.75976,     0.76076,     0.76176,     0.76276,     0.76376,     0.76476,     0.76577,     0.76677,     0.76777,\n",
      "           0.76877,     0.76977,     0.77077,     0.77177,     0.77277,     0.77377,     0.77477,     0.77578,     0.77678,     0.77778,     0.77878,     0.77978,     0.78078,     0.78178,     0.78278,     0.78378,     0.78478,     0.78579,     0.78679,     0.78779,     0.78879,     0.78979,     0.79079,     0.79179,\n",
      "           0.79279,     0.79379,     0.79479,      0.7958,      0.7968,      0.7978,      0.7988,      0.7998,      0.8008,      0.8018,      0.8028,      0.8038,      0.8048,     0.80581,     0.80681,     0.80781,     0.80881,     0.80981,     0.81081,     0.81181,     0.81281,     0.81381,     0.81481,     0.81582,\n",
      "           0.81682,     0.81782,     0.81882,     0.81982,     0.82082,     0.82182,     0.82282,     0.82382,     0.82482,     0.82583,     0.82683,     0.82783,     0.82883,     0.82983,     0.83083,     0.83183,     0.83283,     0.83383,     0.83483,     0.83584,     0.83684,     0.83784,     0.83884,     0.83984,\n",
      "           0.84084,     0.84184,     0.84284,     0.84384,     0.84484,     0.84585,     0.84685,     0.84785,     0.84885,     0.84985,     0.85085,     0.85185,     0.85285,     0.85385,     0.85485,     0.85586,     0.85686,     0.85786,     0.85886,     0.85986,     0.86086,     0.86186,     0.86286,     0.86386,\n",
      "           0.86486,     0.86587,     0.86687,     0.86787,     0.86887,     0.86987,     0.87087,     0.87187,     0.87287,     0.87387,     0.87487,     0.87588,     0.87688,     0.87788,     0.87888,     0.87988,     0.88088,     0.88188,     0.88288,     0.88388,     0.88488,     0.88589,     0.88689,     0.88789,\n",
      "           0.88889,     0.88989,     0.89089,     0.89189,     0.89289,     0.89389,     0.89489,      0.8959,      0.8969,      0.8979,      0.8989,      0.8999,      0.9009,      0.9019,      0.9029,      0.9039,      0.9049,     0.90591,     0.90691,     0.90791,     0.90891,     0.90991,     0.91091,     0.91191,\n",
      "           0.91291,     0.91391,     0.91491,     0.91592,     0.91692,     0.91792,     0.91892,     0.91992,     0.92092,     0.92192,     0.92292,     0.92392,     0.92492,     0.92593,     0.92693,     0.92793,     0.92893,     0.92993,     0.93093,     0.93193,     0.93293,     0.93393,     0.93493,     0.93594,\n",
      "           0.93694,     0.93794,     0.93894,     0.93994,     0.94094,     0.94194,     0.94294,     0.94394,     0.94494,     0.94595,     0.94695,     0.94795,     0.94895,     0.94995,     0.95095,     0.95195,     0.95295,     0.95395,     0.95495,     0.95596,     0.95696,     0.95796,     0.95896,     0.95996,\n",
      "           0.96096,     0.96196,     0.96296,     0.96396,     0.96496,     0.96597,     0.96697,     0.96797,     0.96897,     0.96997,     0.97097,     0.97197,     0.97297,     0.97397,     0.97497,     0.97598,     0.97698,     0.97798,     0.97898,     0.97998,     0.98098,     0.98198,     0.98298,     0.98398,\n",
      "           0.98498,     0.98599,     0.98699,     0.98799,     0.98899,     0.98999,     0.99099,     0.99199,     0.99299,     0.99399,     0.99499,       0.996,       0.997,       0.998,       0.999,           1]), array([[    0.44336,     0.44336,     0.53566,     0.58912,     0.62456,     0.65264,     0.67318,     0.69103,     0.70775,     0.72063,     0.73242,     0.74059,     0.75039,     0.75887,     0.76657,     0.77193,     0.77708,     0.78345,     0.78894,     0.79345,     0.79882,     0.80337,     0.80604,\n",
      "            0.80896,     0.81214,     0.81435,     0.81737,     0.81945,     0.82154,     0.82497,     0.82757,     0.83106,     0.83302,     0.83467,     0.83606,     0.83765,     0.83914,     0.84153,     0.84375,     0.84547,     0.84665,     0.84809,     0.84939,     0.85189,     0.85368,      0.8547,\n",
      "             0.8559,     0.85692,     0.85809,     0.85882,     0.86028,     0.86114,     0.86189,     0.86329,     0.86392,     0.86458,     0.86559,     0.86665,     0.86724,     0.86751,     0.86844,     0.86963,     0.87047,     0.87208,     0.87258,     0.87328,     0.87379,     0.87459,     0.87555,\n",
      "            0.87636,     0.87668,     0.87682,     0.87728,     0.87769,     0.87839,     0.87849,     0.87884,     0.87932,     0.87977,     0.87991,      0.8801,     0.88029,      0.8809,     0.88191,     0.88305,     0.88365,     0.88377,     0.88497,     0.88593,     0.88631,     0.88644,     0.88662,\n",
      "            0.88708,     0.88803,     0.88855,     0.88884,     0.88927,     0.88945,     0.88976,     0.89004,     0.89088,     0.89096,     0.89094,     0.89152,     0.89211,     0.89274,     0.89312,     0.89352,     0.89399,      0.8947,     0.89484,     0.89524,     0.89574,     0.89596,     0.89632,\n",
      "            0.89643,      0.8966,     0.89712,      0.8971,      0.8973,     0.89816,     0.89868,     0.89904,      0.8998,     0.89972,     0.89998,     0.90045,     0.90072,     0.90089,     0.90132,     0.90162,     0.90238,     0.90246,     0.90265,     0.90276,     0.90319,     0.90365,      0.9043,\n",
      "            0.90457,      0.9047,     0.90472,     0.90491,     0.90559,     0.90595,     0.90613,     0.90601,     0.90645,     0.90696,     0.90728,      0.9073,     0.90772,     0.90831,     0.90842,     0.90863,     0.90864,     0.90888,     0.90914,     0.90907,     0.90939,     0.90957,     0.90968,\n",
      "            0.91003,     0.91023,     0.91065,     0.91085,     0.91135,     0.91129,      0.9116,     0.91192,     0.91221,     0.91294,     0.91279,     0.91288,     0.91271,     0.91277,     0.91289,     0.91303,     0.91313,     0.91325,     0.91344,     0.91365,     0.91405,     0.91448,     0.91484,\n",
      "            0.91475,     0.91479,     0.91486,     0.91495,     0.91505,     0.91531,     0.91569,     0.91609,     0.91656,     0.91648,     0.91654,      0.9166,     0.91657,     0.91648,     0.91643,     0.91672,     0.91689,      0.9173,     0.91753,      0.9178,     0.91811,     0.91857,     0.91853,\n",
      "            0.91862,     0.91884,     0.91897,     0.91918,     0.91944,     0.91934,      0.9196,     0.92002,     0.92005,     0.92009,     0.92013,     0.92017,     0.92033,     0.92048,     0.92087,     0.92081,      0.9208,     0.92057,     0.92042,     0.92049,     0.92041,     0.92056,     0.92092,\n",
      "            0.92101,     0.92111,     0.92124,     0.92124,     0.92133,     0.92142,     0.92154,     0.92156,     0.92152,     0.92149,     0.92146,     0.92143,     0.92139,     0.92163,     0.92174,      0.9218,     0.92233,     0.92265,     0.92274,     0.92292,     0.92302,      0.9231,     0.92285,\n",
      "            0.92289,     0.92285,      0.9228,     0.92275,      0.9227,     0.92245,     0.92241,     0.92237,     0.92233,     0.92229,     0.92235,     0.92247,     0.92251,     0.92255,     0.92259,       0.923,     0.92308,     0.92315,     0.92323,     0.92331,     0.92418,      0.9243,     0.92438,\n",
      "            0.92481,     0.92486,     0.92491,     0.92495,     0.92499,     0.92502,     0.92505,     0.92508,      0.9251,     0.92513,     0.92538,      0.9256,     0.92581,     0.92596,     0.92625,     0.92635,     0.92627,     0.92638,     0.92644,     0.92648,     0.92653,     0.92658,     0.92694,\n",
      "            0.92681,     0.92681,     0.92694,     0.92705,     0.92696,     0.92726,     0.92737,     0.92753,     0.92767,     0.92794,     0.92786,     0.92778,     0.92759,     0.92757,     0.92763,     0.92768,     0.92779,     0.92781,     0.92768,     0.92783,     0.92785,     0.92785,     0.92825,\n",
      "            0.92837,     0.92845,     0.92872,      0.9289,       0.929,     0.92906,     0.92911,     0.92917,     0.92922,     0.92933,     0.92932,     0.92912,       0.929,     0.92904,     0.92911,      0.9292,      0.9294,     0.92943,     0.92941,     0.92964,     0.92984,     0.92983,     0.92964,\n",
      "            0.92975,     0.92989,     0.93003,      0.9301,     0.93017,     0.93009,     0.93016,     0.93021,     0.93026,     0.93031,      0.9303,     0.93017,     0.93026,     0.93049,     0.93068,     0.93079,     0.93092,     0.93109,      0.9312,     0.93135,     0.93115,     0.93104,     0.93154,\n",
      "            0.93129,     0.93123,     0.93117,     0.93111,     0.93106,       0.931,     0.93094,     0.93104,     0.93123,     0.93109,     0.93125,     0.93144,     0.93124,     0.93139,     0.93128,     0.93145,     0.93164,      0.9318,     0.93191,     0.93245,     0.93236,     0.93246,     0.93256,\n",
      "            0.93267,     0.93272,     0.93277,     0.93282,     0.93277,     0.93285,     0.93292,     0.93298,      0.9331,     0.93325,     0.93336,     0.93346,     0.93356,     0.93353,     0.93349,     0.93344,      0.9334,     0.93338,     0.93348,     0.93356,     0.93363,     0.93369,     0.93358,\n",
      "            0.93375,     0.93386,     0.93402,      0.9344,     0.93461,     0.93457,     0.93453,     0.93448,     0.93444,     0.93479,      0.9348,     0.93494,     0.93495,     0.93505,     0.93508,     0.93489,     0.93478,     0.93475,     0.93487,     0.93479,     0.93472,     0.93477,     0.93499,\n",
      "            0.93509,     0.93516,     0.93522,      0.9352,     0.93514,     0.93509,     0.93503,     0.93529,     0.93539,     0.93536,     0.93517,     0.93493,     0.93496,     0.93501,     0.93506,     0.93528,      0.9351,     0.93524,     0.93513,     0.93515,     0.93507,     0.93517,     0.93511,\n",
      "             0.9351,     0.93524,     0.93534,     0.93561,     0.93567,     0.93573,     0.93562,     0.93549,     0.93542,     0.93535,      0.9354,      0.9355,     0.93543,     0.93532,     0.93509,     0.93523,     0.93531,     0.93537,     0.93544,     0.93538,      0.9355,     0.93543,     0.93536,\n",
      "             0.9354,     0.93544,     0.93548,     0.93552,     0.93556,     0.93561,     0.93566,      0.9357,     0.93579,     0.93599,     0.93597,     0.93613,     0.93622,     0.93619,     0.93604,     0.93596,     0.93589,     0.93595,     0.93592,     0.93588,     0.93598,     0.93632,     0.93644,\n",
      "             0.9365,     0.93657,     0.93643,     0.93652,     0.93646,     0.93641,     0.93635,     0.93659,     0.93665,     0.93672,     0.93663,     0.93651,      0.9364,     0.93629,     0.93639,     0.93647,     0.93606,     0.93623,     0.93612,     0.93599,      0.9356,     0.93566,     0.93573,\n",
      "            0.93561,      0.9358,     0.93591,      0.9358,     0.93598,     0.93609,     0.93605,       0.936,     0.93596,     0.93592,     0.93579,     0.93524,     0.93529,     0.93534,     0.93539,     0.93546,     0.93542,     0.93548,     0.93555,     0.93561,     0.93546,     0.93535,     0.93494,\n",
      "            0.93524,     0.93518,     0.93507,     0.93474,     0.93463,     0.93434,     0.93427,     0.93419,      0.9338,     0.93379,     0.93382,     0.93371,     0.93331,     0.93286,     0.93291,     0.93283,     0.93279,     0.93284,     0.93289,     0.93294,      0.9333,     0.93349,     0.93334,\n",
      "            0.93348,     0.93318,     0.93307,     0.93263,      0.9324,     0.93259,     0.93237,     0.93221,     0.93211,     0.93203,     0.93196,      0.9314,     0.93131,     0.93108,     0.93106,     0.93116,     0.93134,      0.9312,      0.9311,     0.93117,     0.93123,     0.93129,     0.93105,\n",
      "            0.93094,     0.93092,     0.93102,     0.93117,      0.9312,     0.93109,     0.93094,     0.93087,     0.93064,     0.93008,     0.92989,     0.92984,     0.92978,     0.92972,     0.92927,     0.92937,     0.92928,     0.92932,     0.92877,     0.92853,     0.92825,     0.92759,     0.92748,\n",
      "            0.92736,     0.92714,     0.92702,     0.92697,     0.92697,      0.9268,     0.92699,     0.92709,     0.92705,     0.92682,     0.92643,     0.92616,     0.92631,     0.92638,     0.92644,     0.92656,     0.92648,     0.92601,     0.92589,     0.92578,     0.92584,     0.92589,     0.92595,\n",
      "            0.92538,     0.92535,     0.92509,     0.92463,     0.92459,     0.92439,      0.9244,     0.92441,     0.92431,     0.92422,     0.92416,      0.9241,     0.92404,     0.92398,     0.92409,     0.92398,      0.9238,     0.92361,     0.92322,     0.92342,     0.92357,     0.92311,     0.92286,\n",
      "             0.9227,     0.92249,      0.9221,     0.92201,     0.92187,     0.92163,     0.92148,     0.92113,     0.92105,     0.92097,     0.92059,     0.92017,     0.91994,     0.91994,     0.91998,     0.91986,     0.91951,     0.91936,     0.91877,     0.91865,     0.91847,     0.91807,     0.91732,\n",
      "            0.91711,     0.91699,     0.91678,      0.9162,     0.91596,     0.91494,     0.91468,     0.91429,     0.91409,     0.91386,     0.91373,     0.91339,     0.91313,     0.91279,     0.91256,     0.91255,     0.91262,     0.91234,     0.91208,     0.91196,     0.91187,     0.91179,     0.91171,\n",
      "             0.9115,      0.9114,     0.91132,     0.91124,     0.91078,     0.91054,     0.90991,     0.90944,     0.90916,     0.90924,     0.90908,     0.90845,     0.90825,     0.90809,     0.90769,     0.90728,     0.90704,     0.90635,     0.90619,     0.90595,     0.90521,     0.90493,     0.90398,\n",
      "            0.90317,     0.90301,     0.90328,     0.90337,     0.90326,      0.9031,     0.90218,     0.90194,     0.90142,     0.90026,     0.89993,     0.89861,     0.89742,     0.89725,     0.89667,     0.89524,     0.89508,     0.89467,     0.89337,     0.89309,     0.89231,     0.89182,     0.89161,\n",
      "            0.89147,     0.89117,     0.89056,     0.88898,     0.88881,     0.88756,     0.88763,     0.88769,     0.88565,     0.88417,     0.88268,     0.88212,     0.88081,     0.87944,     0.87905,     0.87777,     0.87622,     0.87635,     0.87563,     0.87506,     0.87487,     0.87343,     0.87326,\n",
      "            0.87223,     0.87192,     0.87068,     0.87032,      0.8693,     0.86771,     0.86695,     0.86687,      0.8659,     0.86481,     0.86342,     0.86324,     0.86225,     0.86015,     0.85855,     0.85765,     0.85747,     0.85612,     0.85564,     0.85446,     0.85262,     0.85128,      0.8509,\n",
      "            0.84826,     0.84619,     0.84488,     0.84374,     0.84356,     0.84096,     0.83936,     0.83798,     0.83699,     0.83428,     0.83362,     0.82925,     0.82603,     0.82319,     0.82115,     0.81809,     0.81613,      0.8149,     0.81208,     0.81111,     0.80857,     0.80515,     0.80272,\n",
      "            0.79974,      0.7983,     0.79559,     0.79288,     0.79252,     0.79023,     0.78669,     0.78392,     0.78094,     0.77927,     0.77703,     0.77331,     0.76755,     0.76346,     0.75822,      0.7548,     0.75136,     0.74669,     0.74348,     0.73871,     0.73459,     0.72781,     0.72226,\n",
      "            0.71236,     0.70901,     0.70296,     0.69447,     0.68655,     0.67854,     0.66972,      0.6633,     0.65861,     0.64383,     0.63416,     0.62246,     0.61364,     0.60354,     0.59487,     0.58087,     0.56782,      0.5516,     0.53929,     0.52807,     0.51181,     0.48881,     0.47773,\n",
      "            0.46742,     0.45793,     0.43666,      0.4228,     0.41073,     0.38929,     0.36819,     0.35036,     0.33325,     0.31862,     0.29446,     0.28269,      0.2599,     0.24271,     0.22652,     0.21059,      0.1878,     0.16981,     0.15693,     0.14179,     0.12781,     0.11004,    0.097022,\n",
      "           0.084563,    0.077883,    0.071902,    0.061373,    0.055289,    0.050691,    0.043004,    0.038348,    0.032118,    0.028969,    0.027135,    0.024988,    0.020047,    0.017058,    0.014096,    0.012238,   0.0089034,   0.0077094,   0.0073831,   0.0060578,   0.0038227,   0.0034132,   0.0029371,\n",
      "          0.0023937,   0.0019836,   0.0014855,           0,           0,           0,           0,           0,           0,           0,           0,           0,           0,           0,           0,           0,           0,           0,           0,           0,           0,           0,           0,\n",
      "                  0,           0,           0,           0,           0,           0,           0,           0,           0,           0,           0,           0,           0,           0,           0,           0,           0,           0,           0,           0,           0,           0,           0,\n",
      "                  0,           0,           0,           0,           0,           0,           0,           0,           0,           0,           0,           0,           0,           0,           0,           0,           0,           0,           0,           0,           0,           0,           0,\n",
      "                  0,           0,           0,           0,           0,           0,           0,           0,           0,           0,           0]]), 'Confidence', 'F1'], [array([          0,    0.001001,    0.002002,    0.003003,    0.004004,    0.005005,    0.006006,    0.007007,    0.008008,    0.009009,     0.01001,    0.011011,    0.012012,    0.013013,    0.014014,    0.015015,    0.016016,    0.017017,    0.018018,    0.019019,     0.02002,    0.021021,    0.022022,    0.023023,\n",
      "          0.024024,    0.025025,    0.026026,    0.027027,    0.028028,    0.029029,     0.03003,    0.031031,    0.032032,    0.033033,    0.034034,    0.035035,    0.036036,    0.037037,    0.038038,    0.039039,     0.04004,    0.041041,    0.042042,    0.043043,    0.044044,    0.045045,    0.046046,    0.047047,\n",
      "          0.048048,    0.049049,     0.05005,    0.051051,    0.052052,    0.053053,    0.054054,    0.055055,    0.056056,    0.057057,    0.058058,    0.059059,     0.06006,    0.061061,    0.062062,    0.063063,    0.064064,    0.065065,    0.066066,    0.067067,    0.068068,    0.069069,     0.07007,    0.071071,\n",
      "          0.072072,    0.073073,    0.074074,    0.075075,    0.076076,    0.077077,    0.078078,    0.079079,     0.08008,    0.081081,    0.082082,    0.083083,    0.084084,    0.085085,    0.086086,    0.087087,    0.088088,    0.089089,     0.09009,    0.091091,    0.092092,    0.093093,    0.094094,    0.095095,\n",
      "          0.096096,    0.097097,    0.098098,    0.099099,      0.1001,      0.1011,      0.1021,      0.1031,      0.1041,     0.10511,     0.10611,     0.10711,     0.10811,     0.10911,     0.11011,     0.11111,     0.11211,     0.11311,     0.11411,     0.11512,     0.11612,     0.11712,     0.11812,     0.11912,\n",
      "           0.12012,     0.12112,     0.12212,     0.12312,     0.12412,     0.12513,     0.12613,     0.12713,     0.12813,     0.12913,     0.13013,     0.13113,     0.13213,     0.13313,     0.13413,     0.13514,     0.13614,     0.13714,     0.13814,     0.13914,     0.14014,     0.14114,     0.14214,     0.14314,\n",
      "           0.14414,     0.14515,     0.14615,     0.14715,     0.14815,     0.14915,     0.15015,     0.15115,     0.15215,     0.15315,     0.15415,     0.15516,     0.15616,     0.15716,     0.15816,     0.15916,     0.16016,     0.16116,     0.16216,     0.16316,     0.16416,     0.16517,     0.16617,     0.16717,\n",
      "           0.16817,     0.16917,     0.17017,     0.17117,     0.17217,     0.17317,     0.17417,     0.17518,     0.17618,     0.17718,     0.17818,     0.17918,     0.18018,     0.18118,     0.18218,     0.18318,     0.18418,     0.18519,     0.18619,     0.18719,     0.18819,     0.18919,     0.19019,     0.19119,\n",
      "           0.19219,     0.19319,     0.19419,      0.1952,      0.1962,      0.1972,      0.1982,      0.1992,      0.2002,      0.2012,      0.2022,      0.2032,      0.2042,     0.20521,     0.20621,     0.20721,     0.20821,     0.20921,     0.21021,     0.21121,     0.21221,     0.21321,     0.21421,     0.21522,\n",
      "           0.21622,     0.21722,     0.21822,     0.21922,     0.22022,     0.22122,     0.22222,     0.22322,     0.22422,     0.22523,     0.22623,     0.22723,     0.22823,     0.22923,     0.23023,     0.23123,     0.23223,     0.23323,     0.23423,     0.23524,     0.23624,     0.23724,     0.23824,     0.23924,\n",
      "           0.24024,     0.24124,     0.24224,     0.24324,     0.24424,     0.24525,     0.24625,     0.24725,     0.24825,     0.24925,     0.25025,     0.25125,     0.25225,     0.25325,     0.25425,     0.25526,     0.25626,     0.25726,     0.25826,     0.25926,     0.26026,     0.26126,     0.26226,     0.26326,\n",
      "           0.26426,     0.26527,     0.26627,     0.26727,     0.26827,     0.26927,     0.27027,     0.27127,     0.27227,     0.27327,     0.27427,     0.27528,     0.27628,     0.27728,     0.27828,     0.27928,     0.28028,     0.28128,     0.28228,     0.28328,     0.28428,     0.28529,     0.28629,     0.28729,\n",
      "           0.28829,     0.28929,     0.29029,     0.29129,     0.29229,     0.29329,     0.29429,      0.2953,      0.2963,      0.2973,      0.2983,      0.2993,      0.3003,      0.3013,      0.3023,      0.3033,      0.3043,     0.30531,     0.30631,     0.30731,     0.30831,     0.30931,     0.31031,     0.31131,\n",
      "           0.31231,     0.31331,     0.31431,     0.31532,     0.31632,     0.31732,     0.31832,     0.31932,     0.32032,     0.32132,     0.32232,     0.32332,     0.32432,     0.32533,     0.32633,     0.32733,     0.32833,     0.32933,     0.33033,     0.33133,     0.33233,     0.33333,     0.33433,     0.33534,\n",
      "           0.33634,     0.33734,     0.33834,     0.33934,     0.34034,     0.34134,     0.34234,     0.34334,     0.34434,     0.34535,     0.34635,     0.34735,     0.34835,     0.34935,     0.35035,     0.35135,     0.35235,     0.35335,     0.35435,     0.35536,     0.35636,     0.35736,     0.35836,     0.35936,\n",
      "           0.36036,     0.36136,     0.36236,     0.36336,     0.36436,     0.36537,     0.36637,     0.36737,     0.36837,     0.36937,     0.37037,     0.37137,     0.37237,     0.37337,     0.37437,     0.37538,     0.37638,     0.37738,     0.37838,     0.37938,     0.38038,     0.38138,     0.38238,     0.38338,\n",
      "           0.38438,     0.38539,     0.38639,     0.38739,     0.38839,     0.38939,     0.39039,     0.39139,     0.39239,     0.39339,     0.39439,      0.3954,      0.3964,      0.3974,      0.3984,      0.3994,      0.4004,      0.4014,      0.4024,      0.4034,      0.4044,     0.40541,     0.40641,     0.40741,\n",
      "           0.40841,     0.40941,     0.41041,     0.41141,     0.41241,     0.41341,     0.41441,     0.41542,     0.41642,     0.41742,     0.41842,     0.41942,     0.42042,     0.42142,     0.42242,     0.42342,     0.42442,     0.42543,     0.42643,     0.42743,     0.42843,     0.42943,     0.43043,     0.43143,\n",
      "           0.43243,     0.43343,     0.43443,     0.43544,     0.43644,     0.43744,     0.43844,     0.43944,     0.44044,     0.44144,     0.44244,     0.44344,     0.44444,     0.44545,     0.44645,     0.44745,     0.44845,     0.44945,     0.45045,     0.45145,     0.45245,     0.45345,     0.45445,     0.45546,\n",
      "           0.45646,     0.45746,     0.45846,     0.45946,     0.46046,     0.46146,     0.46246,     0.46346,     0.46446,     0.46547,     0.46647,     0.46747,     0.46847,     0.46947,     0.47047,     0.47147,     0.47247,     0.47347,     0.47447,     0.47548,     0.47648,     0.47748,     0.47848,     0.47948,\n",
      "           0.48048,     0.48148,     0.48248,     0.48348,     0.48448,     0.48549,     0.48649,     0.48749,     0.48849,     0.48949,     0.49049,     0.49149,     0.49249,     0.49349,     0.49449,      0.4955,      0.4965,      0.4975,      0.4985,      0.4995,      0.5005,      0.5015,      0.5025,      0.5035,\n",
      "            0.5045,     0.50551,     0.50651,     0.50751,     0.50851,     0.50951,     0.51051,     0.51151,     0.51251,     0.51351,     0.51451,     0.51552,     0.51652,     0.51752,     0.51852,     0.51952,     0.52052,     0.52152,     0.52252,     0.52352,     0.52452,     0.52553,     0.52653,     0.52753,\n",
      "           0.52853,     0.52953,     0.53053,     0.53153,     0.53253,     0.53353,     0.53453,     0.53554,     0.53654,     0.53754,     0.53854,     0.53954,     0.54054,     0.54154,     0.54254,     0.54354,     0.54454,     0.54555,     0.54655,     0.54755,     0.54855,     0.54955,     0.55055,     0.55155,\n",
      "           0.55255,     0.55355,     0.55455,     0.55556,     0.55656,     0.55756,     0.55856,     0.55956,     0.56056,     0.56156,     0.56256,     0.56356,     0.56456,     0.56557,     0.56657,     0.56757,     0.56857,     0.56957,     0.57057,     0.57157,     0.57257,     0.57357,     0.57457,     0.57558,\n",
      "           0.57658,     0.57758,     0.57858,     0.57958,     0.58058,     0.58158,     0.58258,     0.58358,     0.58458,     0.58559,     0.58659,     0.58759,     0.58859,     0.58959,     0.59059,     0.59159,     0.59259,     0.59359,     0.59459,      0.5956,      0.5966,      0.5976,      0.5986,      0.5996,\n",
      "            0.6006,      0.6016,      0.6026,      0.6036,      0.6046,     0.60561,     0.60661,     0.60761,     0.60861,     0.60961,     0.61061,     0.61161,     0.61261,     0.61361,     0.61461,     0.61562,     0.61662,     0.61762,     0.61862,     0.61962,     0.62062,     0.62162,     0.62262,     0.62362,\n",
      "           0.62462,     0.62563,     0.62663,     0.62763,     0.62863,     0.62963,     0.63063,     0.63163,     0.63263,     0.63363,     0.63463,     0.63564,     0.63664,     0.63764,     0.63864,     0.63964,     0.64064,     0.64164,     0.64264,     0.64364,     0.64464,     0.64565,     0.64665,     0.64765,\n",
      "           0.64865,     0.64965,     0.65065,     0.65165,     0.65265,     0.65365,     0.65465,     0.65566,     0.65666,     0.65766,     0.65866,     0.65966,     0.66066,     0.66166,     0.66266,     0.66366,     0.66466,     0.66567,     0.66667,     0.66767,     0.66867,     0.66967,     0.67067,     0.67167,\n",
      "           0.67267,     0.67367,     0.67467,     0.67568,     0.67668,     0.67768,     0.67868,     0.67968,     0.68068,     0.68168,     0.68268,     0.68368,     0.68468,     0.68569,     0.68669,     0.68769,     0.68869,     0.68969,     0.69069,     0.69169,     0.69269,     0.69369,     0.69469,      0.6957,\n",
      "            0.6967,      0.6977,      0.6987,      0.6997,      0.7007,      0.7017,      0.7027,      0.7037,      0.7047,     0.70571,     0.70671,     0.70771,     0.70871,     0.70971,     0.71071,     0.71171,     0.71271,     0.71371,     0.71471,     0.71572,     0.71672,     0.71772,     0.71872,     0.71972,\n",
      "           0.72072,     0.72172,     0.72272,     0.72372,     0.72472,     0.72573,     0.72673,     0.72773,     0.72873,     0.72973,     0.73073,     0.73173,     0.73273,     0.73373,     0.73473,     0.73574,     0.73674,     0.73774,     0.73874,     0.73974,     0.74074,     0.74174,     0.74274,     0.74374,\n",
      "           0.74474,     0.74575,     0.74675,     0.74775,     0.74875,     0.74975,     0.75075,     0.75175,     0.75275,     0.75375,     0.75475,     0.75576,     0.75676,     0.75776,     0.75876,     0.75976,     0.76076,     0.76176,     0.76276,     0.76376,     0.76476,     0.76577,     0.76677,     0.76777,\n",
      "           0.76877,     0.76977,     0.77077,     0.77177,     0.77277,     0.77377,     0.77477,     0.77578,     0.77678,     0.77778,     0.77878,     0.77978,     0.78078,     0.78178,     0.78278,     0.78378,     0.78478,     0.78579,     0.78679,     0.78779,     0.78879,     0.78979,     0.79079,     0.79179,\n",
      "           0.79279,     0.79379,     0.79479,      0.7958,      0.7968,      0.7978,      0.7988,      0.7998,      0.8008,      0.8018,      0.8028,      0.8038,      0.8048,     0.80581,     0.80681,     0.80781,     0.80881,     0.80981,     0.81081,     0.81181,     0.81281,     0.81381,     0.81481,     0.81582,\n",
      "           0.81682,     0.81782,     0.81882,     0.81982,     0.82082,     0.82182,     0.82282,     0.82382,     0.82482,     0.82583,     0.82683,     0.82783,     0.82883,     0.82983,     0.83083,     0.83183,     0.83283,     0.83383,     0.83483,     0.83584,     0.83684,     0.83784,     0.83884,     0.83984,\n",
      "           0.84084,     0.84184,     0.84284,     0.84384,     0.84484,     0.84585,     0.84685,     0.84785,     0.84885,     0.84985,     0.85085,     0.85185,     0.85285,     0.85385,     0.85485,     0.85586,     0.85686,     0.85786,     0.85886,     0.85986,     0.86086,     0.86186,     0.86286,     0.86386,\n",
      "           0.86486,     0.86587,     0.86687,     0.86787,     0.86887,     0.86987,     0.87087,     0.87187,     0.87287,     0.87387,     0.87487,     0.87588,     0.87688,     0.87788,     0.87888,     0.87988,     0.88088,     0.88188,     0.88288,     0.88388,     0.88488,     0.88589,     0.88689,     0.88789,\n",
      "           0.88889,     0.88989,     0.89089,     0.89189,     0.89289,     0.89389,     0.89489,      0.8959,      0.8969,      0.8979,      0.8989,      0.8999,      0.9009,      0.9019,      0.9029,      0.9039,      0.9049,     0.90591,     0.90691,     0.90791,     0.90891,     0.90991,     0.91091,     0.91191,\n",
      "           0.91291,     0.91391,     0.91491,     0.91592,     0.91692,     0.91792,     0.91892,     0.91992,     0.92092,     0.92192,     0.92292,     0.92392,     0.92492,     0.92593,     0.92693,     0.92793,     0.92893,     0.92993,     0.93093,     0.93193,     0.93293,     0.93393,     0.93493,     0.93594,\n",
      "           0.93694,     0.93794,     0.93894,     0.93994,     0.94094,     0.94194,     0.94294,     0.94394,     0.94494,     0.94595,     0.94695,     0.94795,     0.94895,     0.94995,     0.95095,     0.95195,     0.95295,     0.95395,     0.95495,     0.95596,     0.95696,     0.95796,     0.95896,     0.95996,\n",
      "           0.96096,     0.96196,     0.96296,     0.96396,     0.96496,     0.96597,     0.96697,     0.96797,     0.96897,     0.96997,     0.97097,     0.97197,     0.97297,     0.97397,     0.97497,     0.97598,     0.97698,     0.97798,     0.97898,     0.97998,     0.98098,     0.98198,     0.98298,     0.98398,\n",
      "           0.98498,     0.98599,     0.98699,     0.98799,     0.98899,     0.98999,     0.99099,     0.99199,     0.99299,     0.99399,     0.99499,       0.996,       0.997,       0.998,       0.999,           1]), array([[    0.28615,     0.28615,     0.36811,     0.42078,     0.45799,     0.48884,     0.51225,     0.53333,     0.55351,     0.56943,     0.58429,     0.59496,     0.60797,     0.61917,     0.62966,      0.6371,     0.64414,     0.65312,     0.66079,     0.66715,     0.67497,     0.68168,     0.68573,\n",
      "            0.69017,     0.69521,     0.69887,     0.70355,     0.70663,     0.71017,     0.71531,     0.71923,     0.72452,      0.7275,     0.73047,      0.7326,     0.73528,     0.73759,     0.74128,     0.74474,     0.74742,     0.74926,     0.75152,     0.75357,     0.75751,      0.7606,     0.76222,\n",
      "            0.76413,     0.76625,     0.76837,     0.76979,     0.77214,     0.77353,     0.77499,     0.77727,     0.77829,     0.77936,       0.781,     0.78272,     0.78374,      0.7844,     0.78591,     0.78786,     0.78925,     0.79189,     0.79272,     0.79388,     0.79472,     0.79604,     0.79763,\n",
      "            0.79898,     0.79952,     0.79975,     0.80052,     0.80202,     0.80325,     0.80363,     0.80422,     0.80502,     0.80578,     0.80601,     0.80661,     0.80692,     0.80795,     0.80965,     0.81158,     0.81259,     0.81336,      0.8154,     0.81704,     0.81768,     0.81818,     0.81848,\n",
      "            0.81956,     0.82147,     0.82236,     0.82286,      0.8239,     0.82419,     0.82473,     0.82521,     0.82665,     0.82719,     0.82736,     0.82835,     0.82966,     0.83075,     0.83172,     0.83246,     0.83353,     0.83476,     0.83501,     0.83601,     0.83688,     0.83726,      0.8379,\n",
      "            0.83808,     0.83837,     0.83928,     0.83985,     0.84022,     0.84172,     0.84264,     0.84358,     0.84492,     0.84503,     0.84586,     0.84668,     0.84715,     0.84746,     0.84822,     0.84875,     0.85011,     0.85024,     0.85065,     0.85109,     0.85218,     0.85299,     0.85447,\n",
      "            0.85495,     0.85533,     0.85554,     0.85588,      0.8571,     0.85774,     0.85806,     0.85817,     0.85896,     0.85988,     0.86048,     0.86081,     0.86156,     0.86263,     0.86283,     0.86322,     0.86355,     0.86398,     0.86444,     0.86498,     0.86555,     0.86589,     0.86609,\n",
      "            0.86672,     0.86709,     0.86784,     0.86821,     0.86911,     0.86933,     0.86991,     0.87049,     0.87135,     0.87275,     0.87307,     0.87358,     0.87354,      0.8737,     0.87392,     0.87418,     0.87437,     0.87459,     0.87493,     0.87532,     0.87605,     0.87683,      0.8775,\n",
      "            0.87767,     0.87809,     0.87823,     0.87839,     0.87857,     0.87904,     0.87975,      0.8805,     0.88136,     0.88156,     0.88166,     0.88177,      0.8818,     0.88178,     0.88181,     0.88234,     0.88265,     0.88342,     0.88383,     0.88438,     0.88525,     0.88613,     0.88639,\n",
      "            0.88656,     0.88696,     0.88721,     0.88795,     0.88844,     0.88859,     0.88909,     0.88986,     0.88993,     0.89001,     0.89008,     0.89015,     0.89045,     0.89073,     0.89147,      0.8918,     0.89203,     0.89235,     0.89233,     0.89251,     0.89272,     0.89299,     0.89368,\n",
      "            0.89384,     0.89403,     0.89428,     0.89463,     0.89479,     0.89497,      0.8952,     0.89527,     0.89526,     0.89526,     0.89525,     0.89524,     0.89524,     0.89572,     0.89622,     0.89641,     0.89742,     0.89802,     0.89819,     0.89853,     0.89872,     0.89887,     0.89888,\n",
      "             0.8992,     0.89919,     0.89918,     0.89917,     0.89917,     0.89912,     0.89911,     0.89911,      0.8991,     0.89909,     0.89924,     0.89947,     0.89955,     0.89963,     0.89971,     0.90049,     0.90063,     0.90077,     0.90092,     0.90108,     0.90272,     0.90296,     0.90312,\n",
      "            0.90394,     0.90403,     0.90412,     0.90421,     0.90428,     0.90433,     0.90439,     0.90444,      0.9045,     0.90455,     0.90502,     0.90544,     0.90585,     0.90613,     0.90669,     0.90702,     0.90711,     0.90731,     0.90742,     0.90751,      0.9076,     0.90769,     0.90838,\n",
      "            0.90837,     0.90869,     0.90913,     0.90933,     0.90953,     0.91011,     0.91032,     0.91062,      0.9109,     0.91144,     0.91143,     0.91142,     0.91139,     0.91146,     0.91156,     0.91167,     0.91207,     0.91228,     0.91237,     0.91271,     0.91313,     0.91349,     0.91426,\n",
      "            0.91451,     0.91466,     0.91518,     0.91553,     0.91573,     0.91622,     0.91633,     0.91643,     0.91654,     0.91675,     0.91688,     0.91685,     0.91683,     0.91694,     0.91708,     0.91725,     0.91765,     0.91789,     0.91806,     0.91849,     0.91888,     0.91928,     0.91927,\n",
      "            0.91948,     0.91976,     0.92003,     0.92016,     0.92029,     0.92032,     0.92066,     0.92076,     0.92086,     0.92096,     0.92101,       0.921,     0.92124,      0.9217,     0.92207,     0.92229,     0.92254,     0.92287,     0.92308,     0.92339,     0.92349,     0.92348,     0.92453,\n",
      "            0.92453,     0.92452,     0.92451,      0.9245,      0.9245,     0.92449,     0.92448,     0.92471,     0.92508,     0.92518,     0.92553,     0.92591,     0.92589,     0.92624,     0.92623,     0.92671,     0.92709,      0.9274,     0.92762,     0.92868,      0.9289,     0.92909,      0.9293,\n",
      "            0.92951,     0.92961,     0.92972,     0.92982,     0.92987,     0.93027,      0.9304,     0.93053,     0.93077,     0.93107,     0.93129,     0.93149,     0.93168,      0.9317,      0.9317,     0.93169,     0.93169,     0.93172,     0.93191,     0.93209,     0.93221,     0.93234,     0.93253,\n",
      "            0.93285,     0.93307,     0.93339,     0.93415,     0.93464,     0.93463,     0.93463,     0.93462,     0.93462,     0.93537,     0.93576,     0.93609,     0.93647,     0.93667,     0.93682,     0.93679,     0.93678,     0.93688,     0.93714,     0.93714,     0.93713,     0.93732,     0.93775,\n",
      "            0.93796,     0.93809,     0.93822,     0.93825,     0.93825,     0.93824,     0.93823,     0.93877,     0.93897,     0.93931,     0.93932,     0.93965,     0.93975,     0.93984,     0.93994,     0.94041,     0.94042,     0.94077,     0.94089,     0.94112,     0.94119,     0.94138,     0.94148,\n",
      "            0.94166,     0.94195,     0.94215,     0.94269,     0.94282,     0.94295,     0.94298,     0.94297,     0.94296,     0.94295,      0.9431,     0.94329,     0.94333,     0.94331,     0.94365,     0.94399,     0.94415,     0.94429,     0.94442,     0.94514,     0.94553,     0.94552,     0.94552,\n",
      "             0.9456,     0.94568,     0.94576,     0.94584,     0.94592,     0.94602,     0.94612,     0.94622,      0.9464,      0.9468,     0.94718,      0.9475,      0.9477,     0.94781,      0.9478,     0.94779,     0.94778,     0.94798,     0.94816,     0.94826,     0.94846,     0.94917,      0.9494,\n",
      "            0.94954,     0.94967,      0.9497,     0.95008,     0.95007,     0.95007,     0.95006,     0.95056,      0.9507,     0.95083,     0.95084,     0.95083,     0.95082,     0.95081,     0.95101,      0.9512,     0.95118,     0.95155,     0.95154,     0.95153,     0.95151,     0.95165,     0.95178,\n",
      "            0.95196,     0.95237,     0.95265,     0.95264,     0.95317,     0.95343,     0.95342,     0.95342,     0.95342,     0.95341,      0.9534,     0.95378,     0.95388,     0.95399,     0.95409,     0.95451,     0.95459,     0.95473,     0.95486,     0.95529,     0.95528,     0.95527,     0.95523,\n",
      "            0.95596,     0.95602,     0.95601,     0.95599,     0.95598,     0.95634,     0.95633,     0.95632,     0.95668,     0.95689,     0.95707,     0.95706,     0.95702,     0.95699,     0.95725,     0.95737,     0.95744,     0.95754,     0.95765,     0.95775,      0.9585,     0.95892,     0.95897,\n",
      "            0.95933,     0.95935,     0.95934,     0.95931,     0.95929,     0.95969,     0.95968,     0.95967,     0.95966,     0.95965,     0.95965,     0.95986,     0.95999,     0.95997,     0.96051,     0.96072,     0.96109,     0.96116,     0.96149,     0.96166,     0.96178,      0.9619,     0.96195,\n",
      "            0.96194,     0.96203,     0.96225,     0.96257,     0.96275,     0.96274,     0.96298,     0.96313,     0.96311,     0.96307,     0.96306,     0.96305,     0.96305,     0.96305,     0.96308,     0.96329,     0.96356,     0.96382,     0.96378,     0.96376,     0.96413,      0.9641,     0.96409,\n",
      "            0.96408,     0.96407,     0.96406,     0.96415,     0.96446,     0.96472,     0.96515,     0.96569,     0.96609,     0.96608,     0.96605,     0.96616,      0.9665,     0.96664,     0.96678,     0.96705,     0.96728,     0.96725,     0.96724,     0.96724,     0.96736,     0.96748,     0.96761,\n",
      "            0.96762,     0.96803,     0.96843,      0.9684,     0.96881,     0.96921,     0.96963,     0.97004,     0.97004,     0.97003,     0.97003,     0.97002,     0.97002,     0.97002,     0.97086,     0.97085,     0.97084,     0.97083,     0.97125,      0.9717,     0.97209,     0.97206,     0.97247,\n",
      "            0.97246,     0.97245,     0.97285,     0.97284,     0.97284,     0.97325,     0.97324,     0.97365,     0.97364,     0.97364,     0.97362,      0.9736,     0.97358,     0.97401,     0.97444,     0.97443,     0.97442,     0.97441,     0.97438,     0.97437,     0.97479,     0.97477,     0.97474,\n",
      "            0.97472,     0.97472,     0.97471,     0.97468,     0.97467,     0.97462,      0.9746,     0.97458,     0.97457,     0.97456,     0.97557,     0.97584,     0.97583,     0.97581,      0.9758,     0.97599,     0.97624,     0.97623,     0.97666,     0.97665,     0.97665,     0.97664,     0.97664,\n",
      "            0.97663,     0.97662,     0.97662,     0.97662,      0.9766,     0.97658,       0.977,     0.97697,     0.97712,     0.97785,     0.97784,     0.97781,     0.97825,     0.97824,     0.97823,     0.97821,      0.9782,     0.97817,     0.97816,     0.97904,     0.97901,       0.979,     0.97896,\n",
      "            0.97893,     0.97892,     0.98013,     0.98089,     0.98119,     0.98119,     0.98115,     0.98114,     0.98204,       0.982,     0.98198,     0.98194,     0.98189,     0.98189,     0.98187,     0.98182,     0.98181,     0.98206,     0.98221,      0.9822,     0.98264,     0.98263,     0.98331,\n",
      "            0.98355,     0.98401,     0.98399,     0.98394,     0.98394,     0.98399,     0.98416,     0.98432,     0.98479,     0.98474,      0.9847,     0.98468,     0.98464,      0.9846,     0.98507,     0.98552,     0.98547,     0.98593,     0.98594,     0.98642,     0.98658,     0.98736,     0.98736,\n",
      "            0.98783,     0.98861,     0.98879,     0.98878,     0.98875,     0.98922,     0.98943,     0.98971,     0.98969,     0.98967,     0.98964,     0.98963,     0.98961,     0.98957,     0.99005,     0.99003,     0.99003,     0.99104,     0.99103,     0.99101,     0.99097,     0.99095,     0.99094,\n",
      "            0.99089,     0.99085,     0.99083,     0.99187,     0.99187,     0.99183,      0.9918,     0.99178,     0.99176,     0.99172,      0.9917,     0.99163,     0.99157,     0.99153,     0.99205,       0.992,     0.99197,     0.99252,     0.99247,     0.99246,     0.99299,     0.99294,     0.99408,\n",
      "            0.99463,     0.99462,     0.99518,     0.99516,     0.99515,     0.99513,     0.99509,     0.99568,     0.99565,     0.99563,     0.99561,     0.99621,     0.99616,     0.99677,     0.99673,     0.99671,     0.99669,     0.99665,     0.99663,      0.9966,     0.99793,      0.9979,     0.99788,\n",
      "            0.99783,     0.99782,     0.99779,     0.99775,     0.99771,     0.99767,     0.99762,     0.99758,     0.99756,     0.99832,     0.99828,     0.99823,     0.99819,     0.99815,     0.99811,     0.99805,     0.99798,      0.9979,     0.99783,     0.99777,     0.99768,     0.99753,     0.99745,\n",
      "            0.99738,     0.99731,     0.99714,     0.99702,     0.99691,     0.99834,     0.99823,     0.99812,       0.998,     0.99789,     0.99768,     0.99757,     0.99732,     0.99711,           1,           1,           1,           1,           1,           1,           1,           1,           1,\n",
      "                  1,           1,           1,           1,           1,           1,           1,           1,           1,           1,           1,           1,           1,           1,           1,           1,           1,           1,           1,           1,           1,           1,           1,\n",
      "                  1,           1,           1,           1,           1,           1,           1,           1,           1,           1,           1,           1,           1,           1,           1,           1,           1,           1,           1,           1,           1,           1,           1,\n",
      "                  1,           1,           1,           1,           1,           1,           1,           1,           1,           1,           1,           1,           1,           1,           1,           1,           1,           1,           1,           1,           1,           1,           1,\n",
      "                  1,           1,           1,           1,           1,           1,           1,           1,           1,           1,           1,           1,           1,           1,           1,           1,           1,           1,           1,           1,           1,           1,           1,\n",
      "                  1,           1,           1,           1,           1,           1,           1,           1,           1,           1,           1]]), 'Confidence', 'Precision'], [array([          0,    0.001001,    0.002002,    0.003003,    0.004004,    0.005005,    0.006006,    0.007007,    0.008008,    0.009009,     0.01001,    0.011011,    0.012012,    0.013013,    0.014014,    0.015015,    0.016016,    0.017017,    0.018018,    0.019019,     0.02002,    0.021021,    0.022022,    0.023023,\n",
      "          0.024024,    0.025025,    0.026026,    0.027027,    0.028028,    0.029029,     0.03003,    0.031031,    0.032032,    0.033033,    0.034034,    0.035035,    0.036036,    0.037037,    0.038038,    0.039039,     0.04004,    0.041041,    0.042042,    0.043043,    0.044044,    0.045045,    0.046046,    0.047047,\n",
      "          0.048048,    0.049049,     0.05005,    0.051051,    0.052052,    0.053053,    0.054054,    0.055055,    0.056056,    0.057057,    0.058058,    0.059059,     0.06006,    0.061061,    0.062062,    0.063063,    0.064064,    0.065065,    0.066066,    0.067067,    0.068068,    0.069069,     0.07007,    0.071071,\n",
      "          0.072072,    0.073073,    0.074074,    0.075075,    0.076076,    0.077077,    0.078078,    0.079079,     0.08008,    0.081081,    0.082082,    0.083083,    0.084084,    0.085085,    0.086086,    0.087087,    0.088088,    0.089089,     0.09009,    0.091091,    0.092092,    0.093093,    0.094094,    0.095095,\n",
      "          0.096096,    0.097097,    0.098098,    0.099099,      0.1001,      0.1011,      0.1021,      0.1031,      0.1041,     0.10511,     0.10611,     0.10711,     0.10811,     0.10911,     0.11011,     0.11111,     0.11211,     0.11311,     0.11411,     0.11512,     0.11612,     0.11712,     0.11812,     0.11912,\n",
      "           0.12012,     0.12112,     0.12212,     0.12312,     0.12412,     0.12513,     0.12613,     0.12713,     0.12813,     0.12913,     0.13013,     0.13113,     0.13213,     0.13313,     0.13413,     0.13514,     0.13614,     0.13714,     0.13814,     0.13914,     0.14014,     0.14114,     0.14214,     0.14314,\n",
      "           0.14414,     0.14515,     0.14615,     0.14715,     0.14815,     0.14915,     0.15015,     0.15115,     0.15215,     0.15315,     0.15415,     0.15516,     0.15616,     0.15716,     0.15816,     0.15916,     0.16016,     0.16116,     0.16216,     0.16316,     0.16416,     0.16517,     0.16617,     0.16717,\n",
      "           0.16817,     0.16917,     0.17017,     0.17117,     0.17217,     0.17317,     0.17417,     0.17518,     0.17618,     0.17718,     0.17818,     0.17918,     0.18018,     0.18118,     0.18218,     0.18318,     0.18418,     0.18519,     0.18619,     0.18719,     0.18819,     0.18919,     0.19019,     0.19119,\n",
      "           0.19219,     0.19319,     0.19419,      0.1952,      0.1962,      0.1972,      0.1982,      0.1992,      0.2002,      0.2012,      0.2022,      0.2032,      0.2042,     0.20521,     0.20621,     0.20721,     0.20821,     0.20921,     0.21021,     0.21121,     0.21221,     0.21321,     0.21421,     0.21522,\n",
      "           0.21622,     0.21722,     0.21822,     0.21922,     0.22022,     0.22122,     0.22222,     0.22322,     0.22422,     0.22523,     0.22623,     0.22723,     0.22823,     0.22923,     0.23023,     0.23123,     0.23223,     0.23323,     0.23423,     0.23524,     0.23624,     0.23724,     0.23824,     0.23924,\n",
      "           0.24024,     0.24124,     0.24224,     0.24324,     0.24424,     0.24525,     0.24625,     0.24725,     0.24825,     0.24925,     0.25025,     0.25125,     0.25225,     0.25325,     0.25425,     0.25526,     0.25626,     0.25726,     0.25826,     0.25926,     0.26026,     0.26126,     0.26226,     0.26326,\n",
      "           0.26426,     0.26527,     0.26627,     0.26727,     0.26827,     0.26927,     0.27027,     0.27127,     0.27227,     0.27327,     0.27427,     0.27528,     0.27628,     0.27728,     0.27828,     0.27928,     0.28028,     0.28128,     0.28228,     0.28328,     0.28428,     0.28529,     0.28629,     0.28729,\n",
      "           0.28829,     0.28929,     0.29029,     0.29129,     0.29229,     0.29329,     0.29429,      0.2953,      0.2963,      0.2973,      0.2983,      0.2993,      0.3003,      0.3013,      0.3023,      0.3033,      0.3043,     0.30531,     0.30631,     0.30731,     0.30831,     0.30931,     0.31031,     0.31131,\n",
      "           0.31231,     0.31331,     0.31431,     0.31532,     0.31632,     0.31732,     0.31832,     0.31932,     0.32032,     0.32132,     0.32232,     0.32332,     0.32432,     0.32533,     0.32633,     0.32733,     0.32833,     0.32933,     0.33033,     0.33133,     0.33233,     0.33333,     0.33433,     0.33534,\n",
      "           0.33634,     0.33734,     0.33834,     0.33934,     0.34034,     0.34134,     0.34234,     0.34334,     0.34434,     0.34535,     0.34635,     0.34735,     0.34835,     0.34935,     0.35035,     0.35135,     0.35235,     0.35335,     0.35435,     0.35536,     0.35636,     0.35736,     0.35836,     0.35936,\n",
      "           0.36036,     0.36136,     0.36236,     0.36336,     0.36436,     0.36537,     0.36637,     0.36737,     0.36837,     0.36937,     0.37037,     0.37137,     0.37237,     0.37337,     0.37437,     0.37538,     0.37638,     0.37738,     0.37838,     0.37938,     0.38038,     0.38138,     0.38238,     0.38338,\n",
      "           0.38438,     0.38539,     0.38639,     0.38739,     0.38839,     0.38939,     0.39039,     0.39139,     0.39239,     0.39339,     0.39439,      0.3954,      0.3964,      0.3974,      0.3984,      0.3994,      0.4004,      0.4014,      0.4024,      0.4034,      0.4044,     0.40541,     0.40641,     0.40741,\n",
      "           0.40841,     0.40941,     0.41041,     0.41141,     0.41241,     0.41341,     0.41441,     0.41542,     0.41642,     0.41742,     0.41842,     0.41942,     0.42042,     0.42142,     0.42242,     0.42342,     0.42442,     0.42543,     0.42643,     0.42743,     0.42843,     0.42943,     0.43043,     0.43143,\n",
      "           0.43243,     0.43343,     0.43443,     0.43544,     0.43644,     0.43744,     0.43844,     0.43944,     0.44044,     0.44144,     0.44244,     0.44344,     0.44444,     0.44545,     0.44645,     0.44745,     0.44845,     0.44945,     0.45045,     0.45145,     0.45245,     0.45345,     0.45445,     0.45546,\n",
      "           0.45646,     0.45746,     0.45846,     0.45946,     0.46046,     0.46146,     0.46246,     0.46346,     0.46446,     0.46547,     0.46647,     0.46747,     0.46847,     0.46947,     0.47047,     0.47147,     0.47247,     0.47347,     0.47447,     0.47548,     0.47648,     0.47748,     0.47848,     0.47948,\n",
      "           0.48048,     0.48148,     0.48248,     0.48348,     0.48448,     0.48549,     0.48649,     0.48749,     0.48849,     0.48949,     0.49049,     0.49149,     0.49249,     0.49349,     0.49449,      0.4955,      0.4965,      0.4975,      0.4985,      0.4995,      0.5005,      0.5015,      0.5025,      0.5035,\n",
      "            0.5045,     0.50551,     0.50651,     0.50751,     0.50851,     0.50951,     0.51051,     0.51151,     0.51251,     0.51351,     0.51451,     0.51552,     0.51652,     0.51752,     0.51852,     0.51952,     0.52052,     0.52152,     0.52252,     0.52352,     0.52452,     0.52553,     0.52653,     0.52753,\n",
      "           0.52853,     0.52953,     0.53053,     0.53153,     0.53253,     0.53353,     0.53453,     0.53554,     0.53654,     0.53754,     0.53854,     0.53954,     0.54054,     0.54154,     0.54254,     0.54354,     0.54454,     0.54555,     0.54655,     0.54755,     0.54855,     0.54955,     0.55055,     0.55155,\n",
      "           0.55255,     0.55355,     0.55455,     0.55556,     0.55656,     0.55756,     0.55856,     0.55956,     0.56056,     0.56156,     0.56256,     0.56356,     0.56456,     0.56557,     0.56657,     0.56757,     0.56857,     0.56957,     0.57057,     0.57157,     0.57257,     0.57357,     0.57457,     0.57558,\n",
      "           0.57658,     0.57758,     0.57858,     0.57958,     0.58058,     0.58158,     0.58258,     0.58358,     0.58458,     0.58559,     0.58659,     0.58759,     0.58859,     0.58959,     0.59059,     0.59159,     0.59259,     0.59359,     0.59459,      0.5956,      0.5966,      0.5976,      0.5986,      0.5996,\n",
      "            0.6006,      0.6016,      0.6026,      0.6036,      0.6046,     0.60561,     0.60661,     0.60761,     0.60861,     0.60961,     0.61061,     0.61161,     0.61261,     0.61361,     0.61461,     0.61562,     0.61662,     0.61762,     0.61862,     0.61962,     0.62062,     0.62162,     0.62262,     0.62362,\n",
      "           0.62462,     0.62563,     0.62663,     0.62763,     0.62863,     0.62963,     0.63063,     0.63163,     0.63263,     0.63363,     0.63463,     0.63564,     0.63664,     0.63764,     0.63864,     0.63964,     0.64064,     0.64164,     0.64264,     0.64364,     0.64464,     0.64565,     0.64665,     0.64765,\n",
      "           0.64865,     0.64965,     0.65065,     0.65165,     0.65265,     0.65365,     0.65465,     0.65566,     0.65666,     0.65766,     0.65866,     0.65966,     0.66066,     0.66166,     0.66266,     0.66366,     0.66466,     0.66567,     0.66667,     0.66767,     0.66867,     0.66967,     0.67067,     0.67167,\n",
      "           0.67267,     0.67367,     0.67467,     0.67568,     0.67668,     0.67768,     0.67868,     0.67968,     0.68068,     0.68168,     0.68268,     0.68368,     0.68468,     0.68569,     0.68669,     0.68769,     0.68869,     0.68969,     0.69069,     0.69169,     0.69269,     0.69369,     0.69469,      0.6957,\n",
      "            0.6967,      0.6977,      0.6987,      0.6997,      0.7007,      0.7017,      0.7027,      0.7037,      0.7047,     0.70571,     0.70671,     0.70771,     0.70871,     0.70971,     0.71071,     0.71171,     0.71271,     0.71371,     0.71471,     0.71572,     0.71672,     0.71772,     0.71872,     0.71972,\n",
      "           0.72072,     0.72172,     0.72272,     0.72372,     0.72472,     0.72573,     0.72673,     0.72773,     0.72873,     0.72973,     0.73073,     0.73173,     0.73273,     0.73373,     0.73473,     0.73574,     0.73674,     0.73774,     0.73874,     0.73974,     0.74074,     0.74174,     0.74274,     0.74374,\n",
      "           0.74474,     0.74575,     0.74675,     0.74775,     0.74875,     0.74975,     0.75075,     0.75175,     0.75275,     0.75375,     0.75475,     0.75576,     0.75676,     0.75776,     0.75876,     0.75976,     0.76076,     0.76176,     0.76276,     0.76376,     0.76476,     0.76577,     0.76677,     0.76777,\n",
      "           0.76877,     0.76977,     0.77077,     0.77177,     0.77277,     0.77377,     0.77477,     0.77578,     0.77678,     0.77778,     0.77878,     0.77978,     0.78078,     0.78178,     0.78278,     0.78378,     0.78478,     0.78579,     0.78679,     0.78779,     0.78879,     0.78979,     0.79079,     0.79179,\n",
      "           0.79279,     0.79379,     0.79479,      0.7958,      0.7968,      0.7978,      0.7988,      0.7998,      0.8008,      0.8018,      0.8028,      0.8038,      0.8048,     0.80581,     0.80681,     0.80781,     0.80881,     0.80981,     0.81081,     0.81181,     0.81281,     0.81381,     0.81481,     0.81582,\n",
      "           0.81682,     0.81782,     0.81882,     0.81982,     0.82082,     0.82182,     0.82282,     0.82382,     0.82482,     0.82583,     0.82683,     0.82783,     0.82883,     0.82983,     0.83083,     0.83183,     0.83283,     0.83383,     0.83483,     0.83584,     0.83684,     0.83784,     0.83884,     0.83984,\n",
      "           0.84084,     0.84184,     0.84284,     0.84384,     0.84484,     0.84585,     0.84685,     0.84785,     0.84885,     0.84985,     0.85085,     0.85185,     0.85285,     0.85385,     0.85485,     0.85586,     0.85686,     0.85786,     0.85886,     0.85986,     0.86086,     0.86186,     0.86286,     0.86386,\n",
      "           0.86486,     0.86587,     0.86687,     0.86787,     0.86887,     0.86987,     0.87087,     0.87187,     0.87287,     0.87387,     0.87487,     0.87588,     0.87688,     0.87788,     0.87888,     0.87988,     0.88088,     0.88188,     0.88288,     0.88388,     0.88488,     0.88589,     0.88689,     0.88789,\n",
      "           0.88889,     0.88989,     0.89089,     0.89189,     0.89289,     0.89389,     0.89489,      0.8959,      0.8969,      0.8979,      0.8989,      0.8999,      0.9009,      0.9019,      0.9029,      0.9039,      0.9049,     0.90591,     0.90691,     0.90791,     0.90891,     0.90991,     0.91091,     0.91191,\n",
      "           0.91291,     0.91391,     0.91491,     0.91592,     0.91692,     0.91792,     0.91892,     0.91992,     0.92092,     0.92192,     0.92292,     0.92392,     0.92492,     0.92593,     0.92693,     0.92793,     0.92893,     0.92993,     0.93093,     0.93193,     0.93293,     0.93393,     0.93493,     0.93594,\n",
      "           0.93694,     0.93794,     0.93894,     0.93994,     0.94094,     0.94194,     0.94294,     0.94394,     0.94494,     0.94595,     0.94695,     0.94795,     0.94895,     0.94995,     0.95095,     0.95195,     0.95295,     0.95395,     0.95495,     0.95596,     0.95696,     0.95796,     0.95896,     0.95996,\n",
      "           0.96096,     0.96196,     0.96296,     0.96396,     0.96496,     0.96597,     0.96697,     0.96797,     0.96897,     0.96997,     0.97097,     0.97197,     0.97297,     0.97397,     0.97497,     0.97598,     0.97698,     0.97798,     0.97898,     0.97998,     0.98098,     0.98198,     0.98298,     0.98398,\n",
      "           0.98498,     0.98599,     0.98699,     0.98799,     0.98899,     0.98999,     0.99099,     0.99199,     0.99299,     0.99399,     0.99499,       0.996,       0.997,       0.998,       0.999,           1]), array([[    0.98396,     0.98396,     0.98316,     0.98196,     0.98156,     0.98156,     0.98156,     0.98115,     0.98115,     0.98115,     0.98115,     0.98064,     0.97995,     0.97995,     0.97955,     0.97915,     0.97915,     0.97875,     0.97875,     0.97875,     0.97835,     0.97795,     0.97755,\n",
      "            0.97715,     0.97634,     0.97554,     0.97514,     0.97514,     0.97434,     0.97434,     0.97434,     0.97434,     0.97434,     0.97354,     0.97354,     0.97314,     0.97314,     0.97314,     0.97314,     0.97314,     0.97314,     0.97314,     0.97314,     0.97314,     0.97273,     0.97273,\n",
      "            0.97273,     0.97193,     0.97153,     0.97113,     0.97113,     0.97113,     0.97073,     0.97073,     0.97073,     0.97073,     0.97073,     0.97073,     0.97067,     0.97033,     0.97033,     0.97033,     0.97033,     0.97033,     0.97033,     0.97033,     0.97033,     0.97033,     0.97033,\n",
      "            0.97033,     0.97033,     0.97033,     0.97033,     0.96913,     0.96905,     0.96872,     0.96872,     0.96872,     0.96872,     0.96872,     0.96832,     0.96832,     0.96832,     0.96832,     0.96832,     0.96832,     0.96752,     0.96752,     0.96752,     0.96752,     0.96712,     0.96712,\n",
      "            0.96672,     0.96632,     0.96632,     0.96632,     0.96592,     0.96592,     0.96592,     0.96592,     0.96592,     0.96539,     0.96512,     0.96512,     0.96474,     0.96472,     0.96431,     0.96426,     0.96391,     0.96391,     0.96391,     0.96351,     0.96351,     0.96351,     0.96351,\n",
      "            0.96351,     0.96351,     0.96351,     0.96271,     0.96271,     0.96271,     0.96271,     0.96231,     0.96231,     0.96199,     0.96151,     0.96151,     0.96151,     0.96151,     0.96151,     0.96151,     0.96151,     0.96151,     0.96143,     0.96111,     0.96071,     0.96071,      0.9603,\n",
      "             0.9603,     0.96012,      0.9599,      0.9599,      0.9599,      0.9599,      0.9599,      0.9595,      0.9595,      0.9595,     0.95947,      0.9591,      0.9591,      0.9591,      0.9591,     0.95907,      0.9587,      0.9587,      0.9587,      0.9579,      0.9579,      0.9579,      0.9579,\n",
      "             0.9579,      0.9579,      0.9579,      0.9579,      0.9579,      0.9575,      0.9575,      0.9575,      0.9571,     0.95701,      0.9563,     0.95588,     0.95555,     0.95549,     0.95549,     0.95549,     0.95549,     0.95549,     0.95549,     0.95549,     0.95549,     0.95549,     0.95549,\n",
      "            0.95511,     0.95469,     0.95469,     0.95469,     0.95469,     0.95469,     0.95469,     0.95469,     0.95469,     0.95429,     0.95429,     0.95429,     0.95419,     0.95403,     0.95389,     0.95389,     0.95389,     0.95389,     0.95389,     0.95384,     0.95349,     0.95349,     0.95309,\n",
      "            0.95309,     0.95309,     0.95309,     0.95269,     0.95269,     0.95229,     0.95229,     0.95229,     0.95229,     0.95229,     0.95229,     0.95229,     0.95229,     0.95229,     0.95229,     0.95177,     0.95148,     0.95062,     0.95035,     0.95028,     0.94988,     0.94988,     0.94988,\n",
      "            0.94988,     0.94988,     0.94988,     0.94948,     0.94948,     0.94948,     0.94948,     0.94944,     0.94937,     0.94931,     0.94925,     0.94918,     0.94912,     0.94908,     0.94875,     0.94868,     0.94868,     0.94868,     0.94868,     0.94868,     0.94868,     0.94868,     0.94813,\n",
      "            0.94787,     0.94778,     0.94768,     0.94759,      0.9475,     0.94702,     0.94695,     0.94687,      0.9468,     0.94672,     0.94667,     0.94667,     0.94667,     0.94667,     0.94667,     0.94667,     0.94667,     0.94667,     0.94667,     0.94667,     0.94667,     0.94667,     0.94667,\n",
      "            0.94667,     0.94667,     0.94667,     0.94667,     0.94667,     0.94667,     0.94667,     0.94667,     0.94667,     0.94667,     0.94667,     0.94667,     0.94667,     0.94667,     0.94667,     0.94652,     0.94627,     0.94627,     0.94627,     0.94627,     0.94627,     0.94627,     0.94627,\n",
      "            0.94601,     0.94567,     0.94547,     0.94547,     0.94507,     0.94507,     0.94507,     0.94507,     0.94507,     0.94504,     0.94489,     0.94474,     0.94438,     0.94427,     0.94427,     0.94427,     0.94406,     0.94387,      0.9435,     0.94346,     0.94306,     0.94266,     0.94266,\n",
      "            0.94266,     0.94266,     0.94266,     0.94266,     0.94266,     0.94226,     0.94226,     0.94226,     0.94226,     0.94226,      0.9421,     0.94173,     0.94149,     0.94146,     0.94146,     0.94146,     0.94146,     0.94127,     0.94106,     0.94106,     0.94106,     0.94062,     0.94026,\n",
      "            0.94026,     0.94026,     0.94026,     0.94026,     0.94026,     0.94008,     0.93986,     0.93986,     0.93986,     0.93986,     0.93977,     0.93953,     0.93945,     0.93945,     0.93945,     0.93945,     0.93945,     0.93945,     0.93945,     0.93945,     0.93893,     0.93872,     0.93865,\n",
      "            0.93815,     0.93804,     0.93793,     0.93782,     0.93771,      0.9376,     0.93749,     0.93745,     0.93745,     0.93708,     0.93705,     0.93705,     0.93665,     0.93659,     0.93639,     0.93625,     0.93625,     0.93625,     0.93625,     0.93625,     0.93585,     0.93585,     0.93585,\n",
      "            0.93585,     0.93585,     0.93585,     0.93585,     0.93569,     0.93545,     0.93545,     0.93545,     0.93545,     0.93545,     0.93545,     0.93545,     0.93545,     0.93537,     0.93529,      0.9352,     0.93511,     0.93504,     0.93504,     0.93504,     0.93504,     0.93504,     0.93464,\n",
      "            0.93464,     0.93464,     0.93464,     0.93464,     0.93459,      0.9345,     0.93442,     0.93434,     0.93426,     0.93421,     0.93384,     0.93379,     0.93344,     0.93344,     0.93336,     0.93299,     0.93279,     0.93264,      0.9326,     0.93246,     0.93232,     0.93224,     0.93224,\n",
      "            0.93224,     0.93224,     0.93224,     0.93216,     0.93206,     0.93196,     0.93185,     0.93184,     0.93184,     0.93144,     0.93106,     0.93025,     0.93023,     0.93023,     0.93023,     0.93021,     0.92983,     0.92977,     0.92943,     0.92927,     0.92903,     0.92903,     0.92883,\n",
      "            0.92863,     0.92863,     0.92863,     0.92863,     0.92863,     0.92863,     0.92836,     0.92814,       0.928,     0.92786,     0.92783,     0.92783,     0.92766,     0.92746,     0.92668,     0.92662,     0.92662,     0.92662,     0.92662,     0.92582,     0.92569,     0.92555,     0.92542,\n",
      "            0.92542,     0.92542,     0.92542,     0.92542,     0.92542,     0.92542,     0.92542,     0.92542,     0.92542,     0.92542,     0.92502,     0.92502,     0.92502,     0.92485,     0.92456,     0.92442,     0.92429,     0.92422,       0.924,     0.92382,     0.92382,     0.92382,     0.92382,\n",
      "            0.92382,     0.92382,     0.92353,     0.92334,     0.92324,     0.92314,     0.92303,     0.92302,     0.92302,     0.92302,     0.92283,     0.92263,     0.92242,     0.92222,     0.92221,      0.9222,     0.92141,     0.92139,     0.92119,     0.92096,     0.92021,     0.92021,     0.92021,\n",
      "            0.91981,     0.91981,     0.91975,     0.91954,     0.91941,     0.91938,      0.9193,     0.91921,     0.91913,     0.91905,     0.91881,      0.9174,      0.9174,      0.9174,      0.9174,     0.91716,       0.917,       0.917,       0.917,     0.91671,     0.91645,     0.91625,     0.91548,\n",
      "             0.9154,     0.91523,     0.91502,     0.91442,     0.91421,     0.91333,      0.9132,     0.91306,     0.91198,     0.91179,     0.91168,     0.91147,     0.91074,     0.90993,     0.90978,     0.90951,     0.90938,     0.90938,     0.90938,     0.90938,     0.90938,     0.90938,     0.90904,\n",
      "            0.90898,      0.9084,     0.90819,     0.90739,     0.90698,     0.90697,     0.90657,     0.90629,      0.9061,     0.90596,     0.90582,     0.90457,     0.90429,     0.90388,     0.90337,     0.90337,     0.90337,     0.90304,     0.90257,     0.90257,     0.90257,     0.90257,     0.90208,\n",
      "            0.90187,     0.90176,     0.90176,     0.90176,     0.90165,     0.90145,     0.90096,     0.90071,     0.90029,     0.89928,     0.89894,     0.89883,     0.89873,     0.89863,     0.89775,     0.89775,     0.89735,      0.8972,     0.89622,     0.89577,     0.89495,     0.89375,     0.89354,\n",
      "            0.89333,     0.89293,     0.89272,     0.89254,     0.89229,     0.89174,     0.89174,     0.89145,     0.89104,     0.89063,     0.88992,     0.88933,     0.88933,     0.88933,     0.88933,     0.88933,     0.88898,     0.88815,     0.88793,     0.88773,     0.88773,     0.88773,     0.88773,\n",
      "            0.88668,     0.88627,     0.88546,     0.88465,     0.88424,     0.88352,     0.88321,     0.88287,     0.88271,     0.88254,     0.88243,     0.88233,     0.88223,     0.88212,     0.88162,     0.88142,     0.88111,     0.88077,     0.87971,     0.87971,     0.87966,     0.87885,     0.87806,\n",
      "            0.87779,     0.87742,     0.87638,     0.87622,     0.87599,     0.87522,     0.87494,     0.87398,     0.87384,     0.87371,     0.87304,     0.87231,      0.8719,     0.87155,     0.87128,     0.87108,     0.87046,     0.87019,     0.86916,     0.86895,      0.8683,      0.8676,     0.86629,\n",
      "            0.86592,     0.86572,     0.86535,     0.86434,     0.86393,     0.86216,      0.8617,     0.86102,     0.86068,     0.86027,     0.85926,     0.85844,     0.85801,     0.85742,     0.85701,     0.85686,     0.85679,      0.8563,     0.85551,      0.8553,     0.85515,     0.85501,     0.85488,\n",
      "            0.85451,     0.85433,      0.8542,     0.85406,     0.85327,     0.85286,     0.85145,     0.85063,     0.85004,     0.84962,     0.84935,     0.84827,      0.8476,     0.84732,     0.84665,     0.84594,     0.84553,     0.84435,     0.84408,       0.843,     0.84175,     0.84127,     0.83966,\n",
      "             0.8383,     0.83803,     0.83761,     0.83721,      0.8368,     0.83653,     0.83498,     0.83457,     0.83303,     0.83108,     0.83053,     0.82831,     0.82632,     0.82605,     0.82507,      0.8227,     0.82242,     0.82157,     0.81927,     0.81881,     0.81719,     0.81638,     0.81556,\n",
      "            0.81516,     0.81434,     0.81333,     0.81073,     0.81045,     0.80834,     0.80834,     0.80834,     0.80465,     0.80224,     0.79982,      0.7989,     0.79679,     0.79458,     0.79363,     0.79127,     0.78878,     0.78869,     0.78751,      0.7863,     0.78589,     0.78307,      0.7828,\n",
      "            0.78085,     0.77987,     0.77777,     0.77721,     0.77559,     0.77278,     0.77145,     0.77115,     0.76963,     0.76793,     0.76575,     0.76548,     0.76394,     0.76067,     0.75788,      0.7565,     0.75622,     0.75354,      0.7528,     0.75098,     0.74817,     0.74611,     0.74554,\n",
      "            0.74152,     0.73839,     0.73641,      0.7341,     0.73383,     0.72994,     0.72753,     0.72548,       0.724,     0.71998,     0.71901,     0.71257,     0.70785,     0.70371,     0.70048,     0.69606,     0.69325,      0.6912,     0.68717,      0.6858,     0.68192,     0.67709,     0.67314,\n",
      "            0.66872,      0.6667,     0.66268,     0.65894,     0.65845,      0.6553,     0.65046,     0.64643,     0.64241,     0.64016,     0.63715,     0.63192,     0.62428,     0.61865,     0.61181,     0.60738,     0.60295,     0.59697,     0.59289,     0.58685,     0.58122,     0.57278,     0.56594,\n",
      "            0.55389,     0.54986,     0.54263,     0.53258,     0.52334,      0.5141,     0.50405,     0.49682,     0.49158,     0.47512,     0.46468,     0.45223,     0.44299,     0.43254,      0.4237,     0.40965,     0.39679,     0.38114,     0.36949,     0.35904,     0.34419,     0.32372,     0.31408,\n",
      "            0.30524,      0.2972,     0.27953,     0.26829,     0.25864,     0.24178,     0.22572,     0.21247,     0.20002,     0.18958,     0.17272,     0.16468,     0.14942,     0.13817,     0.12773,     0.11768,     0.10363,    0.092785,    0.085146,    0.076305,    0.068266,    0.058222,    0.050984,\n",
      "           0.044148,    0.040519,    0.037292,    0.031658,     0.02843,    0.026004,    0.021975,    0.019549,    0.016321,    0.014697,    0.013754,    0.012652,    0.010125,   0.0086024,   0.0070979,   0.0061565,   0.0044716,   0.0038696,   0.0037052,   0.0030381,    0.001915,   0.0017095,   0.0014707,\n",
      "          0.0011983,  0.00099277,  0.00074333,           0,           0,           0,           0,           0,           0,           0,           0,           0,           0,           0,           0,           0,           0,           0,           0,           0,           0,           0,           0,\n",
      "                  0,           0,           0,           0,           0,           0,           0,           0,           0,           0,           0,           0,           0,           0,           0,           0,           0,           0,           0,           0,           0,           0,           0,\n",
      "                  0,           0,           0,           0,           0,           0,           0,           0,           0,           0,           0,           0,           0,           0,           0,           0,           0,           0,           0,           0,           0,           0,           0,\n",
      "                  0,           0,           0,           0,           0,           0,           0,           0,           0,           0,           0]]), 'Confidence', 'Recall']]\n",
      "fitness: 0.7841819307871705\n",
      "keys: ['metrics/precision(B)', 'metrics/recall(B)', 'metrics/mAP50(B)', 'metrics/mAP50-95(B)']\n",
      "maps: array([    0.76341])\n",
      "names: {0: 'license_plate'}\n",
      "plot: True\n",
      "results_dict: {'metrics/precision(B)': 0.9482579449064666, 'metrics/recall(B)': 0.9238171611868484, 'metrics/mAP50(B)': 0.9711572663453891, 'metrics/mAP50-95(B)': 0.7634068935029239, 'fitness': 0.7841819307871705}\n",
      "save_dir: PosixPath('runs/detect/train7')\n",
      "speed: {'preprocess': 0.1685864150924729, 'inference': 2.225001367936921, 'loss': 0.0004398584764512291, 'postprocess': 0.7788087735687715}\n",
      "task: 'detect'\n"
     ]
    }
   ],
   "execution_count": 4
  },
  {
   "metadata": {
    "ExecuteTime": {
     "end_time": "2025-02-24T18:18:19.516661Z",
     "start_time": "2025-02-24T18:18:19.513140Z"
    }
   },
   "cell_type": "code",
   "source": "%matplotlib inline",
   "id": "be69f14303fe3472",
   "outputs": [],
   "execution_count": 23
  },
  {
   "metadata": {
    "ExecuteTime": {
     "end_time": "2025-02-24T18:18:21.527424Z",
     "start_time": "2025-02-24T18:18:21.267579Z"
    }
   },
   "cell_type": "code",
   "source": [
    "import pandas as pd\n",
    "import matplotlib.pyplot as plt\n",
    "\n",
    "# Load the results CSV file\n",
    "csv_path = \"./runs/detect/train7/results.csv\"\n",
    "df = pd.read_csv(csv_path)\n",
    "\n",
    "# Print first few rows to verify\n",
    "print(df.head())\n",
    "\n",
    "# Create a figure with two subplots: one for training losses and one for evaluation metrics\n",
    "plt.figure(figsize=(14, 6))\n",
    "\n",
    "# Subplot 1: Training losses (box_loss, cls_loss, dfl_loss)\n",
    "plt.subplot(1, 2, 1)\n",
    "plt.plot(df['epoch'], df['train/box_loss'], label='Box Loss', marker='o')\n",
    "plt.plot(df['epoch'], df['train/cls_loss'], label='Class Loss', marker='o')\n",
    "plt.plot(df['epoch'], df['train/dfl_loss'], label='DFL Loss', marker='o')\n",
    "plt.xlabel('Epoch')\n",
    "plt.ylabel('Loss')\n",
    "plt.title('Training Losses')\n",
    "plt.legend()\n",
    "plt.grid(True)\n",
    "\n",
    "# Subplot 2: Evaluation metrics (precision, recall, mAP50, mAP50-95)\n",
    "plt.subplot(1, 2, 2)\n",
    "plt.plot(df['epoch'], df['metrics/precision(B)'], label='Precision', marker='o')\n",
    "plt.plot(df['epoch'], df['metrics/recall(B)'], label='Recall', marker='o')\n",
    "plt.plot(df['epoch'], df['metrics/mAP50(B)'], label='mAP50', marker='o')\n",
    "plt.plot(df['epoch'], df['metrics/mAP50-95(B)'], label='mAP50-95', marker='o')\n",
    "plt.xlabel('Epoch')\n",
    "plt.ylabel('Metric Value')\n",
    "plt.title('Evaluation Metrics')\n",
    "plt.legend()\n",
    "plt.grid(True)\n",
    "\n",
    "plt.tight_layout()\n",
    "plt.show()"
   ],
   "id": "28825b32e49d58a9",
   "outputs": [
    {
     "name": "stdout",
     "output_type": "stream",
     "text": [
      "   epoch     time  train/box_loss  train/cls_loss  train/dfl_loss  \\\n",
      "0      1  196.134         1.24760         1.64402         1.05895   \n",
      "1      2  369.284         1.18746         0.90145         1.02581   \n",
      "2      3  547.393         1.13574         0.76696         1.01366   \n",
      "3      4  722.405         1.12471         0.72476         1.00666   \n",
      "4      5  897.346         1.08893         0.69355         0.99708   \n",
      "\n",
      "   metrics/precision(B)  metrics/recall(B)  metrics/mAP50(B)  \\\n",
      "0               0.92573            0.86465           0.90291   \n",
      "1               0.91163            0.86862           0.90573   \n",
      "2               0.92093            0.87089           0.92224   \n",
      "3               0.91156            0.88023           0.92834   \n",
      "4               0.92369            0.88733           0.93409   \n",
      "\n",
      "   metrics/mAP50-95(B)  val/box_loss  val/cls_loss  val/dfl_loss    lr/pg0  \\\n",
      "0              0.60326       1.10732       0.86267       0.99139  0.000665   \n",
      "1              0.60257       1.07378       0.74222       0.99194  0.001306   \n",
      "2              0.63745       1.03083       0.65364       0.96623  0.001920   \n",
      "3              0.64299       1.00879       0.63968       0.96818  0.001881   \n",
      "4              0.65760       0.98114       0.58455       0.94484  0.001842   \n",
      "\n",
      "     lr/pg1    lr/pg2  \n",
      "0  0.000665  0.000665  \n",
      "1  0.001306  0.001306  \n",
      "2  0.001920  0.001920  \n",
      "3  0.001881  0.001881  \n",
      "4  0.001842  0.001842  \n"
     ]
    },
    {
     "data": {
      "text/plain": [
       "<Figure size 1400x600 with 2 Axes>"
      ],
      "image/png": "[encoded data removed]"
     },
     "metadata": {},
     "output_type": "display_data"
    }
   ],
   "execution_count": 24
  }
 ],
 "metadata": {
  "kernelspec": {
   "display_name": "Python 3",
   "language": "python",
   "name": "python3"
  },
  "language_info": {
   "codemirror_mode": {
    "name": "ipython",
    "version": 2
   },
   "file_extension": ".py",
   "mimetype": "text/x-python",
   "name": "python",
   "nbconvert_exporter": "python",
   "pygments_lexer": "ipython2",
   "version": "2.7.6"
  }
 },
 "nbformat": 4,
 "nbformat_minor": 5
}
